{
 "cells": [
  {
   "cell_type": "code",
   "execution_count": 2,
   "metadata": {},
   "outputs": [
    {
     "data": {
      "text/html": [
       "        <script type=\"text/javascript\">\n",
       "        window.PlotlyConfig = {MathJaxConfig: 'local'};\n",
       "        if (window.MathJax && window.MathJax.Hub && window.MathJax.Hub.Config) {window.MathJax.Hub.Config({SVG: {font: \"STIX-Web\"}});}\n",
       "        if (typeof require !== 'undefined') {\n",
       "        require.undef(\"plotly\");\n",
       "        requirejs.config({\n",
       "            paths: {\n",
       "                'plotly': ['https://cdn.plot.ly/plotly-2.32.0.min']\n",
       "            }\n",
       "        });\n",
       "        require(['plotly'], function(Plotly) {\n",
       "            window._Plotly = Plotly;\n",
       "        });\n",
       "        }\n",
       "        </script>\n",
       "        "
      ]
     },
     "metadata": {},
     "output_type": "display_data"
    },
    {
     "name": "stderr",
     "output_type": "stream",
     "text": [
      "c:\\Users\\Jon\\AppData\\Local\\Programs\\Python\\Python311\\Lib\\site-packages\\tqdm\\auto.py:21: TqdmWarning:\n",
      "\n",
      "IProgress not found. Please update jupyter and ipywidgets. See https://ipywidgets.readthedocs.io/en/stable/user_install.html\n",
      "\n"
     ]
    }
   ],
   "source": [
    "# Importing Libraries\n",
    "\n",
    "# Data Handling\n",
    "import pandas as pd\n",
    "import numpy as np\n",
    "from collections import defaultdict\n",
    "from concurrent.futures import ThreadPoolExecutor\n",
    "\n",
    "# Efficient Looping\n",
    "import itertools\n",
    "\n",
    "# Traceback for diagnosis\n",
    "import traceback\n",
    "\n",
    "# Data Visualization\n",
    "import plotly.express as px\n",
    "import plotly.graph_objs as go\n",
    "import plotly.subplots as sp\n",
    "from plotly.subplots import make_subplots\n",
    "import plotly.figure_factory as ff\n",
    "import plotly.io as pio\n",
    "from IPython.display import display\n",
    "from plotly.offline import init_notebook_mode\n",
    "init_notebook_mode(connected=True)\n",
    "\n",
    "# Statistics & Mathematics\n",
    "import scipy.stats as stats\n",
    "import statsmodels.api as sm\n",
    "from scipy.stats import shapiro, skew, anderson, kstest\n",
    "import math\n",
    "\n",
    "# Feature Selection\n",
    "from sklearn.feature_selection import (\n",
    "    RFECV, SelectKBest, chi2, f_classif, f_regression,\n",
    "    mutual_info_classif, mutual_info_regression\n",
    ")\n",
    "\n",
    "# Machine Learning Pipeline\n",
    "from sklearn.pipeline import Pipeline\n",
    "from sklearn.compose import ColumnTransformer\n",
    "from sklearn.base import BaseEstimator, TransformerMixin,ClassifierMixin\n",
    "\n",
    "# Preprocessing data\n",
    "from sklearn.preprocessing import RobustScaler, StandardScaler, QuantileTransformer, FunctionTransformer\n",
    "\n",
    "from sklearn.compose import ColumnTransformer\n",
    "from sklearn.base import BaseEstimator, TransformerMixin\n",
    "\n",
    "# Model Selection for Cross Validation\n",
    "from sklearn.model_selection import (\n",
    "    StratifiedKFold, KFold, \n",
    "    RepeatedKFold, RepeatedStratifiedKFold,\n",
    "    train_test_split, TimeSeriesSplit\n",
    ")\n",
    "\n",
    "# Machine Learning metrics\n",
    "from sklearn.metrics import (\n",
    "    mean_squared_error,\n",
    "    r2_score,\n",
    "    mean_absolute_error,\n",
    "    cohen_kappa_score,\n",
    "    make_scorer,\n",
    "    roc_curve,\n",
    "    auc,\n",
    "    accuracy_score,\n",
    "    f1_score,\n",
    "    precision_score,\n",
    "    recall_score,\n",
    "    confusion_matrix\n",
    ")\n",
    "\n",
    "# ML regressors\n",
    "from sklearn.linear_model import HuberRegressor,RANSACRegressor, TheilSenRegressor, Ridge, Lasso, ElasticNet\n",
    "from sklearn.svm import SVR, NuSVR, LinearSVR\n",
    "from sklearn.ensemble import (\n",
    "    HistGradientBoostingRegressor, StackingRegressor, \n",
    "    AdaBoostRegressor, RandomForestRegressor, ExtraTreesRegressor,\n",
    "    GradientBoostingRegressor, StackingRegressor, VotingRegressor\n",
    "    )\n",
    "# from catboost import CatBoostRegressor\n",
    "from xgboost import XGBRegressor\n",
    "from lightgbm import LGBMRegressor\n",
    "\n",
    "\n",
    "# ML classifiers\n",
    "from sklearn.linear_model import LogisticRegression, RidgeClassifier\n",
    "from sklearn.svm import SVC, NuSVC, LinearSVC\n",
    "from sklearn.ensemble import (\n",
    "    HistGradientBoostingClassifier, AdaBoostClassifier, \n",
    "    RandomForestClassifier, GradientBoostingClassifier,\n",
    "    StackingClassifier, VotingClassifier,ExtraTreesClassifier\n",
    "    )\n",
    "from sklearn.tree import DecisionTreeClassifier\n",
    "# from catboost import CatBoostClassifier\n",
    "from xgboost import XGBClassifier\n",
    "from lightgbm import LGBMClassifier\n",
    "\n",
    "# Clustering algorithms\n",
    "from sklearn.cluster import KMeans\n",
    "\n",
    "# Fine-tuning \n",
    "import optuna\n",
    "\n",
    "# Randomizer\n",
    "import random\n",
    "\n",
    "# Encoder of categorical variables\n",
    "from sklearn.preprocessing import OrdinalEncoder, OneHotEncoder\n",
    "\n",
    "# OS\n",
    "import os\n",
    "\n",
    "# Image package\n",
    "from PIL import Image\n",
    "\n",
    "# Hiding warnings \n",
    "import warnings\n",
    "warnings.filterwarnings(\"ignore\")"
   ]
  },
  {
   "cell_type": "code",
   "execution_count": 3,
   "metadata": {},
   "outputs": [],
   "source": [
    "\n",
    "# Importing Keras \n",
    "from keras.models import Sequential                          # Neural network model as a sequence of layers.\n",
    "from keras.layers import Conv2D                              # Convolutional layer\n",
    "from keras.layers import MaxPooling2D                        # Max pooling layer \n",
    "from keras.layers import Flatten                             # Layer used to flatten 2D arrays for fully-connected layers.\n",
    "from keras.layers import Dense                               # This layer adds fully-connected layers to the neural network.\n",
    "from keras.layers import Dropout                             # This serves to prevent overfitting by dropping out a random set of activations.\n",
    "from keras.layers import BatchNormalization                  # This is used to normalize the activations of the neurons.\n",
    "from keras.layers import Activation                         # Layer for activation functions\n",
    "from keras.layers import Concatenate                        # To concatenate two models together\n",
    "from keras.callbacks import EarlyStopping, ModelCheckpoint   # Classes used to save weights and stop training when improvements reach a limit\n",
    "from keras.models import load_model                          # This helps us to load trained models\n",
    "# Preprocessing layers\n",
    "from keras.layers import Rescaling                           # This layer rescales pixel values\n",
    "from keras.applications import ResNet50V2                   # Use for ResnetV2\n",
    "# Importing TensorFlow\n",
    "import tensorflow as tf"
   ]
  },
  {
   "cell_type": "code",
   "execution_count": 4,
   "metadata": {},
   "outputs": [],
   "source": [
    "paper_color = '#EEF6FF'\n",
    "bg_color = '#EEF6FF'\n",
    "model_name = 'resnet'"
   ]
  },
  {
   "cell_type": "code",
   "execution_count": 5,
   "metadata": {},
   "outputs": [],
   "source": [
    "def image_resizer(paths):\n",
    "    \"\"\"\n",
    "    This function resizes the input images\n",
    "    \"\"\"\n",
    "    with ThreadPoolExecutor() as executor:\n",
    "        resized_images = list(executor.map(lambda x: Image.open(x).resize((350,250)), paths))\n",
    "    return resized_images\n",
    "def plot_images_list(images, title, subtitle):\n",
    "    '''\n",
    "    This functions helps to plot a matrix of images in a list\n",
    "    '''\n",
    "    fig = sp.make_subplots(rows=3, cols=3)\n",
    "    images = image_resizer(images)\n",
    "    \n",
    "    traces = []\n",
    "    for i in range(min(9, len(images))):\n",
    "        img = go.Image(z=images[i])\n",
    "        traces.append((img, i//3+1, i%3+1))\n",
    "        \n",
    "    fig.add_traces([trace[0] for trace in traces],\n",
    "                  rows = [trace[1] for trace in traces],\n",
    "                  cols = [trace[2] for trace in traces])\n",
    "\n",
    "    fig.update_layout(\n",
    "        title={'text': f'<b>{title}<br>  <i><sub>{subtitle}</sub></i></b>',\n",
    "               'font': dict(size = 22)},\n",
    "        height=800,\n",
    "        width=800,\n",
    "        margin=dict(t=110, l=80),\n",
    "        plot_bgcolor=bg_color,paper_bgcolor=paper_color\n",
    "        #template=template\n",
    "    )\n",
    "    fig.show()"
   ]
  },
  {
   "cell_type": "code",
   "execution_count": 6,
   "metadata": {},
   "outputs": [
    {
     "name": "stdout",
     "output_type": "stream",
     "text": [
      "\n",
      "* * * * * Number of files in each folder * * * * *\n",
      "\n",
      "\n",
      "train_dir/fractured: 4248\n",
      "\n",
      "train_dir/not_fractured: 4155\n",
      "\n",
      "  Total: 8403\n",
      "--------------------------------------------------------------------------------\n",
      "\n",
      "validation_dir/fractured: 232\n",
      "\n",
      "validation_dir/not_fractured: 228\n",
      "\n",
      "  Total: 460\n",
      "--------------------------------------------------------------------------------\n",
      "\n",
      "test_dir/fractured: 360\n",
      "\n",
      "test_dir/not_fractured: 240\n",
      "\n",
      "  Total: 600\n",
      "--------------------------------------------------------------------------------\n"
     ]
    }
   ],
   "source": [
    "import os\n",
    "\n",
    "# begin_path = 'C:/Users/jonpg/OneDrive/Documents/School/CS 770/bone_fractures/'\n",
    "begin_path = 'C:/Users/Jon/Documents/School/CS 770/bone_fractures/'\n",
    "\n",
    "train_dir = begin_path + 'train'\n",
    "validation_dir = begin_path + 'validation'\n",
    "test_dir = begin_path + 'test'\n",
    "# Giving names to each directory\n",
    "directories = {\n",
    "    'train_dir': train_dir,\n",
    "    'validation_dir': validation_dir,\n",
    "    'test_dir': test_dir\n",
    "    }\n",
    "\n",
    "# Naming subfolders\n",
    "subfolders = ['fractured','not_fractured']\n",
    "\n",
    "print('\\n* * * * * Number of files in each folder * * * * *\\n')\n",
    "\n",
    "# Counting the total of pictures inside each subfolder and directory\n",
    "for name, dir  in directories.items():\n",
    "    total = 0\n",
    "    for sub in subfolders:\n",
    "        path = os.path.join(dir, sub)\n",
    "        num_files = len([f for f in os.listdir(path) if os.path.join(path, f)])\n",
    "        total += num_files\n",
    "        print(f'\\n{name}/{sub}: {num_files}')\n",
    "    print(f'\\n  Total: {total}')\n",
    "    print(\"-\" * 80)"
   ]
  },
  {
   "cell_type": "code",
   "execution_count": 7,
   "metadata": {},
   "outputs": [
    {
     "name": "stdout",
     "output_type": "stream",
     "text": [
      "\n",
      "Found 156 unique image dimensions: {(750, 1254), (1126, 1062), (1546, 1398), (1213, 1713), (858, 954), (1500, 2044), (906, 1278), (1578, 2046), (1713, 2426), (1996, 2504), (878, 1878), (1081, 1560), (1500, 2974), (802, 1468), (750, 1256), (694, 1132), (1108, 1986), (877, 1272), (1642, 1828), (962, 1358), (1772, 1666), (1108, 1586), (1500, 1872), (1500, 2000), (762, 1086), (976, 1140), (858, 1468), (1500, 1664), (1650, 1106), (938, 1168), (750, 968), (1500, 2094), (1500, 1920), (1110, 1140), (858, 1150), (768, 1040), (1500, 1584), (1514, 1284), (1140, 1952), (1500, 1602), (1086, 1206), (1776, 3764), (2033, 1693), (844, 1410), (1500, 1568), (1500, 3792), (802, 1328), (548, 1066), (1602, 1890), (802, 928), (1052, 1066), (2944, 1714), (1058, 1680), (858, 1600), (2902, 1644), (750, 1628), (858, 1008), (1129, 1978), (1598, 2112), (900, 1090), (224, 224), (1500, 2018), (1279, 1522), (1500, 1972), (750, 910), (580, 920), (882, 1532), (1578, 2190), (1500, 1508), (866, 996), (858, 958), (1066, 1652), (1654, 1432), (1352, 1692), (889, 1284), (890, 1228), (3282, 2232), (1500, 2996), (1608, 1236), (1500, 2276), (2456, 2968), (4232, 2016), (1132, 1792), (1990, 1136), (1733, 858), (1886, 1274), (3332, 1680), (1223, 1668), (1500, 2086), (1430, 1140), (1568, 1092), (1500, 1558), (750, 1518), (894, 1986), (1374, 1510), (1500, 1896), (1500, 2744), (2818, 1500), (1506, 2504), (874, 1116), (851, 1160), (998, 1252), (1534, 2010), (988, 1412), (1582, 1678), (3100, 2118), (1014, 1068), (1739, 868), (816, 1168), (3138, 2056), (3364, 2130), (725, 1102), (1786, 2606), (1614, 1996), (1353, 1693), (1500, 1626), (1638, 2094), (1500, 1690), (1054, 1140), (2424, 3152), (750, 1412), (1666, 1350), (902, 1128), (1920, 2978), (788, 1908), (1962, 1220), (1500, 1500), (1032, 1222), (796, 1274), (792, 1252), (3142, 1982), (1530, 1672), (1382, 1932), (1630, 1768), (818, 1115), (1500, 2012), (964, 1288), (950, 1188), (1510, 1516), (1500, 3772), (1828, 1176), (1744, 2128), (1138, 1534), (1500, 1868), (858, 1016), (1500, 3372), (846, 1353), (1500, 1996), (1730, 2504), (1782, 1648), (1187, 1719), (758, 2024), (1500, 2014), (990, 1428), (758, 1432), (1616, 2000)}\n"
     ]
    }
   ],
   "source": [
    "unique_dimensions = set()\n",
    "\n",
    "for name, dir in directories.items():\n",
    "    for sub in subfolders:\n",
    "        folder_path = os.path.join(dir, sub)\n",
    "        \n",
    "        for file in os.listdir(folder_path):\n",
    "            image_path = os.path.join(folder_path, file)\n",
    "            with Image.open(image_path) as img:\n",
    "                unique_dimensions.add(img.size)\n",
    "                \n",
    "if len(unique_dimensions) == 1:\n",
    "    print(f\"\\nAll images have the same dimensions: {unique_dimensions.pop()}\")\n",
    "else:\n",
    "    print(f\"\\nFound {len(unique_dimensions)} unique image dimensions: {unique_dimensions}\")"
   ]
  },
  {
   "cell_type": "code",
   "execution_count": 8,
   "metadata": {},
   "outputs": [
    {
     "name": "stdout",
     "output_type": "stream",
     "text": [
      "\n",
      "Dimension (224, 224): 9273 images\n",
      "\n",
      "Dimension (3282, 2232): 1 images\n",
      "\n",
      "Dimension (1430, 1140): 2 images\n",
      "\n",
      "Dimension (1506, 2504): 1 images\n",
      "\n",
      "Dimension (1996, 2504): 9 images\n",
      "\n",
      "Dimension (990, 1428): 1 images\n",
      "\n",
      "Dimension (962, 1358): 1 images\n",
      "\n",
      "Dimension (3364, 2130): 1 images\n",
      "\n",
      "Dimension (3332, 1680): 1 images\n",
      "\n",
      "Dimension (1353, 1693): 16 images\n",
      "\n",
      "Dimension (1578, 2190): 1 images\n",
      "\n",
      "Dimension (2424, 3152): 1 images\n",
      "\n",
      "Dimension (1500, 2094): 1 images\n",
      "\n",
      "Dimension (1642, 1828): 1 images\n",
      "\n",
      "Dimension (1962, 1220): 1 images\n",
      "\n",
      "Dimension (1886, 1274): 1 images\n",
      "\n",
      "Dimension (1058, 1680): 1 images\n",
      "\n",
      "Dimension (1500, 1508): 1 images\n",
      "\n",
      "Dimension (1500, 1664): 1 images\n",
      "\n",
      "Dimension (1500, 2996): 1 images\n",
      "\n",
      "Dimension (1126, 1062): 1 images\n",
      "\n",
      "Dimension (858, 954): 1 images\n",
      "\n",
      "Dimension (894, 1986): 1 images\n",
      "\n",
      "Dimension (788, 1908): 1 images\n",
      "\n",
      "Dimension (816, 1168): 1 images\n",
      "\n",
      "Dimension (796, 1274): 1 images\n",
      "\n",
      "Dimension (1514, 1284): 1 images\n",
      "\n",
      "Dimension (1654, 1432): 1 images\n",
      "\n",
      "Dimension (1108, 1586): 1 images\n",
      "\n",
      "Dimension (1138, 1534): 1 images\n",
      "\n",
      "Dimension (1630, 1768): 1 images\n",
      "\n",
      "Dimension (802, 1328): 1 images\n",
      "\n",
      "Dimension (1733, 858): 1 images\n",
      "\n",
      "Dimension (1739, 868): 1 images\n",
      "\n",
      "Dimension (902, 1128): 1 images\n",
      "\n",
      "Dimension (802, 928): 1 images\n",
      "\n",
      "Dimension (1990, 1136): 1 images\n",
      "\n",
      "Dimension (1650, 1106): 1 images\n",
      "\n",
      "Dimension (1352, 1692): 2 images\n",
      "\n",
      "Dimension (1546, 1398): 1 images\n",
      "\n",
      "Dimension (1374, 1510): 1 images\n",
      "\n",
      "Dimension (1598, 2112): 1 images\n",
      "\n",
      "Dimension (1744, 2128): 1 images\n",
      "\n",
      "Dimension (750, 910): 1 images\n",
      "\n",
      "Dimension (750, 968): 1 images\n",
      "\n",
      "Dimension (851, 1160): 1 images\n",
      "\n",
      "Dimension (580, 920): 1 images\n",
      "\n",
      "Dimension (976, 1140): 1 images\n",
      "\n",
      "Dimension (1032, 1222): 1 images\n",
      "\n",
      "Dimension (988, 1412): 1 images\n",
      "\n",
      "Dimension (750, 1518): 1 images\n",
      "\n",
      "Dimension (1500, 1690): 1 images\n",
      "\n",
      "Dimension (1500, 1972): 1 images\n",
      "\n",
      "Dimension (906, 1278): 1 images\n",
      "\n",
      "Dimension (858, 1150): 1 images\n",
      "\n",
      "Dimension (762, 1086): 1 images\n",
      "\n",
      "Dimension (768, 1040): 1 images\n",
      "\n",
      "Dimension (3142, 1982): 1 images\n",
      "\n",
      "Dimension (3100, 2118): 1 images\n",
      "\n",
      "Dimension (1081, 1560): 2 images\n",
      "\n",
      "Dimension (1772, 1666): 2 images\n",
      "\n",
      "Dimension (1786, 2606): 1 images\n",
      "\n",
      "Dimension (1382, 1932): 2 images\n",
      "\n",
      "Dimension (3138, 2056): 1 images\n",
      "\n",
      "Dimension (1510, 1516): 1 images\n",
      "\n",
      "Dimension (1500, 2744): 1 images\n",
      "\n",
      "Dimension (1638, 2094): 1 images\n",
      "\n",
      "Dimension (2944, 1714): 1 images\n",
      "\n",
      "Dimension (2818, 1500): 1 images\n",
      "\n",
      "Dimension (858, 1016): 1 images\n",
      "\n",
      "Dimension (858, 1008): 1 images\n",
      "\n",
      "Dimension (1500, 2974): 1 images\n",
      "\n",
      "Dimension (1920, 2978): 1 images\n",
      "\n",
      "Dimension (1054, 1140): 1 images\n",
      "\n",
      "Dimension (877, 1272): 1 images\n",
      "\n",
      "Dimension (889, 1284): 1 images\n",
      "\n",
      "Dimension (1602, 1890): 1 images\n",
      "\n",
      "Dimension (1568, 1092): 1 images\n",
      "\n",
      "Dimension (1828, 1176): 1 images\n",
      "\n",
      "Dimension (866, 996): 1 images\n",
      "\n",
      "Dimension (858, 958): 1 images\n",
      "\n",
      "Dimension (1500, 1626): 1 images\n",
      "\n",
      "Dimension (1500, 1558): 1 images\n",
      "\n",
      "Dimension (725, 1102): 1 images\n",
      "\n",
      "Dimension (694, 1132): 1 images\n",
      "\n",
      "Dimension (1500, 1868): 1 images\n",
      "\n",
      "Dimension (1500, 2000): 1 images\n",
      "\n",
      "Dimension (1608, 1236): 1 images\n",
      "\n",
      "Dimension (1666, 1350): 1 images\n",
      "\n",
      "Dimension (1110, 1140): 1 images\n",
      "\n",
      "Dimension (1500, 3372): 1 images\n",
      "\n",
      "Dimension (1052, 1066): 1 images\n",
      "\n",
      "Dimension (758, 2024): 1 images\n",
      "\n",
      "Dimension (802, 1468): 1 images\n",
      "\n",
      "Dimension (1066, 1652): 1 images\n",
      "\n",
      "Dimension (750, 1628): 1 images\n",
      "\n",
      "Dimension (758, 1432): 1 images\n",
      "\n",
      "Dimension (792, 1252): 1 images\n",
      "\n",
      "Dimension (998, 1252): 1 images\n",
      "\n",
      "Dimension (1108, 1986): 1 images\n",
      "\n",
      "Dimension (1132, 1792): 1 images\n",
      "\n",
      "Dimension (750, 1412): 1 images\n",
      "\n",
      "Dimension (844, 1410): 1 images\n",
      "\n",
      "Dimension (1578, 2046): 1 images\n",
      "\n",
      "Dimension (1500, 2086): 1 images\n",
      "\n",
      "Dimension (1500, 1996): 4 images\n",
      "\n",
      "Dimension (1582, 1678): 1 images\n",
      "\n",
      "Dimension (900, 1090): 1 images\n",
      "\n",
      "Dimension (874, 1116): 1 images\n",
      "\n",
      "Dimension (938, 1168): 1 images\n",
      "\n",
      "Dimension (950, 1188): 1 images\n",
      "\n",
      "Dimension (1730, 2504): 1 images\n",
      "\n",
      "Dimension (1614, 1996): 1 images\n",
      "\n",
      "Dimension (2456, 2968): 2 images\n",
      "\n",
      "Dimension (858, 1600): 1 images\n",
      "\n",
      "Dimension (882, 1532): 1 images\n",
      "\n",
      "Dimension (1500, 1896): 1 images\n",
      "\n",
      "Dimension (1500, 1568): 1 images\n",
      "\n",
      "Dimension (1500, 3792): 1 images\n",
      "\n",
      "Dimension (1500, 2044): 1 images\n",
      "\n",
      "Dimension (1500, 2012): 1 images\n",
      "\n",
      "Dimension (1223, 1668): 1 images\n",
      "\n",
      "Dimension (1014, 1068): 1 images\n",
      "\n",
      "Dimension (1086, 1206): 1 images\n",
      "\n",
      "Dimension (964, 1288): 1 images\n",
      "\n",
      "Dimension (1213, 1713): 2 images\n",
      "\n",
      "Dimension (1500, 1920): 1 images\n",
      "\n",
      "Dimension (2033, 1693): 1 images\n",
      "\n",
      "Dimension (846, 1353): 2 images\n",
      "\n",
      "Dimension (1500, 1584): 1 images\n",
      "\n",
      "Dimension (1500, 1602): 1 images\n",
      "\n",
      "Dimension (818, 1115): 2 images\n",
      "\n",
      "Dimension (1782, 1648): 1 images\n",
      "\n",
      "Dimension (548, 1066): 1 images\n",
      "\n",
      "Dimension (1500, 1500): 1 images\n",
      "\n",
      "Dimension (1776, 3764): 1 images\n",
      "\n",
      "Dimension (1187, 1719): 1 images\n",
      "\n",
      "Dimension (1279, 1522): 1 images\n",
      "\n",
      "Dimension (890, 1228): 1 images\n",
      "\n",
      "Dimension (858, 1468): 1 images\n",
      "\n",
      "Dimension (1616, 2000): 1 images\n",
      "\n",
      "Dimension (1500, 2276): 1 images\n",
      "\n",
      "Dimension (878, 1878): 1 images\n",
      "\n",
      "Dimension (750, 1254): 1 images\n",
      "\n",
      "Dimension (750, 1256): 1 images\n",
      "\n",
      "Dimension (1534, 2010): 1 images\n",
      "\n",
      "Dimension (4232, 2016): 1 images\n",
      "\n",
      "Dimension (1140, 1952): 1 images\n",
      "\n",
      "Dimension (1129, 1978): 1 images\n",
      "\n",
      "Dimension (2902, 1644): 1 images\n",
      "\n",
      "Dimension (1500, 3772): 1 images\n",
      "\n",
      "Dimension (1713, 2426): 1 images\n",
      "\n",
      "Dimension (1500, 2014): 1 images\n",
      "\n",
      "Dimension (1500, 1872): 1 images\n",
      "\n",
      "Dimension (1530, 1672): 1 images\n",
      "\n",
      "Dimension (1500, 2018): 1 images\n"
     ]
    }
   ],
   "source": [
    "# Checking if all the images in the dataset have the same dimensions\n",
    "dims_counts = defaultdict(int)\n",
    "\n",
    "for name,dir in directories.items():\n",
    "    for sub in subfolders:\n",
    "        folder_path = os.path.join(dir, sub)\n",
    "        \n",
    "        for file in os.listdir(folder_path):\n",
    "            image_path = os.path.join(folder_path, file)\n",
    "            with Image.open(image_path) as img:\n",
    "                dims_counts[img.size] += 1\n",
    "                \n",
    "for dimension, count in dims_counts.items():\n",
    "    print(f\"\\nDimension {dimension}: {count} images\")"
   ]
  },
  {
   "cell_type": "code",
   "execution_count": 9,
   "metadata": {},
   "outputs": [
    {
     "name": "stdout",
     "output_type": "stream",
     "text": [
      " - Not all images are of data type uint8\n",
      "\n",
      " - All images have pixel values ranging from 0 to 255\n"
     ]
    }
   ],
   "source": [
    "# Checking images dtype\n",
    "all_uint8 = True\n",
    "all_in_range = True\n",
    "\n",
    "for name, dir in directories.items():\n",
    "    for sub in subfolders:\n",
    "        folder_path = os.path.join(dir, sub)\n",
    "        \n",
    "        for file in os.listdir(folder_path):\n",
    "            image_path = os.path.join(folder_path, file)\n",
    "            with Image.open(image_path) as img:\n",
    "                img_array = np.array(img)\n",
    "                \n",
    "            if img_array.dtype == 'uint8':\n",
    "                all_uint8 = False\n",
    "            \n",
    "            if img_array.min() < 0 or img_array.max() > 255:\n",
    "                all_in_range = False\n",
    "                \n",
    "if all_uint8:\n",
    "    print(\" - All images are of data type uint8\\n\")\n",
    "else:\n",
    "    print(\" - Not all images are of data type uint8\\n\")\n",
    "    \n",
    "if all_in_range:\n",
    "    print(\" - All images have pixel values ranging from 0 to 255\")\n",
    "else:\n",
    "    print(\" - Not all images have the same pixel values from 0 to 255\")"
   ]
  },
  {
   "cell_type": "code",
   "execution_count": 10,
   "metadata": {},
   "outputs": [],
   "source": [
    "# Loading the directory for each class in the training dataset\n",
    "train_list =[]\n",
    "for sub in subfolders:\n",
    "    train_list.append(train_dir+'/'+sub)\n",
    "\n",
    "files_dict = {}\n",
    "# Selecting 9 random pictures from each directory\n",
    "for path in train_list:\n",
    "    files_dict[path] = random.sample(os.listdir(path), 9)"
   ]
  },
  {
   "cell_type": "code",
   "execution_count": 11,
   "metadata": {},
   "outputs": [],
   "source": [
    "\n",
    "# Plotting healthy plants\n",
    "# for path in files_dict:\n",
    "#     images = [os.path.join(path, f) for f in files_dict[path]]\n",
    "#     plot_images_list(images, path, \"Training Dataset\")"
   ]
  },
  {
   "cell_type": "code",
   "execution_count": 12,
   "metadata": {},
   "outputs": [
    {
     "name": "stdout",
     "output_type": "stream",
     "text": [
      "Found 8403 files belonging to 2 classes.\n"
     ]
    }
   ],
   "source": [
    "seed = 42\n",
    "# Creating a Dataset for the Training data\n",
    "train = tf.keras.utils.image_dataset_from_directory(\n",
    "    train_dir,  # Directory where the Training images are located\n",
    "    labels = 'inferred', # Classes will be inferred according to the structure of the directory\n",
    "    label_mode = 'categorical',\n",
    "    class_names = subfolders,\n",
    "    batch_size = 16,    # Number of processed samples before updating the model's weights\n",
    "    image_size = (256, 256), # Defining a fixed dimension for all images\n",
    "    shuffle = True,  # Shuffling data\n",
    "    seed = seed,  # Random seed for shuffling and transformations\n",
    "    validation_split = 0, # We don't need to create a validation set from the training set\n",
    "    crop_to_aspect_ratio = True # Resize images without aspect ratio distortion\n",
    ")"
   ]
  },
  {
   "cell_type": "code",
   "execution_count": 13,
   "metadata": {},
   "outputs": [
    {
     "name": "stdout",
     "output_type": "stream",
     "text": [
      "Found 460 files belonging to 2 classes.\n"
     ]
    }
   ],
   "source": [
    "# Creating a dataset for the Test data\n",
    "validation = tf.keras.utils.image_dataset_from_directory(\n",
    "    validation_dir,  \n",
    "    labels = 'inferred', \n",
    "    label_mode = 'categorical',\n",
    "    class_names = subfolders,\n",
    "    batch_size = 16,    \n",
    "    image_size = (256, 256), \n",
    "    shuffle = True,  \n",
    "    seed = seed,  \n",
    "    validation_split = 0, \n",
    "    crop_to_aspect_ratio = True \n",
    ")"
   ]
  },
  {
   "cell_type": "code",
   "execution_count": 14,
   "metadata": {},
   "outputs": [
    {
     "name": "stdout",
     "output_type": "stream",
     "text": [
      "Found 600 files belonging to 2 classes.\n"
     ]
    }
   ],
   "source": [
    "# Creating a dataset for the Test data\n",
    "test = tf.keras.utils.image_dataset_from_directory(\n",
    "    test_dir,  \n",
    "    labels = 'inferred', \n",
    "    label_mode = 'categorical',\n",
    "    class_names = subfolders,\n",
    "    batch_size = 16,    \n",
    "    image_size = (256, 256), \n",
    "    shuffle = True,  \n",
    "    seed = seed,  \n",
    "    validation_split = 0, \n",
    "    crop_to_aspect_ratio = True \n",
    ")"
   ]
  },
  {
   "cell_type": "code",
   "execution_count": 15,
   "metadata": {},
   "outputs": [
    {
     "name": "stdout",
     "output_type": "stream",
     "text": [
      "\n",
      "Training Dataset: <_PrefetchDataset element_spec=(TensorSpec(shape=(None, 256, 256, 3), dtype=tf.float32, name=None), TensorSpec(shape=(None, 2), dtype=tf.float32, name=None))>\n",
      "\n",
      "Training Dataset: <_PrefetchDataset element_spec=(TensorSpec(shape=(None, 256, 256, 3), dtype=tf.float32, name=None), TensorSpec(shape=(None, 2), dtype=tf.float32, name=None))>\n",
      "\n",
      "Testing Dataset: <_PrefetchDataset element_spec=(TensorSpec(shape=(None, 256, 256, 3), dtype=tf.float32, name=None), TensorSpec(shape=(None, 2), dtype=tf.float32, name=None))>\n"
     ]
    }
   ],
   "source": [
    "print('\\nTraining Dataset:', train)\n",
    "print('\\nTraining Dataset:', validation)\n",
    "print('\\nTesting Dataset:', test)"
   ]
  },
  {
   "cell_type": "code",
   "execution_count": 16,
   "metadata": {},
   "outputs": [
    {
     "name": "stdout",
     "output_type": "stream",
     "text": [
      "\n",
      "Minimum pixel value in the Validation dataset 0.0\n",
      "\n",
      "Maximum pixel value in the Validation dataset 255.0\n"
     ]
    }
   ],
   "source": [
    "# Checking minimum and maximum pixel values in the Validation dataset\n",
    "min_value = float('inf')\n",
    "max_value = -float('inf')\n",
    "\n",
    "for img, label in validation:\n",
    "    batch_min = tf.reduce_min(img)\n",
    "    batch_max = tf.reduce_max(img)\n",
    "    \n",
    "    min_value = min(min_value, batch_min.numpy())\n",
    "    max_value = max(max_value, batch_max.numpy())\n",
    "    \n",
    "print('\\nMinimum pixel value in the Validation dataset', min_value)\n",
    "print('\\nMaximum pixel value in the Validation dataset', max_value)"
   ]
  },
  {
   "cell_type": "code",
   "execution_count": 17,
   "metadata": {},
   "outputs": [],
   "source": [
    "scaler = Rescaling(1./255) # Defining scaler values between 0 to 1"
   ]
  },
  {
   "cell_type": "code",
   "execution_count": 18,
   "metadata": {},
   "outputs": [],
   "source": [
    "# Rescaling datasets\n",
    "train = train.map(lambda x, y: (scaler(x), y)) \n",
    "validation = validation.map(lambda x, y: (scaler(x), y))\n",
    "\n",
    "test = test.map(lambda x, y: (scaler(x), y))"
   ]
  },
  {
   "cell_type": "code",
   "execution_count": 19,
   "metadata": {},
   "outputs": [
    {
     "name": "stdout",
     "output_type": "stream",
     "text": [
      "\n",
      "Minimum pixel value in the Validation dataset 0.0\n",
      "\n",
      "Maximum pixel value in the Validation dataset 1.0\n"
     ]
    }
   ],
   "source": [
    "# Checking minimum and maximum pixel values in the Validation dataset\n",
    "min_value = float('inf')\n",
    "max_value = -float('inf')\n",
    "\n",
    "for img, label in validation:\n",
    "    batch_min = tf.reduce_min(img)\n",
    "    batch_max = tf.reduce_max(img)\n",
    "    \n",
    "    min_value = min(min_value, batch_min.numpy())\n",
    "    max_value = max(max_value, batch_max.numpy())\n",
    "    \n",
    "print('\\nMinimum pixel value in the Validation dataset', min_value)\n",
    "print('\\nMaximum pixel value in the Validation dataset', max_value)"
   ]
  },
  {
   "cell_type": "code",
   "execution_count": 20,
   "metadata": {},
   "outputs": [],
   "source": [
    "pre_resnet_model = ResNet50V2(\n",
    "    include_top=False,\n",
    "    weights=\"imagenet\",\n",
    "    input_tensor=None,\n",
    "    input_shape=(256,256,3),\n",
    "    pooling=None,\n",
    "    classes=2,\n",
    "    classifier_activation=\"softmax\"\n",
    ")\n",
    "\n",
    "resnet_model = Sequential()\n",
    "resnet_model.add(pre_resnet_model)\n",
    "# Flattening tensors\n",
    "resnet_model.add(Flatten())\n",
    "\n",
    "# Fully-Connected Layers\n",
    "resnet_model.add(Dense(2048))\n",
    "resnet_model.add(Activation('relu'))\n",
    "resnet_model.add(Dropout(0.5))\n",
    "\n",
    "# Output Layer\n",
    "resnet_model.add(Dense(len(subfolders), activation = 'softmax')) # Classification layer\n"
   ]
  },
  {
   "cell_type": "code",
   "execution_count": 21,
   "metadata": {},
   "outputs": [
    {
     "name": "stdout",
     "output_type": "stream",
     "text": [
      "Model: \"sequential\"\n",
      "_________________________________________________________________\n",
      " Layer (type)                Output Shape              Param #   \n",
      "=================================================================\n",
      " resnet50v2 (Functional)     (None, 8, 8, 2048)        23564800  \n",
      "                                                                 \n",
      " flatten (Flatten)           (None, 131072)            0         \n",
      "                                                                 \n",
      " dense (Dense)               (None, 2048)              268437504 \n",
      "                                                                 \n",
      " activation (Activation)     (None, 2048)              0         \n",
      "                                                                 \n",
      " dropout (Dropout)           (None, 2048)              0         \n",
      "                                                                 \n",
      " dense_1 (Dense)             (None, 2)                 4098      \n",
      "                                                                 \n",
      "=================================================================\n",
      "Total params: 292006402 (1.09 GB)\n",
      "Trainable params: 291960962 (1.09 GB)\n",
      "Non-trainable params: 45440 (177.50 KB)\n",
      "_________________________________________________________________\n"
     ]
    }
   ],
   "source": [
    "resnet_model.summary()"
   ]
  },
  {
   "cell_type": "code",
   "execution_count": 22,
   "metadata": {},
   "outputs": [],
   "source": [
    "# Compiling model\n",
    "resnet_model.compile(optimizer = tf.keras.optimizers.RMSprop(0.0001), # 1e-4\n",
    "              loss = 'categorical_crossentropy', # Ideal for multiclass tasks\n",
    "              metrics = ['accuracy']) # Evaluation metric"
   ]
  },
  {
   "cell_type": "code",
   "execution_count": 23,
   "metadata": {},
   "outputs": [],
   "source": [
    "# Defining an Early Stopping and Model Checkpoints\n",
    "early_stopping = EarlyStopping(monitor = 'val_accuracy',\n",
    "                              patience = 5, mode = 'max',\n",
    "                              restore_best_weights = True)\n",
    "\n",
    "checkpoint = ModelCheckpoint(begin_path + 'best_resnet_v2.h5',\n",
    "                            monitor = 'val_accuracy',\n",
    "                            save_best_only = True)"
   ]
  },
  {
   "cell_type": "code",
   "execution_count": 24,
   "metadata": {},
   "outputs": [
    {
     "name": "stdout",
     "output_type": "stream",
     "text": [
      "Epoch 1/50\n"
     ]
    },
    {
     "name": "stdout",
     "output_type": "stream",
     "text": [
      "526/526 [==============================] - 1146s 2s/step - loss: 0.3859 - accuracy: 0.9286 - val_loss: 3.3923 - val_accuracy: 0.7587\n",
      "Epoch 2/50\n",
      "526/526 [==============================] - 1164s 2s/step - loss: 0.0877 - accuracy: 0.9816 - val_loss: 8.3011 - val_accuracy: 0.6478\n",
      "Epoch 3/50\n",
      "526/526 [==============================] - 1195s 2s/step - loss: 0.1260 - accuracy: 0.9876 - val_loss: 4.4382 - val_accuracy: 0.8022\n",
      "Epoch 4/50\n",
      "526/526 [==============================] - 1116s 2s/step - loss: 0.0638 - accuracy: 0.9912 - val_loss: 4.9012 - val_accuracy: 0.7652\n",
      "Epoch 5/50\n",
      "526/526 [==============================] - 1098s 2s/step - loss: 0.0533 - accuracy: 0.9926 - val_loss: 218.6909 - val_accuracy: 0.5500\n",
      "Epoch 6/50\n",
      "526/526 [==============================] - 1108s 2s/step - loss: 0.0519 - accuracy: 0.9926 - val_loss: 13.6933 - val_accuracy: 0.6370\n",
      "Epoch 7/50\n",
      "526/526 [==============================] - 1138s 2s/step - loss: 0.0981 - accuracy: 0.9924 - val_loss: 4.8374 - val_accuracy: 0.7891\n",
      "Epoch 8/50\n",
      "526/526 [==============================] - 1135s 2s/step - loss: 0.0112 - accuracy: 0.9982 - val_loss: 7.1529 - val_accuracy: 0.6978\n"
     ]
    }
   ],
   "source": [
    "# Training and Testing Model\n",
    "# started at 7.25 at 20ish minute intervals\n",
    "try:\n",
    "    history = resnet_model.fit(\n",
    "        train, epochs = 50,\n",
    "        validation_data = validation,\n",
    "        callbacks = [early_stopping, checkpoint])\n",
    "except Exception as e:\n",
    "    print(\"An error occurred:\", e)"
   ]
  },
  {
   "cell_type": "code",
   "execution_count": 25,
   "metadata": {},
   "outputs": [
    {
     "name": "stdout",
     "output_type": "stream",
     "text": [
      "Model: \"sequential\"\n",
      "_________________________________________________________________\n",
      " Layer (type)                Output Shape              Param #   \n",
      "=================================================================\n",
      " resnet50v2 (Functional)     (None, 8, 8, 2048)        23564800  \n",
      "                                                                 \n",
      " flatten (Flatten)           (None, 131072)            0         \n",
      "                                                                 \n",
      " dense (Dense)               (None, 2048)              268437504 \n",
      "                                                                 \n",
      " activation (Activation)     (None, 2048)              0         \n",
      "                                                                 \n",
      " dropout (Dropout)           (None, 2048)              0         \n",
      "                                                                 \n",
      " dense_1 (Dense)             (None, 2)                 4098      \n",
      "                                                                 \n",
      "=================================================================\n",
      "Total params: 292006402 (1.09 GB)\n",
      "Trainable params: 291960962 (1.09 GB)\n",
      "Non-trainable params: 45440 (177.50 KB)\n",
      "_________________________________________________________________\n"
     ]
    }
   ],
   "source": [
    "resnet_model.summary()"
   ]
  },
  {
   "cell_type": "code",
   "execution_count": 26,
   "metadata": {},
   "outputs": [
    {
     "data": {
      "application/vnd.plotly.v1+json": {
       "config": {
        "plotlyServerURL": "https://plot.ly"
       },
       "data": [
        {
         "line": {
          "color": "rgba(0, 67, 162, .75)",
          "width": 4.75
         },
         "mode": "lines",
         "name": "Training",
         "showlegend": false,
         "type": "scatter",
         "x": [
          0,
          1,
          2,
          3,
          4,
          5,
          6,
          7
         ],
         "xaxis": "x",
         "y": [
          0.3858746886253357,
          0.08771172165870667,
          0.1260024905204773,
          0.06379690021276474,
          0.05330938100814819,
          0.05185982584953308,
          0.09814178943634033,
          0.011205221526324749
         ],
         "yaxis": "y"
        },
        {
         "line": {
          "color": "rgba(255, 132, 0, .75)",
          "width": 4.75
         },
         "mode": "lines",
         "name": "Test",
         "showlegend": false,
         "type": "scatter",
         "x": [
          0,
          1,
          2,
          3,
          4,
          5,
          6,
          7
         ],
         "xaxis": "x",
         "y": [
          3.392253875732422,
          8.301068305969238,
          4.438192844390869,
          4.901150226593018,
          218.69093322753906,
          13.693338394165039,
          4.83742094039917,
          7.152884483337402
         ],
         "yaxis": "y"
        },
        {
         "line": {
          "color": "rgba(0, 67, 162, .75)",
          "width": 4.75
         },
         "mode": "lines",
         "name": "Training",
         "showlegend": true,
         "type": "scatter",
         "x": [
          0,
          1,
          2,
          3,
          4,
          5,
          6,
          7
         ],
         "xaxis": "x2",
         "y": [
          0.9285969138145447,
          0.9815542101860046,
          0.9876234531402588,
          0.9911935925483704,
          0.992621660232544,
          0.992621660232544,
          0.9923836588859558,
          0.9982149004936218
         ],
         "yaxis": "y2"
        },
        {
         "line": {
          "color": "rgba(255, 132, 0, .75)",
          "width": 4.75
         },
         "mode": "lines",
         "name": "Test",
         "showlegend": true,
         "type": "scatter",
         "x": [
          0,
          1,
          2,
          3,
          4,
          5,
          6,
          7
         ],
         "xaxis": "x2",
         "y": [
          0.758695662021637,
          0.647826075553894,
          0.802173912525177,
          0.7652173638343811,
          0.550000011920929,
          0.636956512928009,
          0.789130449295044,
          0.697826087474823
         ],
         "yaxis": "y2"
        }
       ],
       "layout": {
        "annotations": [
         {
          "font": {
           "size": 16
          },
          "showarrow": false,
          "text": "<b>Loss Over Epochs</b>",
          "x": 0.2,
          "xanchor": "center",
          "xref": "paper",
          "y": 1,
          "yanchor": "bottom",
          "yref": "paper"
         },
         {
          "font": {
           "size": 16
          },
          "showarrow": false,
          "text": "<b>Accuracy Over Epochs</b>",
          "x": 0.8,
          "xanchor": "center",
          "xref": "paper",
          "y": 1,
          "yanchor": "bottom",
          "yref": "paper"
         }
        ],
        "height": 500,
        "margin": {
         "t": 100
        },
        "paper_bgcolor": "#EEF6FF",
        "plot_bgcolor": "#EEF6FF",
        "showlegend": true,
        "template": {
         "data": {
          "bar": [
           {
            "error_x": {
             "color": "#2a3f5f"
            },
            "error_y": {
             "color": "#2a3f5f"
            },
            "marker": {
             "line": {
              "color": "#E5ECF6",
              "width": 0.5
             },
             "pattern": {
              "fillmode": "overlay",
              "size": 10,
              "solidity": 0.2
             }
            },
            "type": "bar"
           }
          ],
          "barpolar": [
           {
            "marker": {
             "line": {
              "color": "#E5ECF6",
              "width": 0.5
             },
             "pattern": {
              "fillmode": "overlay",
              "size": 10,
              "solidity": 0.2
             }
            },
            "type": "barpolar"
           }
          ],
          "carpet": [
           {
            "aaxis": {
             "endlinecolor": "#2a3f5f",
             "gridcolor": "white",
             "linecolor": "white",
             "minorgridcolor": "white",
             "startlinecolor": "#2a3f5f"
            },
            "baxis": {
             "endlinecolor": "#2a3f5f",
             "gridcolor": "white",
             "linecolor": "white",
             "minorgridcolor": "white",
             "startlinecolor": "#2a3f5f"
            },
            "type": "carpet"
           }
          ],
          "choropleth": [
           {
            "colorbar": {
             "outlinewidth": 0,
             "ticks": ""
            },
            "type": "choropleth"
           }
          ],
          "contour": [
           {
            "colorbar": {
             "outlinewidth": 0,
             "ticks": ""
            },
            "colorscale": [
             [
              0,
              "#0d0887"
             ],
             [
              0.1111111111111111,
              "#46039f"
             ],
             [
              0.2222222222222222,
              "#7201a8"
             ],
             [
              0.3333333333333333,
              "#9c179e"
             ],
             [
              0.4444444444444444,
              "#bd3786"
             ],
             [
              0.5555555555555556,
              "#d8576b"
             ],
             [
              0.6666666666666666,
              "#ed7953"
             ],
             [
              0.7777777777777778,
              "#fb9f3a"
             ],
             [
              0.8888888888888888,
              "#fdca26"
             ],
             [
              1,
              "#f0f921"
             ]
            ],
            "type": "contour"
           }
          ],
          "contourcarpet": [
           {
            "colorbar": {
             "outlinewidth": 0,
             "ticks": ""
            },
            "type": "contourcarpet"
           }
          ],
          "heatmap": [
           {
            "colorbar": {
             "outlinewidth": 0,
             "ticks": ""
            },
            "colorscale": [
             [
              0,
              "#0d0887"
             ],
             [
              0.1111111111111111,
              "#46039f"
             ],
             [
              0.2222222222222222,
              "#7201a8"
             ],
             [
              0.3333333333333333,
              "#9c179e"
             ],
             [
              0.4444444444444444,
              "#bd3786"
             ],
             [
              0.5555555555555556,
              "#d8576b"
             ],
             [
              0.6666666666666666,
              "#ed7953"
             ],
             [
              0.7777777777777778,
              "#fb9f3a"
             ],
             [
              0.8888888888888888,
              "#fdca26"
             ],
             [
              1,
              "#f0f921"
             ]
            ],
            "type": "heatmap"
           }
          ],
          "heatmapgl": [
           {
            "colorbar": {
             "outlinewidth": 0,
             "ticks": ""
            },
            "colorscale": [
             [
              0,
              "#0d0887"
             ],
             [
              0.1111111111111111,
              "#46039f"
             ],
             [
              0.2222222222222222,
              "#7201a8"
             ],
             [
              0.3333333333333333,
              "#9c179e"
             ],
             [
              0.4444444444444444,
              "#bd3786"
             ],
             [
              0.5555555555555556,
              "#d8576b"
             ],
             [
              0.6666666666666666,
              "#ed7953"
             ],
             [
              0.7777777777777778,
              "#fb9f3a"
             ],
             [
              0.8888888888888888,
              "#fdca26"
             ],
             [
              1,
              "#f0f921"
             ]
            ],
            "type": "heatmapgl"
           }
          ],
          "histogram": [
           {
            "marker": {
             "pattern": {
              "fillmode": "overlay",
              "size": 10,
              "solidity": 0.2
             }
            },
            "type": "histogram"
           }
          ],
          "histogram2d": [
           {
            "colorbar": {
             "outlinewidth": 0,
             "ticks": ""
            },
            "colorscale": [
             [
              0,
              "#0d0887"
             ],
             [
              0.1111111111111111,
              "#46039f"
             ],
             [
              0.2222222222222222,
              "#7201a8"
             ],
             [
              0.3333333333333333,
              "#9c179e"
             ],
             [
              0.4444444444444444,
              "#bd3786"
             ],
             [
              0.5555555555555556,
              "#d8576b"
             ],
             [
              0.6666666666666666,
              "#ed7953"
             ],
             [
              0.7777777777777778,
              "#fb9f3a"
             ],
             [
              0.8888888888888888,
              "#fdca26"
             ],
             [
              1,
              "#f0f921"
             ]
            ],
            "type": "histogram2d"
           }
          ],
          "histogram2dcontour": [
           {
            "colorbar": {
             "outlinewidth": 0,
             "ticks": ""
            },
            "colorscale": [
             [
              0,
              "#0d0887"
             ],
             [
              0.1111111111111111,
              "#46039f"
             ],
             [
              0.2222222222222222,
              "#7201a8"
             ],
             [
              0.3333333333333333,
              "#9c179e"
             ],
             [
              0.4444444444444444,
              "#bd3786"
             ],
             [
              0.5555555555555556,
              "#d8576b"
             ],
             [
              0.6666666666666666,
              "#ed7953"
             ],
             [
              0.7777777777777778,
              "#fb9f3a"
             ],
             [
              0.8888888888888888,
              "#fdca26"
             ],
             [
              1,
              "#f0f921"
             ]
            ],
            "type": "histogram2dcontour"
           }
          ],
          "mesh3d": [
           {
            "colorbar": {
             "outlinewidth": 0,
             "ticks": ""
            },
            "type": "mesh3d"
           }
          ],
          "parcoords": [
           {
            "line": {
             "colorbar": {
              "outlinewidth": 0,
              "ticks": ""
             }
            },
            "type": "parcoords"
           }
          ],
          "pie": [
           {
            "automargin": true,
            "type": "pie"
           }
          ],
          "scatter": [
           {
            "fillpattern": {
             "fillmode": "overlay",
             "size": 10,
             "solidity": 0.2
            },
            "type": "scatter"
           }
          ],
          "scatter3d": [
           {
            "line": {
             "colorbar": {
              "outlinewidth": 0,
              "ticks": ""
             }
            },
            "marker": {
             "colorbar": {
              "outlinewidth": 0,
              "ticks": ""
             }
            },
            "type": "scatter3d"
           }
          ],
          "scattercarpet": [
           {
            "marker": {
             "colorbar": {
              "outlinewidth": 0,
              "ticks": ""
             }
            },
            "type": "scattercarpet"
           }
          ],
          "scattergeo": [
           {
            "marker": {
             "colorbar": {
              "outlinewidth": 0,
              "ticks": ""
             }
            },
            "type": "scattergeo"
           }
          ],
          "scattergl": [
           {
            "marker": {
             "colorbar": {
              "outlinewidth": 0,
              "ticks": ""
             }
            },
            "type": "scattergl"
           }
          ],
          "scattermapbox": [
           {
            "marker": {
             "colorbar": {
              "outlinewidth": 0,
              "ticks": ""
             }
            },
            "type": "scattermapbox"
           }
          ],
          "scatterpolar": [
           {
            "marker": {
             "colorbar": {
              "outlinewidth": 0,
              "ticks": ""
             }
            },
            "type": "scatterpolar"
           }
          ],
          "scatterpolargl": [
           {
            "marker": {
             "colorbar": {
              "outlinewidth": 0,
              "ticks": ""
             }
            },
            "type": "scatterpolargl"
           }
          ],
          "scatterternary": [
           {
            "marker": {
             "colorbar": {
              "outlinewidth": 0,
              "ticks": ""
             }
            },
            "type": "scatterternary"
           }
          ],
          "surface": [
           {
            "colorbar": {
             "outlinewidth": 0,
             "ticks": ""
            },
            "colorscale": [
             [
              0,
              "#0d0887"
             ],
             [
              0.1111111111111111,
              "#46039f"
             ],
             [
              0.2222222222222222,
              "#7201a8"
             ],
             [
              0.3333333333333333,
              "#9c179e"
             ],
             [
              0.4444444444444444,
              "#bd3786"
             ],
             [
              0.5555555555555556,
              "#d8576b"
             ],
             [
              0.6666666666666666,
              "#ed7953"
             ],
             [
              0.7777777777777778,
              "#fb9f3a"
             ],
             [
              0.8888888888888888,
              "#fdca26"
             ],
             [
              1,
              "#f0f921"
             ]
            ],
            "type": "surface"
           }
          ],
          "table": [
           {
            "cells": {
             "fill": {
              "color": "#EBF0F8"
             },
             "line": {
              "color": "white"
             }
            },
            "header": {
             "fill": {
              "color": "#C8D4E3"
             },
             "line": {
              "color": "white"
             }
            },
            "type": "table"
           }
          ]
         },
         "layout": {
          "annotationdefaults": {
           "arrowcolor": "#2a3f5f",
           "arrowhead": 0,
           "arrowwidth": 1
          },
          "autotypenumbers": "strict",
          "coloraxis": {
           "colorbar": {
            "outlinewidth": 0,
            "ticks": ""
           }
          },
          "colorscale": {
           "diverging": [
            [
             0,
             "#8e0152"
            ],
            [
             0.1,
             "#c51b7d"
            ],
            [
             0.2,
             "#de77ae"
            ],
            [
             0.3,
             "#f1b6da"
            ],
            [
             0.4,
             "#fde0ef"
            ],
            [
             0.5,
             "#f7f7f7"
            ],
            [
             0.6,
             "#e6f5d0"
            ],
            [
             0.7,
             "#b8e186"
            ],
            [
             0.8,
             "#7fbc41"
            ],
            [
             0.9,
             "#4d9221"
            ],
            [
             1,
             "#276419"
            ]
           ],
           "sequential": [
            [
             0,
             "#0d0887"
            ],
            [
             0.1111111111111111,
             "#46039f"
            ],
            [
             0.2222222222222222,
             "#7201a8"
            ],
            [
             0.3333333333333333,
             "#9c179e"
            ],
            [
             0.4444444444444444,
             "#bd3786"
            ],
            [
             0.5555555555555556,
             "#d8576b"
            ],
            [
             0.6666666666666666,
             "#ed7953"
            ],
            [
             0.7777777777777778,
             "#fb9f3a"
            ],
            [
             0.8888888888888888,
             "#fdca26"
            ],
            [
             1,
             "#f0f921"
            ]
           ],
           "sequentialminus": [
            [
             0,
             "#0d0887"
            ],
            [
             0.1111111111111111,
             "#46039f"
            ],
            [
             0.2222222222222222,
             "#7201a8"
            ],
            [
             0.3333333333333333,
             "#9c179e"
            ],
            [
             0.4444444444444444,
             "#bd3786"
            ],
            [
             0.5555555555555556,
             "#d8576b"
            ],
            [
             0.6666666666666666,
             "#ed7953"
            ],
            [
             0.7777777777777778,
             "#fb9f3a"
            ],
            [
             0.8888888888888888,
             "#fdca26"
            ],
            [
             1,
             "#f0f921"
            ]
           ]
          },
          "colorway": [
           "#636efa",
           "#EF553B",
           "#00cc96",
           "#ab63fa",
           "#FFA15A",
           "#19d3f3",
           "#FF6692",
           "#B6E880",
           "#FF97FF",
           "#FECB52"
          ],
          "font": {
           "color": "#2a3f5f"
          },
          "geo": {
           "bgcolor": "white",
           "lakecolor": "white",
           "landcolor": "#E5ECF6",
           "showlakes": true,
           "showland": true,
           "subunitcolor": "white"
          },
          "hoverlabel": {
           "align": "left"
          },
          "hovermode": "closest",
          "mapbox": {
           "style": "light"
          },
          "paper_bgcolor": "white",
          "plot_bgcolor": "#E5ECF6",
          "polar": {
           "angularaxis": {
            "gridcolor": "white",
            "linecolor": "white",
            "ticks": ""
           },
           "bgcolor": "#E5ECF6",
           "radialaxis": {
            "gridcolor": "white",
            "linecolor": "white",
            "ticks": ""
           }
          },
          "scene": {
           "xaxis": {
            "backgroundcolor": "#E5ECF6",
            "gridcolor": "white",
            "gridwidth": 2,
            "linecolor": "white",
            "showbackground": true,
            "ticks": "",
            "zerolinecolor": "white"
           },
           "yaxis": {
            "backgroundcolor": "#E5ECF6",
            "gridcolor": "white",
            "gridwidth": 2,
            "linecolor": "white",
            "showbackground": true,
            "ticks": "",
            "zerolinecolor": "white"
           },
           "zaxis": {
            "backgroundcolor": "#E5ECF6",
            "gridcolor": "white",
            "gridwidth": 2,
            "linecolor": "white",
            "showbackground": true,
            "ticks": "",
            "zerolinecolor": "white"
           }
          },
          "shapedefaults": {
           "line": {
            "color": "#2a3f5f"
           }
          },
          "ternary": {
           "aaxis": {
            "gridcolor": "white",
            "linecolor": "white",
            "ticks": ""
           },
           "baxis": {
            "gridcolor": "white",
            "linecolor": "white",
            "ticks": ""
           },
           "bgcolor": "#E5ECF6",
           "caxis": {
            "gridcolor": "white",
            "linecolor": "white",
            "ticks": ""
           }
          },
          "title": {
           "x": 0.05
          },
          "xaxis": {
           "automargin": true,
           "gridcolor": "white",
           "linecolor": "white",
           "ticks": "",
           "title": {
            "standoff": 15
           },
           "zerolinecolor": "white",
           "zerolinewidth": 2
          },
          "yaxis": {
           "automargin": true,
           "gridcolor": "white",
           "linecolor": "white",
           "ticks": "",
           "title": {
            "standoff": 15
           },
           "zerolinecolor": "white",
           "zerolinewidth": 2
          }
         }
        },
        "title": {
         "text": "<b>Loss and Accuracy Over Epochs</b>",
         "x": 0.025,
         "xanchor": "left"
        },
        "width": 1000,
        "xaxis": {
         "anchor": "y",
         "domain": [
          0,
          0.4
         ],
         "title": {
          "text": "Epoch"
         }
        },
        "xaxis2": {
         "anchor": "y2",
         "domain": [
          0.6000000000000001,
          1
         ],
         "title": {
          "text": "Epoch"
         }
        },
        "yaxis": {
         "anchor": "x",
         "domain": [
          0,
          1
         ],
         "title": {
          "text": "Loss"
         }
        },
        "yaxis2": {
         "anchor": "x2",
         "domain": [
          0,
          1
         ],
         "title": {
          "text": "Accuracy"
         }
        }
       }
      },
      "text/html": [
       "<div>                            <div id=\"2c7bf356-3e8a-463f-8e44-12ee9b22d631\" class=\"plotly-graph-div\" style=\"height:500px; width:1000px;\"></div>            <script type=\"text/javascript\">                require([\"plotly\"], function(Plotly) {                    window.PLOTLYENV=window.PLOTLYENV || {};                                    if (document.getElementById(\"2c7bf356-3e8a-463f-8e44-12ee9b22d631\")) {                    Plotly.newPlot(                        \"2c7bf356-3e8a-463f-8e44-12ee9b22d631\",                        [{\"line\":{\"color\":\"rgba(0, 67, 162, .75)\",\"width\":4.75},\"mode\":\"lines\",\"name\":\"Training\",\"showlegend\":false,\"x\":[0,1,2,3,4,5,6,7],\"y\":[0.3858746886253357,0.08771172165870667,0.1260024905204773,0.06379690021276474,0.05330938100814819,0.05185982584953308,0.09814178943634033,0.011205221526324749],\"type\":\"scatter\",\"xaxis\":\"x\",\"yaxis\":\"y\"},{\"line\":{\"color\":\"rgba(255, 132, 0, .75)\",\"width\":4.75},\"mode\":\"lines\",\"name\":\"Test\",\"showlegend\":false,\"x\":[0,1,2,3,4,5,6,7],\"y\":[3.392253875732422,8.301068305969238,4.438192844390869,4.901150226593018,218.69093322753906,13.693338394165039,4.83742094039917,7.152884483337402],\"type\":\"scatter\",\"xaxis\":\"x\",\"yaxis\":\"y\"},{\"line\":{\"color\":\"rgba(0, 67, 162, .75)\",\"width\":4.75},\"mode\":\"lines\",\"name\":\"Training\",\"showlegend\":true,\"x\":[0,1,2,3,4,5,6,7],\"y\":[0.9285969138145447,0.9815542101860046,0.9876234531402588,0.9911935925483704,0.992621660232544,0.992621660232544,0.9923836588859558,0.9982149004936218],\"type\":\"scatter\",\"xaxis\":\"x2\",\"yaxis\":\"y2\"},{\"line\":{\"color\":\"rgba(255, 132, 0, .75)\",\"width\":4.75},\"mode\":\"lines\",\"name\":\"Test\",\"showlegend\":true,\"x\":[0,1,2,3,4,5,6,7],\"y\":[0.758695662021637,0.647826075553894,0.802173912525177,0.7652173638343811,0.550000011920929,0.636956512928009,0.789130449295044,0.697826087474823],\"type\":\"scatter\",\"xaxis\":\"x2\",\"yaxis\":\"y2\"}],                        {\"template\":{\"data\":{\"histogram2dcontour\":[{\"type\":\"histogram2dcontour\",\"colorbar\":{\"outlinewidth\":0,\"ticks\":\"\"},\"colorscale\":[[0.0,\"#0d0887\"],[0.1111111111111111,\"#46039f\"],[0.2222222222222222,\"#7201a8\"],[0.3333333333333333,\"#9c179e\"],[0.4444444444444444,\"#bd3786\"],[0.5555555555555556,\"#d8576b\"],[0.6666666666666666,\"#ed7953\"],[0.7777777777777778,\"#fb9f3a\"],[0.8888888888888888,\"#fdca26\"],[1.0,\"#f0f921\"]]}],\"choropleth\":[{\"type\":\"choropleth\",\"colorbar\":{\"outlinewidth\":0,\"ticks\":\"\"}}],\"histogram2d\":[{\"type\":\"histogram2d\",\"colorbar\":{\"outlinewidth\":0,\"ticks\":\"\"},\"colorscale\":[[0.0,\"#0d0887\"],[0.1111111111111111,\"#46039f\"],[0.2222222222222222,\"#7201a8\"],[0.3333333333333333,\"#9c179e\"],[0.4444444444444444,\"#bd3786\"],[0.5555555555555556,\"#d8576b\"],[0.6666666666666666,\"#ed7953\"],[0.7777777777777778,\"#fb9f3a\"],[0.8888888888888888,\"#fdca26\"],[1.0,\"#f0f921\"]]}],\"heatmap\":[{\"type\":\"heatmap\",\"colorbar\":{\"outlinewidth\":0,\"ticks\":\"\"},\"colorscale\":[[0.0,\"#0d0887\"],[0.1111111111111111,\"#46039f\"],[0.2222222222222222,\"#7201a8\"],[0.3333333333333333,\"#9c179e\"],[0.4444444444444444,\"#bd3786\"],[0.5555555555555556,\"#d8576b\"],[0.6666666666666666,\"#ed7953\"],[0.7777777777777778,\"#fb9f3a\"],[0.8888888888888888,\"#fdca26\"],[1.0,\"#f0f921\"]]}],\"heatmapgl\":[{\"type\":\"heatmapgl\",\"colorbar\":{\"outlinewidth\":0,\"ticks\":\"\"},\"colorscale\":[[0.0,\"#0d0887\"],[0.1111111111111111,\"#46039f\"],[0.2222222222222222,\"#7201a8\"],[0.3333333333333333,\"#9c179e\"],[0.4444444444444444,\"#bd3786\"],[0.5555555555555556,\"#d8576b\"],[0.6666666666666666,\"#ed7953\"],[0.7777777777777778,\"#fb9f3a\"],[0.8888888888888888,\"#fdca26\"],[1.0,\"#f0f921\"]]}],\"contourcarpet\":[{\"type\":\"contourcarpet\",\"colorbar\":{\"outlinewidth\":0,\"ticks\":\"\"}}],\"contour\":[{\"type\":\"contour\",\"colorbar\":{\"outlinewidth\":0,\"ticks\":\"\"},\"colorscale\":[[0.0,\"#0d0887\"],[0.1111111111111111,\"#46039f\"],[0.2222222222222222,\"#7201a8\"],[0.3333333333333333,\"#9c179e\"],[0.4444444444444444,\"#bd3786\"],[0.5555555555555556,\"#d8576b\"],[0.6666666666666666,\"#ed7953\"],[0.7777777777777778,\"#fb9f3a\"],[0.8888888888888888,\"#fdca26\"],[1.0,\"#f0f921\"]]}],\"surface\":[{\"type\":\"surface\",\"colorbar\":{\"outlinewidth\":0,\"ticks\":\"\"},\"colorscale\":[[0.0,\"#0d0887\"],[0.1111111111111111,\"#46039f\"],[0.2222222222222222,\"#7201a8\"],[0.3333333333333333,\"#9c179e\"],[0.4444444444444444,\"#bd3786\"],[0.5555555555555556,\"#d8576b\"],[0.6666666666666666,\"#ed7953\"],[0.7777777777777778,\"#fb9f3a\"],[0.8888888888888888,\"#fdca26\"],[1.0,\"#f0f921\"]]}],\"mesh3d\":[{\"type\":\"mesh3d\",\"colorbar\":{\"outlinewidth\":0,\"ticks\":\"\"}}],\"scatter\":[{\"fillpattern\":{\"fillmode\":\"overlay\",\"size\":10,\"solidity\":0.2},\"type\":\"scatter\"}],\"parcoords\":[{\"type\":\"parcoords\",\"line\":{\"colorbar\":{\"outlinewidth\":0,\"ticks\":\"\"}}}],\"scatterpolargl\":[{\"type\":\"scatterpolargl\",\"marker\":{\"colorbar\":{\"outlinewidth\":0,\"ticks\":\"\"}}}],\"bar\":[{\"error_x\":{\"color\":\"#2a3f5f\"},\"error_y\":{\"color\":\"#2a3f5f\"},\"marker\":{\"line\":{\"color\":\"#E5ECF6\",\"width\":0.5},\"pattern\":{\"fillmode\":\"overlay\",\"size\":10,\"solidity\":0.2}},\"type\":\"bar\"}],\"scattergeo\":[{\"type\":\"scattergeo\",\"marker\":{\"colorbar\":{\"outlinewidth\":0,\"ticks\":\"\"}}}],\"scatterpolar\":[{\"type\":\"scatterpolar\",\"marker\":{\"colorbar\":{\"outlinewidth\":0,\"ticks\":\"\"}}}],\"histogram\":[{\"marker\":{\"pattern\":{\"fillmode\":\"overlay\",\"size\":10,\"solidity\":0.2}},\"type\":\"histogram\"}],\"scattergl\":[{\"type\":\"scattergl\",\"marker\":{\"colorbar\":{\"outlinewidth\":0,\"ticks\":\"\"}}}],\"scatter3d\":[{\"type\":\"scatter3d\",\"line\":{\"colorbar\":{\"outlinewidth\":0,\"ticks\":\"\"}},\"marker\":{\"colorbar\":{\"outlinewidth\":0,\"ticks\":\"\"}}}],\"scattermapbox\":[{\"type\":\"scattermapbox\",\"marker\":{\"colorbar\":{\"outlinewidth\":0,\"ticks\":\"\"}}}],\"scatterternary\":[{\"type\":\"scatterternary\",\"marker\":{\"colorbar\":{\"outlinewidth\":0,\"ticks\":\"\"}}}],\"scattercarpet\":[{\"type\":\"scattercarpet\",\"marker\":{\"colorbar\":{\"outlinewidth\":0,\"ticks\":\"\"}}}],\"carpet\":[{\"aaxis\":{\"endlinecolor\":\"#2a3f5f\",\"gridcolor\":\"white\",\"linecolor\":\"white\",\"minorgridcolor\":\"white\",\"startlinecolor\":\"#2a3f5f\"},\"baxis\":{\"endlinecolor\":\"#2a3f5f\",\"gridcolor\":\"white\",\"linecolor\":\"white\",\"minorgridcolor\":\"white\",\"startlinecolor\":\"#2a3f5f\"},\"type\":\"carpet\"}],\"table\":[{\"cells\":{\"fill\":{\"color\":\"#EBF0F8\"},\"line\":{\"color\":\"white\"}},\"header\":{\"fill\":{\"color\":\"#C8D4E3\"},\"line\":{\"color\":\"white\"}},\"type\":\"table\"}],\"barpolar\":[{\"marker\":{\"line\":{\"color\":\"#E5ECF6\",\"width\":0.5},\"pattern\":{\"fillmode\":\"overlay\",\"size\":10,\"solidity\":0.2}},\"type\":\"barpolar\"}],\"pie\":[{\"automargin\":true,\"type\":\"pie\"}]},\"layout\":{\"autotypenumbers\":\"strict\",\"colorway\":[\"#636efa\",\"#EF553B\",\"#00cc96\",\"#ab63fa\",\"#FFA15A\",\"#19d3f3\",\"#FF6692\",\"#B6E880\",\"#FF97FF\",\"#FECB52\"],\"font\":{\"color\":\"#2a3f5f\"},\"hovermode\":\"closest\",\"hoverlabel\":{\"align\":\"left\"},\"paper_bgcolor\":\"white\",\"plot_bgcolor\":\"#E5ECF6\",\"polar\":{\"bgcolor\":\"#E5ECF6\",\"angularaxis\":{\"gridcolor\":\"white\",\"linecolor\":\"white\",\"ticks\":\"\"},\"radialaxis\":{\"gridcolor\":\"white\",\"linecolor\":\"white\",\"ticks\":\"\"}},\"ternary\":{\"bgcolor\":\"#E5ECF6\",\"aaxis\":{\"gridcolor\":\"white\",\"linecolor\":\"white\",\"ticks\":\"\"},\"baxis\":{\"gridcolor\":\"white\",\"linecolor\":\"white\",\"ticks\":\"\"},\"caxis\":{\"gridcolor\":\"white\",\"linecolor\":\"white\",\"ticks\":\"\"}},\"coloraxis\":{\"colorbar\":{\"outlinewidth\":0,\"ticks\":\"\"}},\"colorscale\":{\"sequential\":[[0.0,\"#0d0887\"],[0.1111111111111111,\"#46039f\"],[0.2222222222222222,\"#7201a8\"],[0.3333333333333333,\"#9c179e\"],[0.4444444444444444,\"#bd3786\"],[0.5555555555555556,\"#d8576b\"],[0.6666666666666666,\"#ed7953\"],[0.7777777777777778,\"#fb9f3a\"],[0.8888888888888888,\"#fdca26\"],[1.0,\"#f0f921\"]],\"sequentialminus\":[[0.0,\"#0d0887\"],[0.1111111111111111,\"#46039f\"],[0.2222222222222222,\"#7201a8\"],[0.3333333333333333,\"#9c179e\"],[0.4444444444444444,\"#bd3786\"],[0.5555555555555556,\"#d8576b\"],[0.6666666666666666,\"#ed7953\"],[0.7777777777777778,\"#fb9f3a\"],[0.8888888888888888,\"#fdca26\"],[1.0,\"#f0f921\"]],\"diverging\":[[0,\"#8e0152\"],[0.1,\"#c51b7d\"],[0.2,\"#de77ae\"],[0.3,\"#f1b6da\"],[0.4,\"#fde0ef\"],[0.5,\"#f7f7f7\"],[0.6,\"#e6f5d0\"],[0.7,\"#b8e186\"],[0.8,\"#7fbc41\"],[0.9,\"#4d9221\"],[1,\"#276419\"]]},\"xaxis\":{\"gridcolor\":\"white\",\"linecolor\":\"white\",\"ticks\":\"\",\"title\":{\"standoff\":15},\"zerolinecolor\":\"white\",\"automargin\":true,\"zerolinewidth\":2},\"yaxis\":{\"gridcolor\":\"white\",\"linecolor\":\"white\",\"ticks\":\"\",\"title\":{\"standoff\":15},\"zerolinecolor\":\"white\",\"automargin\":true,\"zerolinewidth\":2},\"scene\":{\"xaxis\":{\"backgroundcolor\":\"#E5ECF6\",\"gridcolor\":\"white\",\"linecolor\":\"white\",\"showbackground\":true,\"ticks\":\"\",\"zerolinecolor\":\"white\",\"gridwidth\":2},\"yaxis\":{\"backgroundcolor\":\"#E5ECF6\",\"gridcolor\":\"white\",\"linecolor\":\"white\",\"showbackground\":true,\"ticks\":\"\",\"zerolinecolor\":\"white\",\"gridwidth\":2},\"zaxis\":{\"backgroundcolor\":\"#E5ECF6\",\"gridcolor\":\"white\",\"linecolor\":\"white\",\"showbackground\":true,\"ticks\":\"\",\"zerolinecolor\":\"white\",\"gridwidth\":2}},\"shapedefaults\":{\"line\":{\"color\":\"#2a3f5f\"}},\"annotationdefaults\":{\"arrowcolor\":\"#2a3f5f\",\"arrowhead\":0,\"arrowwidth\":1},\"geo\":{\"bgcolor\":\"white\",\"landcolor\":\"#E5ECF6\",\"subunitcolor\":\"white\",\"showland\":true,\"showlakes\":true,\"lakecolor\":\"white\"},\"title\":{\"x\":0.05},\"mapbox\":{\"style\":\"light\"}}},\"xaxis\":{\"anchor\":\"y\",\"domain\":[0.0,0.4],\"title\":{\"text\":\"Epoch\"}},\"yaxis\":{\"anchor\":\"x\",\"domain\":[0.0,1.0],\"title\":{\"text\":\"Loss\"}},\"xaxis2\":{\"anchor\":\"y2\",\"domain\":[0.6000000000000001,1.0],\"title\":{\"text\":\"Epoch\"}},\"yaxis2\":{\"anchor\":\"x2\",\"domain\":[0.0,1.0],\"title\":{\"text\":\"Accuracy\"}},\"annotations\":[{\"font\":{\"size\":16},\"showarrow\":false,\"text\":\"\\u003cb\\u003eLoss Over Epochs\\u003c\\u002fb\\u003e\",\"x\":0.2,\"xanchor\":\"center\",\"xref\":\"paper\",\"y\":1.0,\"yanchor\":\"bottom\",\"yref\":\"paper\"},{\"font\":{\"size\":16},\"showarrow\":false,\"text\":\"\\u003cb\\u003eAccuracy Over Epochs\\u003c\\u002fb\\u003e\",\"x\":0.8,\"xanchor\":\"center\",\"xref\":\"paper\",\"y\":1.0,\"yanchor\":\"bottom\",\"yref\":\"paper\"}],\"title\":{\"text\":\"\\u003cb\\u003eLoss and Accuracy Over Epochs\\u003c\\u002fb\\u003e\",\"x\":0.025,\"xanchor\":\"left\"},\"margin\":{\"t\":100},\"plot_bgcolor\":\"#EEF6FF\",\"paper_bgcolor\":\"#EEF6FF\",\"height\":500,\"width\":1000,\"showlegend\":true},                        {\"responsive\": true}                    ).then(function(){\n",
       "                            \n",
       "var gd = document.getElementById('2c7bf356-3e8a-463f-8e44-12ee9b22d631');\n",
       "var x = new MutationObserver(function (mutations, observer) {{\n",
       "        var display = window.getComputedStyle(gd).display;\n",
       "        if (!display || display === 'none') {{\n",
       "            console.log([gd, 'removed!']);\n",
       "            Plotly.purge(gd);\n",
       "            observer.disconnect();\n",
       "        }}\n",
       "}});\n",
       "\n",
       "// Listen for the removal of the full notebook cells\n",
       "var notebookContainer = gd.closest('#notebook-container');\n",
       "if (notebookContainer) {{\n",
       "    x.observe(notebookContainer, {childList: true});\n",
       "}}\n",
       "\n",
       "// Listen for the clearing of the current output cell\n",
       "var outputEl = gd.closest('.output');\n",
       "if (outputEl) {{\n",
       "    x.observe(outputEl, {childList: true});\n",
       "}}\n",
       "\n",
       "                        })                };                });            </script>        </div>"
      ]
     },
     "metadata": {},
     "output_type": "display_data"
    }
   ],
   "source": [
    "# Creating subplot\n",
    "fig = make_subplots(rows=1,\n",
    "                    cols=2,\n",
    "                    subplot_titles=['<b>Loss Over Epochs</b>', '<b>Accuracy Over Epochs</b>'],\n",
    "                    horizontal_spacing=0.2)\n",
    "\n",
    "# Loss over epochs\n",
    "train_loss = go.Scatter(x=list(range(len(history.history['loss']))),\n",
    "                        y=history.history['loss'],\n",
    "                        mode='lines',\n",
    "                        line=dict(color='rgba(0, 67, 162, .75)', width=4.75),\n",
    "                        name='Training',\n",
    "                        showlegend = False)\n",
    "\n",
    "val_loss = go.Scatter(x=list(range(len(history.history['val_loss']))),\n",
    "                      y=history.history['val_loss'],\n",
    "                      mode='lines',\n",
    "                      line=dict(color='rgba(255, 132, 0, .75)', width=4.75),\n",
    "                      name='Test',\n",
    "                      showlegend = False)\n",
    "\n",
    "\n",
    "fig.add_trace(train_loss, row=1, col=1)\n",
    "fig.add_trace(val_loss, row=1, col=1)\n",
    "\n",
    "# Accuray over epochs\n",
    "train_acc = go.Scatter(x=list(range(len(history.history['accuracy']))),\n",
    "                       y=history.history['accuracy'],\n",
    "                       mode='lines',\n",
    "                       line=dict(color='rgba(0, 67, 162, .75)', width=4.75),\n",
    "                       name='Training',\n",
    "                       showlegend = True)\n",
    "\n",
    "val_acc = go.Scatter(x=list(range(len(history.history['val_accuracy']))),\n",
    "                     y=history.history['val_accuracy'],\n",
    "                     mode='lines',\n",
    "                     line=dict(color='rgba(255, 132, 0, .75)', width=4.75),\n",
    "                     name='Test',\n",
    "                     showlegend = True)\n",
    "\n",
    "\n",
    "fig.add_trace(train_acc, row=1, col=2)\n",
    "fig.add_trace(val_acc, row=1, col=2)\n",
    "\n",
    "# Updating layout\n",
    "fig.update_layout(\n",
    "    title={'text': '<b>Loss and Accuracy Over Epochs</b>', 'x': 0.025, 'xanchor': 'left'},\n",
    "    margin=dict(t=100),\n",
    "    plot_bgcolor=bg_color,paper_bgcolor=paper_color,\n",
    "    height=500, width=1000,\n",
    "    showlegend= True\n",
    ")\n",
    "\n",
    "fig.update_yaxes(title_text = 'Loss', row = 1, col = 1)\n",
    "fig.update_yaxes(title_text = 'Accuracy', row = 1, col = 2)\n",
    "\n",
    "fig.update_xaxes(title_text = 'Epoch', row = 1, col = 1)\n",
    "fig.update_xaxes(title_text = 'Epoch', row = 1, col = 2)\n",
    "\n",
    "# Showing figure\n",
    "fig.show()"
   ]
  },
  {
   "cell_type": "code",
   "execution_count": 35,
   "metadata": {},
   "outputs": [],
   "source": [
    "# Loading best weights\n",
    "resnet_model.load_weights(begin_path + 'best_resnet_v2.h5')"
   ]
  },
  {
   "cell_type": "code",
   "execution_count": null,
   "metadata": {},
   "outputs": [
    {
     "name": "stdout",
     "output_type": "stream",
     "text": [
      "29/29 [==============================] - 11s 366ms/step - loss: 4.4382 - accuracy: 0.8022\n",
      "\n",
      "Validation Loss:  4.438192367553711\n",
      "\n",
      "Validation Accuracy:  80.0 %\n"
     ]
    }
   ],
   "source": [
    "# preds = model.predict(validation)  # Running model on the test dataset\n",
    "val_loss, val_acc = resnet_model.evaluate(validation) # Obtaining Loss and Accuracy on the test dataset\n",
    "\n",
    "print('\\nValidation Loss: ', val_loss)\n",
    "print('\\nValidation Accuracy: ', np.round(val_acc * 100), '%')"
   ]
  },
  {
   "cell_type": "code",
   "execution_count": 36,
   "metadata": {},
   "outputs": [
    {
     "name": "stdout",
     "output_type": "stream",
     "text": [
      "38/38 [==============================] - 13s 344ms/step - loss: 2.9146 - accuracy: 0.5983\n",
      "\n",
      "Test Loss:  2.9146358966827393\n",
      "\n",
      "Test Accuracy:  60.0 %\n"
     ]
    }
   ],
   "source": [
    "# preds = model.predict(validation)  # Running model on the test dataset\n",
    "val_loss, val_acc = resnet_model.evaluate(test) # Obtaining Loss and Accuracy on the test dataset\n",
    "\n",
    "print('\\nTest Loss: ', val_loss)\n",
    "print('\\nTest Accuracy: ', np.round(val_acc * 100), '%')"
   ]
  },
  {
   "cell_type": "code",
   "execution_count": 30,
   "metadata": {},
   "outputs": [],
   "source": [
    "resnet_model.save(begin_path + 'bone_fracture_resnet_v1.h5')"
   ]
  },
  {
   "cell_type": "code",
   "execution_count": 32,
   "metadata": {},
   "outputs": [],
   "source": [
    "import os\n",
    "import numpy as np\n",
    "from PIL import Image\n",
    "import tensorflow as tf  # Assuming `model` is a TensorFlow/Keras model\n",
    "from sklearn.metrics import classification_report\n",
    "from collections import Counter\n",
    "\n",
    "# Load your model (ensure you have it defined or loaded elsewhere)\n",
    "model = tf.keras.models.load_model(begin_path + 'bone_fracture_resnet_v1.h5')  # Update with actual model path"
   ]
  },
  {
   "cell_type": "code",
   "execution_count": 47,
   "metadata": {},
   "outputs": [
    {
     "data": {
      "image/jpeg": "[encoded data removed]",
      "image/png": "[encoded data removed]",
      "text/plain": [
       "<PIL.JpegImagePlugin.JpegImageFile image mode=RGB size=299x299>"
      ]
     },
     "execution_count": 47,
     "metadata": {},
     "output_type": "execute_result"
    }
   ],
   "source": [
    "image_path = 'C:/Users/Jon/Documents/School/CS 770/covid_data/test/covid/COVID-474.jpg'#begin_path + 'test/fractured/1.jpg'\n",
    "original_image = Image.open(image_path)\n",
    "og_width, og_height = original_image.size\n",
    "original_image\n",
    "\n",
    "# Resizing image for optimal performance\n",
    "# new_width = int(og_width * .20) # 20% of the original size\n",
    "# new_height = int(og_height * .20) # 20% of the original size\n",
    "\n",
    "# resized_img = original_image.resize((new_width, new_height))\n",
    "# print('Picture of normal: \\n')\n",
    "# resized_img"
   ]
  },
  {
   "cell_type": "code",
   "execution_count": 48,
   "metadata": {},
   "outputs": [
    {
     "name": "stdout",
     "output_type": "stream",
     "text": [
      "1/1 [==============================] - 1s 553ms/step\n",
      "\n",
      "Predicted Class: not_fractured\n",
      "\n",
      "Confidence Score: 1.0\n"
     ]
    }
   ],
   "source": [
    "# Manually preprocessing image\n",
    "preprocessed_image = original_image.resize((256, 256))\n",
    "preprocessed_image = np.array(preprocessed_image) / 255.0\n",
    "\n",
    "preds = resnet_model.predict(np.expand_dims(preprocessed_image, axis = 0))\n",
    "labels = subfolders\n",
    "\n",
    "preds_class = np.argmax(preds)\n",
    "preds_label = labels[preds_class]\n",
    "\n",
    "print(f'\\nPredicted Class: {preds_label}')\n",
    "print(f'\\nConfidence Score: {preds[0][preds_class]}')"
   ]
  },
  {
   "cell_type": "code",
   "execution_count": 49,
   "metadata": {},
   "outputs": [
    {
     "data": {
      "text/plain": [
       "array([[[0.09411765, 0.09411765, 0.09411765],\n",
       "        [0.09411765, 0.09411765, 0.09411765],\n",
       "        [0.09019608, 0.09019608, 0.09019608],\n",
       "        ...,\n",
       "        [0.04705882, 0.04705882, 0.04705882],\n",
       "        [0.05490196, 0.05490196, 0.05490196],\n",
       "        [0.0627451 , 0.0627451 , 0.0627451 ]],\n",
       "\n",
       "       [[0.09803922, 0.09803922, 0.09803922],\n",
       "        [0.09411765, 0.09411765, 0.09411765],\n",
       "        [0.09411765, 0.09411765, 0.09411765],\n",
       "        ...,\n",
       "        [0.04705882, 0.04705882, 0.04705882],\n",
       "        [0.05490196, 0.05490196, 0.05490196],\n",
       "        [0.0627451 , 0.0627451 , 0.0627451 ]],\n",
       "\n",
       "       [[0.10196078, 0.10196078, 0.10196078],\n",
       "        [0.09803922, 0.09803922, 0.09803922],\n",
       "        [0.09803922, 0.09803922, 0.09803922],\n",
       "        ...,\n",
       "        [0.05490196, 0.05490196, 0.05490196],\n",
       "        [0.05490196, 0.05490196, 0.05490196],\n",
       "        [0.05882353, 0.05882353, 0.05882353]],\n",
       "\n",
       "       ...,\n",
       "\n",
       "       [[0.09803922, 0.09803922, 0.09803922],\n",
       "        [0.09803922, 0.09803922, 0.09803922],\n",
       "        [0.10196078, 0.10196078, 0.10196078],\n",
       "        ...,\n",
       "        [0.40784314, 0.40784314, 0.40784314],\n",
       "        [0.39215686, 0.39215686, 0.39215686],\n",
       "        [0.38431373, 0.38431373, 0.38431373]],\n",
       "\n",
       "       [[0.09411765, 0.09411765, 0.09411765],\n",
       "        [0.09411765, 0.09411765, 0.09411765],\n",
       "        [0.09803922, 0.09803922, 0.09803922],\n",
       "        ...,\n",
       "        [0.4       , 0.4       , 0.4       ],\n",
       "        [0.38431373, 0.38431373, 0.38431373],\n",
       "        [0.37647059, 0.37647059, 0.37647059]],\n",
       "\n",
       "       [[0.09019608, 0.09019608, 0.09019608],\n",
       "        [0.09019608, 0.09019608, 0.09019608],\n",
       "        [0.09411765, 0.09411765, 0.09411765],\n",
       "        ...,\n",
       "        [0.36862745, 0.36862745, 0.36862745],\n",
       "        [0.36470588, 0.36470588, 0.36470588],\n",
       "        [0.35686275, 0.35686275, 0.35686275]]])"
      ]
     },
     "execution_count": 49,
     "metadata": {},
     "output_type": "execute_result"
    }
   ],
   "source": [
    "preprocessed_image"
   ]
  },
  {
   "cell_type": "code",
   "execution_count": 31,
   "metadata": {},
   "outputs": [
    {
     "name": "stdout",
     "output_type": "stream",
     "text": [
      "1/1 [==============================] - 1s 549ms/step\n",
      "1/1 [==============================] - 0s 99ms/step\n",
      "1/1 [==============================] - 0s 99ms/step\n",
      "1/1 [==============================] - 0s 101ms/step\n",
      "1/1 [==============================] - 0s 96ms/step\n",
      "1/1 [==============================] - 0s 93ms/step\n",
      "1/1 [==============================] - 0s 93ms/step\n",
      "1/1 [==============================] - 0s 93ms/step\n",
      "1/1 [==============================] - 0s 98ms/step\n",
      "1/1 [==============================] - 0s 95ms/step\n",
      "1/1 [==============================] - 0s 98ms/step\n",
      "1/1 [==============================] - 0s 94ms/step\n",
      "1/1 [==============================] - 0s 97ms/step\n",
      "1/1 [==============================] - 0s 97ms/step\n",
      "1/1 [==============================] - 0s 96ms/step\n",
      "1/1 [==============================] - 0s 96ms/step\n",
      "1/1 [==============================] - 0s 92ms/step\n",
      "1/1 [==============================] - 0s 95ms/step\n",
      "1/1 [==============================] - 0s 100ms/step\n",
      "1/1 [==============================] - 0s 98ms/step\n",
      "1/1 [==============================] - 0s 94ms/step\n",
      "1/1 [==============================] - 0s 92ms/step\n",
      "1/1 [==============================] - 0s 94ms/step\n",
      "1/1 [==============================] - 0s 91ms/step\n",
      "1/1 [==============================] - 0s 91ms/step\n",
      "1/1 [==============================] - 0s 98ms/step\n",
      "1/1 [==============================] - 0s 95ms/step\n",
      "1/1 [==============================] - 0s 92ms/step\n",
      "1/1 [==============================] - 0s 99ms/step\n",
      "1/1 [==============================] - 0s 95ms/step\n",
      "1/1 [==============================] - 0s 95ms/step\n",
      "1/1 [==============================] - 0s 96ms/step\n",
      "1/1 [==============================] - 0s 92ms/step\n",
      "1/1 [==============================] - 0s 95ms/step\n",
      "1/1 [==============================] - 0s 99ms/step\n",
      "1/1 [==============================] - 0s 93ms/step\n",
      "1/1 [==============================] - 0s 96ms/step\n",
      "1/1 [==============================] - 0s 98ms/step\n",
      "1/1 [==============================] - 0s 99ms/step\n",
      "1/1 [==============================] - 0s 94ms/step\n",
      "1/1 [==============================] - 0s 93ms/step\n",
      "1/1 [==============================] - 0s 94ms/step\n",
      "1/1 [==============================] - 0s 94ms/step\n",
      "1/1 [==============================] - 0s 93ms/step\n",
      "1/1 [==============================] - 0s 98ms/step\n",
      "1/1 [==============================] - 0s 96ms/step\n",
      "1/1 [==============================] - 0s 94ms/step\n",
      "1/1 [==============================] - 0s 89ms/step\n",
      "1/1 [==============================] - 0s 93ms/step\n",
      "1/1 [==============================] - 0s 90ms/step\n",
      "1/1 [==============================] - 0s 92ms/step\n",
      "1/1 [==============================] - 0s 97ms/step\n",
      "1/1 [==============================] - 0s 93ms/step\n",
      "1/1 [==============================] - 0s 94ms/step\n",
      "1/1 [==============================] - 0s 96ms/step\n",
      "1/1 [==============================] - 0s 96ms/step\n",
      "1/1 [==============================] - 0s 94ms/step\n",
      "1/1 [==============================] - 0s 94ms/step\n",
      "1/1 [==============================] - 0s 91ms/step\n",
      "1/1 [==============================] - 0s 93ms/step\n",
      "1/1 [==============================] - 0s 96ms/step\n",
      "1/1 [==============================] - 0s 95ms/step\n",
      "1/1 [==============================] - 0s 97ms/step\n",
      "1/1 [==============================] - 0s 93ms/step\n",
      "1/1 [==============================] - 0s 92ms/step\n",
      "1/1 [==============================] - 0s 92ms/step\n"
     ]
    },
    {
     "ename": "InvalidArgumentError",
     "evalue": "Graph execution error:\n\nDetected at node sequential/resnet50v2/conv1_pad/Pad defined at (most recent call last):\n  File \"<frozen runpy>\", line 198, in _run_module_as_main\n\n  File \"<frozen runpy>\", line 88, in _run_code\n\n  File \"C:\\Users\\Jon\\AppData\\Roaming\\Python\\Python311\\site-packages\\ipykernel_launcher.py\", line 18, in <module>\n\n  File \"C:\\Users\\Jon\\AppData\\Roaming\\Python\\Python311\\site-packages\\traitlets\\config\\application.py\", line 1075, in launch_instance\n\n  File \"C:\\Users\\Jon\\AppData\\Roaming\\Python\\Python311\\site-packages\\ipykernel\\kernelapp.py\", line 739, in start\n\n  File \"C:\\Users\\Jon\\AppData\\Roaming\\Python\\Python311\\site-packages\\tornado\\platform\\asyncio.py\", line 205, in start\n\n  File \"c:\\Users\\Jon\\AppData\\Local\\Programs\\Python\\Python311\\Lib\\asyncio\\base_events.py\", line 608, in run_forever\n\n  File \"c:\\Users\\Jon\\AppData\\Local\\Programs\\Python\\Python311\\Lib\\asyncio\\base_events.py\", line 1936, in _run_once\n\n  File \"c:\\Users\\Jon\\AppData\\Local\\Programs\\Python\\Python311\\Lib\\asyncio\\events.py\", line 84, in _run\n\n  File \"C:\\Users\\Jon\\AppData\\Roaming\\Python\\Python311\\site-packages\\ipykernel\\kernelbase.py\", line 545, in dispatch_queue\n\n  File \"C:\\Users\\Jon\\AppData\\Roaming\\Python\\Python311\\site-packages\\ipykernel\\kernelbase.py\", line 534, in process_one\n\n  File \"C:\\Users\\Jon\\AppData\\Roaming\\Python\\Python311\\site-packages\\ipykernel\\kernelbase.py\", line 437, in dispatch_shell\n\n  File \"C:\\Users\\Jon\\AppData\\Roaming\\Python\\Python311\\site-packages\\ipykernel\\ipkernel.py\", line 362, in execute_request\n\n  File \"C:\\Users\\Jon\\AppData\\Roaming\\Python\\Python311\\site-packages\\ipykernel\\kernelbase.py\", line 778, in execute_request\n\n  File \"C:\\Users\\Jon\\AppData\\Roaming\\Python\\Python311\\site-packages\\ipykernel\\ipkernel.py\", line 449, in do_execute\n\n  File \"C:\\Users\\Jon\\AppData\\Roaming\\Python\\Python311\\site-packages\\ipykernel\\zmqshell.py\", line 549, in run_cell\n\n  File \"C:\\Users\\Jon\\AppData\\Roaming\\Python\\Python311\\site-packages\\IPython\\core\\interactiveshell.py\", line 3075, in run_cell\n\n  File \"C:\\Users\\Jon\\AppData\\Roaming\\Python\\Python311\\site-packages\\IPython\\core\\interactiveshell.py\", line 3130, in _run_cell\n\n  File \"C:\\Users\\Jon\\AppData\\Roaming\\Python\\Python311\\site-packages\\IPython\\core\\async_helpers.py\", line 129, in _pseudo_sync_runner\n\n  File \"C:\\Users\\Jon\\AppData\\Roaming\\Python\\Python311\\site-packages\\IPython\\core\\interactiveshell.py\", line 3334, in run_cell_async\n\n  File \"C:\\Users\\Jon\\AppData\\Roaming\\Python\\Python311\\site-packages\\IPython\\core\\interactiveshell.py\", line 3517, in run_ast_nodes\n\n  File \"C:\\Users\\Jon\\AppData\\Roaming\\Python\\Python311\\site-packages\\IPython\\core\\interactiveshell.py\", line 3577, in run_code\n\n  File \"C:\\Users\\Jon\\AppData\\Local\\Temp\\ipykernel_32004\\620611219.py\", line 28, in <module>\n\n  File \"c:\\Users\\Jon\\AppData\\Local\\Programs\\Python\\Python311\\Lib\\site-packages\\keras\\src\\utils\\traceback_utils.py\", line 65, in error_handler\n\n  File \"c:\\Users\\Jon\\AppData\\Local\\Programs\\Python\\Python311\\Lib\\site-packages\\keras\\src\\engine\\training.py\", line 2631, in predict\n\n  File \"c:\\Users\\Jon\\AppData\\Local\\Programs\\Python\\Python311\\Lib\\site-packages\\keras\\src\\engine\\training.py\", line 2416, in predict_function\n\n  File \"c:\\Users\\Jon\\AppData\\Local\\Programs\\Python\\Python311\\Lib\\site-packages\\keras\\src\\engine\\training.py\", line 2401, in step_function\n\n  File \"c:\\Users\\Jon\\AppData\\Local\\Programs\\Python\\Python311\\Lib\\site-packages\\keras\\src\\engine\\training.py\", line 2389, in run_step\n\n  File \"c:\\Users\\Jon\\AppData\\Local\\Programs\\Python\\Python311\\Lib\\site-packages\\keras\\src\\engine\\training.py\", line 2357, in predict_step\n\n  File \"c:\\Users\\Jon\\AppData\\Local\\Programs\\Python\\Python311\\Lib\\site-packages\\keras\\src\\utils\\traceback_utils.py\", line 65, in error_handler\n\n  File \"c:\\Users\\Jon\\AppData\\Local\\Programs\\Python\\Python311\\Lib\\site-packages\\keras\\src\\engine\\training.py\", line 589, in __call__\n\n  File \"c:\\Users\\Jon\\AppData\\Local\\Programs\\Python\\Python311\\Lib\\site-packages\\keras\\src\\utils\\traceback_utils.py\", line 65, in error_handler\n\n  File \"c:\\Users\\Jon\\AppData\\Local\\Programs\\Python\\Python311\\Lib\\site-packages\\keras\\src\\engine\\base_layer.py\", line 1149, in __call__\n\n  File \"c:\\Users\\Jon\\AppData\\Local\\Programs\\Python\\Python311\\Lib\\site-packages\\keras\\src\\utils\\traceback_utils.py\", line 96, in error_handler\n\n  File \"c:\\Users\\Jon\\AppData\\Local\\Programs\\Python\\Python311\\Lib\\site-packages\\keras\\src\\engine\\sequential.py\", line 398, in call\n\n  File \"c:\\Users\\Jon\\AppData\\Local\\Programs\\Python\\Python311\\Lib\\site-packages\\keras\\src\\engine\\functional.py\", line 515, in call\n\n  File \"c:\\Users\\Jon\\AppData\\Local\\Programs\\Python\\Python311\\Lib\\site-packages\\keras\\src\\engine\\functional.py\", line 672, in _run_internal_graph\n\n  File \"c:\\Users\\Jon\\AppData\\Local\\Programs\\Python\\Python311\\Lib\\site-packages\\keras\\src\\utils\\traceback_utils.py\", line 65, in error_handler\n\n  File \"c:\\Users\\Jon\\AppData\\Local\\Programs\\Python\\Python311\\Lib\\site-packages\\keras\\src\\engine\\training.py\", line 589, in __call__\n\n  File \"c:\\Users\\Jon\\AppData\\Local\\Programs\\Python\\Python311\\Lib\\site-packages\\keras\\src\\utils\\traceback_utils.py\", line 65, in error_handler\n\n  File \"c:\\Users\\Jon\\AppData\\Local\\Programs\\Python\\Python311\\Lib\\site-packages\\keras\\src\\engine\\base_layer.py\", line 1149, in __call__\n\n  File \"c:\\Users\\Jon\\AppData\\Local\\Programs\\Python\\Python311\\Lib\\site-packages\\keras\\src\\utils\\traceback_utils.py\", line 96, in error_handler\n\n  File \"c:\\Users\\Jon\\AppData\\Local\\Programs\\Python\\Python311\\Lib\\site-packages\\keras\\src\\engine\\functional.py\", line 515, in call\n\n  File \"c:\\Users\\Jon\\AppData\\Local\\Programs\\Python\\Python311\\Lib\\site-packages\\keras\\src\\engine\\functional.py\", line 672, in _run_internal_graph\n\n  File \"c:\\Users\\Jon\\AppData\\Local\\Programs\\Python\\Python311\\Lib\\site-packages\\keras\\src\\utils\\traceback_utils.py\", line 65, in error_handler\n\n  File \"c:\\Users\\Jon\\AppData\\Local\\Programs\\Python\\Python311\\Lib\\site-packages\\keras\\src\\engine\\base_layer.py\", line 1149, in __call__\n\n  File \"c:\\Users\\Jon\\AppData\\Local\\Programs\\Python\\Python311\\Lib\\site-packages\\keras\\src\\utils\\traceback_utils.py\", line 96, in error_handler\n\n  File \"c:\\Users\\Jon\\AppData\\Local\\Programs\\Python\\Python311\\Lib\\site-packages\\keras\\src\\layers\\reshaping\\zero_padding2d.py\", line 149, in call\n\n  File \"c:\\Users\\Jon\\AppData\\Local\\Programs\\Python\\Python311\\Lib\\site-packages\\keras\\src\\backend.py\", line 4041, in spatial_2d_padding\n\nThe first dimension of paddings must be the rank of inputs[4,2] [1,256,256]\n\t [[{{node sequential/resnet50v2/conv1_pad/Pad}}]] [Op:__inference_predict_function_53949]",
     "output_type": "error",
     "traceback": [
      "\u001b[1;31m---------------------------------------------------------------------------\u001b[0m",
      "\u001b[1;31mInvalidArgumentError\u001b[0m                      Traceback (most recent call last)",
      "Cell \u001b[1;32mIn[31], line 28\u001b[0m\n\u001b[0;32m     25\u001b[0m preprocessed_image \u001b[38;5;241m=\u001b[39m np\u001b[38;5;241m.\u001b[39marray(preprocessed_image) \u001b[38;5;241m/\u001b[39m \u001b[38;5;241m255.0\u001b[39m\n\u001b[0;32m     27\u001b[0m \u001b[38;5;66;03m# Make prediction\u001b[39;00m\n\u001b[1;32m---> 28\u001b[0m preds \u001b[38;5;241m=\u001b[39m \u001b[43mmodel\u001b[49m\u001b[38;5;241;43m.\u001b[39;49m\u001b[43mpredict\u001b[49m\u001b[43m(\u001b[49m\u001b[43mnp\u001b[49m\u001b[38;5;241;43m.\u001b[39;49m\u001b[43mexpand_dims\u001b[49m\u001b[43m(\u001b[49m\u001b[43mpreprocessed_image\u001b[49m\u001b[43m,\u001b[49m\u001b[43m \u001b[49m\u001b[43maxis\u001b[49m\u001b[38;5;241;43m=\u001b[39;49m\u001b[38;5;241;43m0\u001b[39;49m\u001b[43m)\u001b[49m\u001b[43m)\u001b[49m\n\u001b[0;32m     30\u001b[0m preds_class \u001b[38;5;241m=\u001b[39m np\u001b[38;5;241m.\u001b[39margmax(preds)\n\u001b[0;32m     31\u001b[0m preds_label \u001b[38;5;241m=\u001b[39m labels[preds_class]\n",
      "File \u001b[1;32mc:\\Users\\Jon\\AppData\\Local\\Programs\\Python\\Python311\\Lib\\site-packages\\keras\\src\\utils\\traceback_utils.py:70\u001b[0m, in \u001b[0;36mfilter_traceback.<locals>.error_handler\u001b[1;34m(*args, **kwargs)\u001b[0m\n\u001b[0;32m     67\u001b[0m     filtered_tb \u001b[38;5;241m=\u001b[39m _process_traceback_frames(e\u001b[38;5;241m.\u001b[39m__traceback__)\n\u001b[0;32m     68\u001b[0m     \u001b[38;5;66;03m# To get the full stack trace, call:\u001b[39;00m\n\u001b[0;32m     69\u001b[0m     \u001b[38;5;66;03m# `tf.debugging.disable_traceback_filtering()`\u001b[39;00m\n\u001b[1;32m---> 70\u001b[0m     \u001b[38;5;28;01mraise\u001b[39;00m e\u001b[38;5;241m.\u001b[39mwith_traceback(filtered_tb) \u001b[38;5;28;01mfrom\u001b[39;00m \u001b[38;5;28;01mNone\u001b[39;00m\n\u001b[0;32m     71\u001b[0m \u001b[38;5;28;01mfinally\u001b[39;00m:\n\u001b[0;32m     72\u001b[0m     \u001b[38;5;28;01mdel\u001b[39;00m filtered_tb\n",
      "File \u001b[1;32mc:\\Users\\Jon\\AppData\\Local\\Programs\\Python\\Python311\\Lib\\site-packages\\tensorflow\\python\\eager\\execute.py:60\u001b[0m, in \u001b[0;36mquick_execute\u001b[1;34m(op_name, num_outputs, inputs, attrs, ctx, name)\u001b[0m\n\u001b[0;32m     53\u001b[0m   \u001b[38;5;66;03m# Convert any objects of type core_types.Tensor to Tensor.\u001b[39;00m\n\u001b[0;32m     54\u001b[0m   inputs \u001b[38;5;241m=\u001b[39m [\n\u001b[0;32m     55\u001b[0m       tensor_conversion_registry\u001b[38;5;241m.\u001b[39mconvert(t)\n\u001b[0;32m     56\u001b[0m       \u001b[38;5;28;01mif\u001b[39;00m \u001b[38;5;28misinstance\u001b[39m(t, core_types\u001b[38;5;241m.\u001b[39mTensor)\n\u001b[0;32m     57\u001b[0m       \u001b[38;5;28;01melse\u001b[39;00m t\n\u001b[0;32m     58\u001b[0m       \u001b[38;5;28;01mfor\u001b[39;00m t \u001b[38;5;129;01min\u001b[39;00m inputs\n\u001b[0;32m     59\u001b[0m   ]\n\u001b[1;32m---> 60\u001b[0m   tensors \u001b[38;5;241m=\u001b[39m pywrap_tfe\u001b[38;5;241m.\u001b[39mTFE_Py_Execute(ctx\u001b[38;5;241m.\u001b[39m_handle, device_name, op_name,\n\u001b[0;32m     61\u001b[0m                                       inputs, attrs, num_outputs)\n\u001b[0;32m     62\u001b[0m \u001b[38;5;28;01mexcept\u001b[39;00m core\u001b[38;5;241m.\u001b[39m_NotOkStatusException \u001b[38;5;28;01mas\u001b[39;00m e:\n\u001b[0;32m     63\u001b[0m   \u001b[38;5;28;01mif\u001b[39;00m name \u001b[38;5;129;01mis\u001b[39;00m \u001b[38;5;129;01mnot\u001b[39;00m \u001b[38;5;28;01mNone\u001b[39;00m:\n",
      "\u001b[1;31mInvalidArgumentError\u001b[0m: Graph execution error:\n\nDetected at node sequential/resnet50v2/conv1_pad/Pad defined at (most recent call last):\n  File \"<frozen runpy>\", line 198, in _run_module_as_main\n\n  File \"<frozen runpy>\", line 88, in _run_code\n\n  File \"C:\\Users\\Jon\\AppData\\Roaming\\Python\\Python311\\site-packages\\ipykernel_launcher.py\", line 18, in <module>\n\n  File \"C:\\Users\\Jon\\AppData\\Roaming\\Python\\Python311\\site-packages\\traitlets\\config\\application.py\", line 1075, in launch_instance\n\n  File \"C:\\Users\\Jon\\AppData\\Roaming\\Python\\Python311\\site-packages\\ipykernel\\kernelapp.py\", line 739, in start\n\n  File \"C:\\Users\\Jon\\AppData\\Roaming\\Python\\Python311\\site-packages\\tornado\\platform\\asyncio.py\", line 205, in start\n\n  File \"c:\\Users\\Jon\\AppData\\Local\\Programs\\Python\\Python311\\Lib\\asyncio\\base_events.py\", line 608, in run_forever\n\n  File \"c:\\Users\\Jon\\AppData\\Local\\Programs\\Python\\Python311\\Lib\\asyncio\\base_events.py\", line 1936, in _run_once\n\n  File \"c:\\Users\\Jon\\AppData\\Local\\Programs\\Python\\Python311\\Lib\\asyncio\\events.py\", line 84, in _run\n\n  File \"C:\\Users\\Jon\\AppData\\Roaming\\Python\\Python311\\site-packages\\ipykernel\\kernelbase.py\", line 545, in dispatch_queue\n\n  File \"C:\\Users\\Jon\\AppData\\Roaming\\Python\\Python311\\site-packages\\ipykernel\\kernelbase.py\", line 534, in process_one\n\n  File \"C:\\Users\\Jon\\AppData\\Roaming\\Python\\Python311\\site-packages\\ipykernel\\kernelbase.py\", line 437, in dispatch_shell\n\n  File \"C:\\Users\\Jon\\AppData\\Roaming\\Python\\Python311\\site-packages\\ipykernel\\ipkernel.py\", line 362, in execute_request\n\n  File \"C:\\Users\\Jon\\AppData\\Roaming\\Python\\Python311\\site-packages\\ipykernel\\kernelbase.py\", line 778, in execute_request\n\n  File \"C:\\Users\\Jon\\AppData\\Roaming\\Python\\Python311\\site-packages\\ipykernel\\ipkernel.py\", line 449, in do_execute\n\n  File \"C:\\Users\\Jon\\AppData\\Roaming\\Python\\Python311\\site-packages\\ipykernel\\zmqshell.py\", line 549, in run_cell\n\n  File \"C:\\Users\\Jon\\AppData\\Roaming\\Python\\Python311\\site-packages\\IPython\\core\\interactiveshell.py\", line 3075, in run_cell\n\n  File \"C:\\Users\\Jon\\AppData\\Roaming\\Python\\Python311\\site-packages\\IPython\\core\\interactiveshell.py\", line 3130, in _run_cell\n\n  File \"C:\\Users\\Jon\\AppData\\Roaming\\Python\\Python311\\site-packages\\IPython\\core\\async_helpers.py\", line 129, in _pseudo_sync_runner\n\n  File \"C:\\Users\\Jon\\AppData\\Roaming\\Python\\Python311\\site-packages\\IPython\\core\\interactiveshell.py\", line 3334, in run_cell_async\n\n  File \"C:\\Users\\Jon\\AppData\\Roaming\\Python\\Python311\\site-packages\\IPython\\core\\interactiveshell.py\", line 3517, in run_ast_nodes\n\n  File \"C:\\Users\\Jon\\AppData\\Roaming\\Python\\Python311\\site-packages\\IPython\\core\\interactiveshell.py\", line 3577, in run_code\n\n  File \"C:\\Users\\Jon\\AppData\\Local\\Temp\\ipykernel_32004\\620611219.py\", line 28, in <module>\n\n  File \"c:\\Users\\Jon\\AppData\\Local\\Programs\\Python\\Python311\\Lib\\site-packages\\keras\\src\\utils\\traceback_utils.py\", line 65, in error_handler\n\n  File \"c:\\Users\\Jon\\AppData\\Local\\Programs\\Python\\Python311\\Lib\\site-packages\\keras\\src\\engine\\training.py\", line 2631, in predict\n\n  File \"c:\\Users\\Jon\\AppData\\Local\\Programs\\Python\\Python311\\Lib\\site-packages\\keras\\src\\engine\\training.py\", line 2416, in predict_function\n\n  File \"c:\\Users\\Jon\\AppData\\Local\\Programs\\Python\\Python311\\Lib\\site-packages\\keras\\src\\engine\\training.py\", line 2401, in step_function\n\n  File \"c:\\Users\\Jon\\AppData\\Local\\Programs\\Python\\Python311\\Lib\\site-packages\\keras\\src\\engine\\training.py\", line 2389, in run_step\n\n  File \"c:\\Users\\Jon\\AppData\\Local\\Programs\\Python\\Python311\\Lib\\site-packages\\keras\\src\\engine\\training.py\", line 2357, in predict_step\n\n  File \"c:\\Users\\Jon\\AppData\\Local\\Programs\\Python\\Python311\\Lib\\site-packages\\keras\\src\\utils\\traceback_utils.py\", line 65, in error_handler\n\n  File \"c:\\Users\\Jon\\AppData\\Local\\Programs\\Python\\Python311\\Lib\\site-packages\\keras\\src\\engine\\training.py\", line 589, in __call__\n\n  File \"c:\\Users\\Jon\\AppData\\Local\\Programs\\Python\\Python311\\Lib\\site-packages\\keras\\src\\utils\\traceback_utils.py\", line 65, in error_handler\n\n  File \"c:\\Users\\Jon\\AppData\\Local\\Programs\\Python\\Python311\\Lib\\site-packages\\keras\\src\\engine\\base_layer.py\", line 1149, in __call__\n\n  File \"c:\\Users\\Jon\\AppData\\Local\\Programs\\Python\\Python311\\Lib\\site-packages\\keras\\src\\utils\\traceback_utils.py\", line 96, in error_handler\n\n  File \"c:\\Users\\Jon\\AppData\\Local\\Programs\\Python\\Python311\\Lib\\site-packages\\keras\\src\\engine\\sequential.py\", line 398, in call\n\n  File \"c:\\Users\\Jon\\AppData\\Local\\Programs\\Python\\Python311\\Lib\\site-packages\\keras\\src\\engine\\functional.py\", line 515, in call\n\n  File \"c:\\Users\\Jon\\AppData\\Local\\Programs\\Python\\Python311\\Lib\\site-packages\\keras\\src\\engine\\functional.py\", line 672, in _run_internal_graph\n\n  File \"c:\\Users\\Jon\\AppData\\Local\\Programs\\Python\\Python311\\Lib\\site-packages\\keras\\src\\utils\\traceback_utils.py\", line 65, in error_handler\n\n  File \"c:\\Users\\Jon\\AppData\\Local\\Programs\\Python\\Python311\\Lib\\site-packages\\keras\\src\\engine\\training.py\", line 589, in __call__\n\n  File \"c:\\Users\\Jon\\AppData\\Local\\Programs\\Python\\Python311\\Lib\\site-packages\\keras\\src\\utils\\traceback_utils.py\", line 65, in error_handler\n\n  File \"c:\\Users\\Jon\\AppData\\Local\\Programs\\Python\\Python311\\Lib\\site-packages\\keras\\src\\engine\\base_layer.py\", line 1149, in __call__\n\n  File \"c:\\Users\\Jon\\AppData\\Local\\Programs\\Python\\Python311\\Lib\\site-packages\\keras\\src\\utils\\traceback_utils.py\", line 96, in error_handler\n\n  File \"c:\\Users\\Jon\\AppData\\Local\\Programs\\Python\\Python311\\Lib\\site-packages\\keras\\src\\engine\\functional.py\", line 515, in call\n\n  File \"c:\\Users\\Jon\\AppData\\Local\\Programs\\Python\\Python311\\Lib\\site-packages\\keras\\src\\engine\\functional.py\", line 672, in _run_internal_graph\n\n  File \"c:\\Users\\Jon\\AppData\\Local\\Programs\\Python\\Python311\\Lib\\site-packages\\keras\\src\\utils\\traceback_utils.py\", line 65, in error_handler\n\n  File \"c:\\Users\\Jon\\AppData\\Local\\Programs\\Python\\Python311\\Lib\\site-packages\\keras\\src\\engine\\base_layer.py\", line 1149, in __call__\n\n  File \"c:\\Users\\Jon\\AppData\\Local\\Programs\\Python\\Python311\\Lib\\site-packages\\keras\\src\\utils\\traceback_utils.py\", line 96, in error_handler\n\n  File \"c:\\Users\\Jon\\AppData\\Local\\Programs\\Python\\Python311\\Lib\\site-packages\\keras\\src\\layers\\reshaping\\zero_padding2d.py\", line 149, in call\n\n  File \"c:\\Users\\Jon\\AppData\\Local\\Programs\\Python\\Python311\\Lib\\site-packages\\keras\\src\\backend.py\", line 4041, in spatial_2d_padding\n\nThe first dimension of paddings must be the rank of inputs[4,2] [1,256,256]\n\t [[{{node sequential/resnet50v2/conv1_pad/Pad}}]] [Op:__inference_predict_function_53949]"
     ]
    }
   ],
   "source": [
    "import os\n",
    "import numpy as np\n",
    "from PIL import Image\n",
    "import tensorflow as tf  # Assuming `model` is a TensorFlow/Keras model\n",
    "from sklearn.metrics import classification_report\n",
    "from collections import Counter\n",
    "\n",
    "# Load your model (ensure you have it defined or loaded elsewhere)\n",
    "model = tf.keras.models.load_model(begin_path + 'bone_fracture_resnet_v1.h5')  # Update with actual model path\n",
    "\n",
    "# Define the folder containing images\n",
    "folder_path = begin_path + 'test/not_fractured'  # Update with your folder path\n",
    "labels = subfolders  # Assuming labels are subfolder names\n",
    "\n",
    "\n",
    "output = []\n",
    "# Iterate through all image files in the folder\n",
    "for filename in os.listdir(folder_path):\n",
    "    if filename.lower().endswith(('.png', '.jpg', '.jpeg')):  # Process only image files\n",
    "        image_path = os.path.join(folder_path, filename)\n",
    "\n",
    "        # Open and preprocess the image\n",
    "        original_image = Image.open(image_path)\n",
    "        preprocessed_image = original_image.resize((256, 256))\n",
    "        preprocessed_image = np.array(preprocessed_image) / 255.0\n",
    "\n",
    "        # Make prediction\n",
    "        preds = model.predict(np.expand_dims(preprocessed_image, axis=0))\n",
    "        \n",
    "        preds_class = np.argmax(preds)\n",
    "        preds_label = labels[preds_class]\n",
    "        output.append(preds_label)\n",
    "        # # Print results\n",
    "        # print(f'\\nImage: {filename}')\n",
    "        # print(f'Predicted Class: {preds_label}')\n",
    "        # print(f'Confidence Score: {preds[0][preds_class]}')\n",
    "counts = Counter(output)\n",
    "TP = counts['not_fractured']\n",
    "FN = counts['fractured']\n",
    "\n",
    "folder_path = begin_path + 'test/fractured'  # Update with your folder path\n",
    "labels = subfolders  # Assuming labels are subfolder names\n",
    "\n",
    "\n",
    "output = []\n",
    "# Iterate through all image files in the folder\n",
    "for filename in os.listdir(folder_path):\n",
    "    if filename.lower().endswith(('.png', '.jpg', '.jpeg')):  # Process only image files\n",
    "        image_path = os.path.join(folder_path, filename)\n",
    "\n",
    "        # Open and preprocess the image\n",
    "        original_image = Image.open(image_path)\n",
    "        preprocessed_image = original_image.resize((256, 256))\n",
    "        preprocessed_image = np.array(preprocessed_image) / 255.0\n",
    "\n",
    "        # Make prediction\n",
    "        preds = model.predict(np.expand_dims(preprocessed_image, axis=0))\n",
    "        \n",
    "        preds_class = np.argmax(preds)\n",
    "        preds_label = labels[preds_class]\n",
    "        output.append(preds_label)\n",
    "        # # Print results\n",
    "        # print(f'\\nImage: {filename}')\n",
    "        # print(f'Predicted Class: {preds_label}')\n",
    "        # print(f'Confidence Score: {preds[0][preds_class]}')\n",
    "counts = Counter(output)\n",
    "TN = counts['fractured']\n",
    "FP = counts['not_fractured']\n",
    "\n",
    "# Reconstruct y_true and y_pred\n",
    "y_true = np.array([0] * (TN + FP) + [1] * (TP + FN))  # First class 0, then class 1\n",
    "y_pred = np.array([0] * TN + [1] * FP + [0] * FN + [1] * TP)  # Predictions based on confusion matrix\n",
    "\n",
    "# Generate classification report\n",
    "print(classification_report(y_true, y_pred))"
   ]
  },
  {
   "cell_type": "code",
   "execution_count": null,
   "metadata": {},
   "outputs": [],
   "source": []
  },
  {
   "cell_type": "code",
   "execution_count": null,
   "metadata": {},
   "outputs": [],
   "source": []
  },
  {
   "cell_type": "code",
   "execution_count": null,
   "metadata": {},
   "outputs": [],
   "source": []
  },
  {
   "cell_type": "code",
   "execution_count": null,
   "metadata": {},
   "outputs": [],
   "source": []
  },
  {
   "cell_type": "code",
   "execution_count": null,
   "metadata": {},
   "outputs": [],
   "source": []
  },
  {
   "cell_type": "code",
   "execution_count": null,
   "metadata": {},
   "outputs": [],
   "source": []
  },
  {
   "cell_type": "code",
   "execution_count": null,
   "metadata": {},
   "outputs": [],
   "source": []
  },
  {
   "cell_type": "code",
   "execution_count": null,
   "metadata": {},
   "outputs": [],
   "source": []
  },
  {
   "cell_type": "code",
   "execution_count": null,
   "metadata": {},
   "outputs": [],
   "source": []
  },
  {
   "cell_type": "code",
   "execution_count": null,
   "metadata": {},
   "outputs": [],
   "source": [
    "#"
   ]
  },
  {
   "cell_type": "code",
   "execution_count": null,
   "metadata": {},
   "outputs": [],
   "source": []
  },
  {
   "cell_type": "code",
   "execution_count": null,
   "metadata": {},
   "outputs": [],
   "source": []
  },
  {
   "cell_type": "code",
   "execution_count": null,
   "metadata": {},
   "outputs": [],
   "source": [
    "#%pip install pydot_ng"
   ]
  },
  {
   "cell_type": "code",
   "execution_count": null,
   "metadata": {},
   "outputs": [],
   "source": [
    "#%pip install pydot"
   ]
  },
  {
   "cell_type": "code",
   "execution_count": null,
   "metadata": {},
   "outputs": [],
   "source": [
    "%pip list"
   ]
  },
  {
   "cell_type": "code",
   "execution_count": null,
   "metadata": {},
   "outputs": [],
   "source": [
    "import tensorflow.compat"
   ]
  },
  {
   "cell_type": "code",
   "execution_count": null,
   "metadata": {},
   "outputs": [],
   "source": [
    "#%pip install jax==0.4.28\n",
    "%pip install jax==0.5.1\n",
    "# %pip install keras==2.14.0\n",
    "# %pip install tensorflow.compat==2.16.1\n"
   ]
  }
 ],
 "metadata": {
  "kernelspec": {
   "display_name": "Python 3",
   "language": "python",
   "name": "python3"
  },
  "language_info": {
   "codemirror_mode": {
    "name": "ipython",
    "version": 3
   },
   "file_extension": ".py",
   "mimetype": "text/x-python",
   "name": "python",
   "nbconvert_exporter": "python",
   "pygments_lexer": "ipython3",
   "version": "3.11.9"
  }
 },
 "nbformat": 4,
 "nbformat_minor": 2
}
