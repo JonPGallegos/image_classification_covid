{
 "cells": [
  {
   "cell_type": "code",
   "execution_count": 30,
   "metadata": {},
   "outputs": [
    {
     "data": {
      "text/html": [
       "        <script type=\"text/javascript\">\n",
       "        window.PlotlyConfig = {MathJaxConfig: 'local'};\n",
       "        if (window.MathJax && window.MathJax.Hub && window.MathJax.Hub.Config) {window.MathJax.Hub.Config({SVG: {font: \"STIX-Web\"}});}\n",
       "        if (typeof require !== 'undefined') {\n",
       "        require.undef(\"plotly\");\n",
       "        requirejs.config({\n",
       "            paths: {\n",
       "                'plotly': ['https://cdn.plot.ly/plotly-2.32.0.min']\n",
       "            }\n",
       "        });\n",
       "        require(['plotly'], function(Plotly) {\n",
       "            window._Plotly = Plotly;\n",
       "        });\n",
       "        }\n",
       "        </script>\n",
       "        "
      ]
     },
     "metadata": {},
     "output_type": "display_data"
    }
   ],
   "source": [
    "# Importing Libraries\n",
    "\n",
    "# Data Handling\n",
    "import pandas as pd\n",
    "import numpy as np\n",
    "from collections import defaultdict\n",
    "from concurrent.futures import ThreadPoolExecutor\n",
    "\n",
    "# Efficient Looping\n",
    "import itertools\n",
    "\n",
    "# Traceback for diagnosis\n",
    "import traceback\n",
    "\n",
    "# Data Visualization\n",
    "import plotly.express as px\n",
    "import plotly.graph_objs as go\n",
    "import plotly.subplots as sp\n",
    "from plotly.subplots import make_subplots\n",
    "import plotly.figure_factory as ff\n",
    "import plotly.io as pio\n",
    "from IPython.display import display\n",
    "from plotly.offline import init_notebook_mode\n",
    "init_notebook_mode(connected=True)\n",
    "\n",
    "# Statistics & Mathematics\n",
    "import scipy.stats as stats\n",
    "import statsmodels.api as sm\n",
    "from scipy.stats import shapiro, skew, anderson, kstest\n",
    "import math\n",
    "\n",
    "# Feature Selection\n",
    "from sklearn.feature_selection import (\n",
    "    RFECV, SelectKBest, chi2, f_classif, f_regression,\n",
    "    mutual_info_classif, mutual_info_regression\n",
    ")\n",
    "\n",
    "# Machine Learning Pipeline\n",
    "from sklearn.pipeline import Pipeline\n",
    "from sklearn.compose import ColumnTransformer\n",
    "from sklearn.base import BaseEstimator, TransformerMixin,ClassifierMixin\n",
    "\n",
    "# Preprocessing data\n",
    "from sklearn.preprocessing import RobustScaler, StandardScaler, QuantileTransformer, FunctionTransformer\n",
    "\n",
    "from sklearn.compose import ColumnTransformer\n",
    "from sklearn.base import BaseEstimator, TransformerMixin\n",
    "\n",
    "# Model Selection for Cross Validation\n",
    "from sklearn.model_selection import (\n",
    "    StratifiedKFold, KFold, \n",
    "    RepeatedKFold, RepeatedStratifiedKFold,\n",
    "    train_test_split, TimeSeriesSplit\n",
    ")\n",
    "\n",
    "# Machine Learning metrics\n",
    "from sklearn.metrics import (\n",
    "    mean_squared_error,\n",
    "    r2_score,\n",
    "    mean_absolute_error,\n",
    "    cohen_kappa_score,\n",
    "    make_scorer,\n",
    "    roc_curve,\n",
    "    auc,\n",
    "    accuracy_score,\n",
    "    f1_score,\n",
    "    precision_score,\n",
    "    recall_score,\n",
    "    confusion_matrix\n",
    ")\n",
    "\n",
    "# ML regressors\n",
    "from sklearn.linear_model import HuberRegressor,RANSACRegressor, TheilSenRegressor, Ridge, Lasso, ElasticNet\n",
    "from sklearn.svm import SVR, NuSVR, LinearSVR\n",
    "from sklearn.ensemble import (\n",
    "    HistGradientBoostingRegressor, StackingRegressor, \n",
    "    AdaBoostRegressor, RandomForestRegressor, ExtraTreesRegressor,\n",
    "    GradientBoostingRegressor, StackingRegressor, VotingRegressor\n",
    "    )\n",
    "# from catboost import CatBoostRegressor\n",
    "from xgboost import XGBRegressor\n",
    "from lightgbm import LGBMRegressor\n",
    "\n",
    "\n",
    "# ML classifiers\n",
    "from sklearn.linear_model import LogisticRegression, RidgeClassifier\n",
    "from sklearn.svm import SVC, NuSVC, LinearSVC\n",
    "from sklearn.ensemble import (\n",
    "    HistGradientBoostingClassifier, AdaBoostClassifier, \n",
    "    RandomForestClassifier, GradientBoostingClassifier,\n",
    "    StackingClassifier, VotingClassifier,ExtraTreesClassifier\n",
    "    )\n",
    "from sklearn.tree import DecisionTreeClassifier\n",
    "# from catboost import CatBoostClassifier\n",
    "from xgboost import XGBClassifier\n",
    "from lightgbm import LGBMClassifier\n",
    "\n",
    "# Clustering algorithms\n",
    "from sklearn.cluster import KMeans\n",
    "\n",
    "# Fine-tuning \n",
    "import optuna\n",
    "\n",
    "# Randomizer\n",
    "import random\n",
    "\n",
    "# Encoder of categorical variables\n",
    "from sklearn.preprocessing import OrdinalEncoder, OneHotEncoder\n",
    "\n",
    "# OS\n",
    "import os\n",
    "\n",
    "# Image package\n",
    "from PIL import Image\n",
    "\n",
    "# Hiding warnings \n",
    "import warnings\n",
    "warnings.filterwarnings(\"ignore\")"
   ]
  },
  {
   "cell_type": "code",
   "execution_count": 31,
   "metadata": {},
   "outputs": [],
   "source": [
    "\n",
    "# Importing Keras \n",
    "from keras.models import Sequential                          # Neural network model as a sequence of layers.\n",
    "from keras.layers import Conv2D                              # Convolutional layer\n",
    "from keras.layers import MaxPooling2D                        # Max pooling layer \n",
    "from keras.layers import Flatten                             # Layer used to flatten 2D arrays for fully-connected layers.\n",
    "from keras.layers import Dense                               # This layer adds fully-connected layers to the neural network.\n",
    "from keras.layers import Dropout                             # This serves to prevent overfitting by dropping out a random set of activations.\n",
    "from keras.layers import BatchNormalization                  # This is used to normalize the activations of the neurons.\n",
    "from keras.layers import Activation                          # Layer for activation functions\n",
    "from keras.callbacks import EarlyStopping, ModelCheckpoint   # Classes used to save weights and stop training when improvements reach a limit\n",
    "from keras.models import load_model                          # This helps us to load trained models\n",
    "# Preprocessing layers\n",
    "from keras.layers import Rescaling                           # This layer rescales pixel values\n",
    "\n",
    "# Importing TensorFlow\n",
    "import tensorflow as tf"
   ]
  },
  {
   "cell_type": "code",
   "execution_count": 32,
   "metadata": {},
   "outputs": [],
   "source": [
    "paper_color = '#EEF6FF'\n",
    "bg_color = '#EEF6FF'"
   ]
  },
  {
   "cell_type": "code",
   "execution_count": 33,
   "metadata": {},
   "outputs": [],
   "source": [
    "def image_resizer(paths):\n",
    "    \"\"\"\n",
    "    This function resizes the input images\n",
    "    \"\"\"\n",
    "    with ThreadPoolExecutor() as executor:\n",
    "        resized_images = list(executor.map(lambda x: Image.open(x).resize((350,250)), paths))\n",
    "    return resized_images\n",
    "def plot_images_list(images, title, subtitle):\n",
    "    '''\n",
    "    This functions helps to plot a matrix of images in a list\n",
    "    '''\n",
    "    fig = sp.make_subplots(rows=3, cols=3)\n",
    "    images = image_resizer(images)\n",
    "    \n",
    "    traces = []\n",
    "    for i in range(min(9, len(images))):\n",
    "        img = go.Image(z=images[i])\n",
    "        traces.append((img, i//3+1, i%3+1))\n",
    "        \n",
    "    fig.add_traces([trace[0] for trace in traces],\n",
    "                  rows = [trace[1] for trace in traces],\n",
    "                  cols = [trace[2] for trace in traces])\n",
    "\n",
    "    fig.update_layout(\n",
    "        title={'text': f'<b>{title}<br>  <i><sub>{subtitle}</sub></i></b>',\n",
    "               'font': dict(size = 22)},\n",
    "        height=800,\n",
    "        width=800,\n",
    "        margin=dict(t=110, l=80),\n",
    "        plot_bgcolor=bg_color,paper_bgcolor=paper_color\n",
    "        #template=template\n",
    "    )\n",
    "    fig.show()"
   ]
  },
  {
   "cell_type": "code",
   "execution_count": 34,
   "metadata": {},
   "outputs": [
    {
     "name": "stdout",
     "output_type": "stream",
     "text": [
      "\n",
      "* * * * * Number of files in each folder * * * * *\n",
      "\n",
      "\n",
      "train_dir/Avulsion fracture: 109\n",
      "\n",
      "train_dir/Comminuted fracture: 134\n",
      "\n",
      "train_dir/Fracture Dislocation: 137\n",
      "\n",
      "train_dir/Greenstick fracture: 106\n",
      "\n",
      "train_dir/Hairline Fracture: 101\n",
      "\n",
      "train_dir/Impacted fracture: 75\n",
      "\n",
      "train_dir/Longitudinal fracture: 68\n",
      "\n",
      "train_dir/Oblique fracture: 69\n",
      "\n",
      "train_dir/Pathological fracture: 116\n",
      "\n",
      "train_dir/Spiral Fracture: 74\n",
      "\n",
      "  Total: 989\n",
      "--------------------------------------------------------------------------------\n",
      "\n",
      "test_dir/Avulsion fracture: 14\n",
      "\n",
      "test_dir/Comminuted fracture: 14\n",
      "\n",
      "test_dir/Fracture Dislocation: 19\n",
      "\n",
      "test_dir/Greenstick fracture: 16\n",
      "\n",
      "test_dir/Hairline Fracture: 10\n",
      "\n",
      "test_dir/Impacted fracture: 9\n",
      "\n",
      "test_dir/Longitudinal fracture: 12\n",
      "\n",
      "test_dir/Oblique fracture: 16\n",
      "\n",
      "test_dir/Pathological fracture: 18\n",
      "\n",
      "test_dir/Spiral Fracture: 12\n",
      "\n",
      "  Total: 140\n",
      "--------------------------------------------------------------------------------\n"
     ]
    }
   ],
   "source": [
    "import os\n",
    "\n",
    "# Giving names to each directory\n",
    "directories = {\n",
    "    'train_dir': 'train',\n",
    "    'test_dir': 'test'\n",
    "    }\n",
    "\n",
    "# Naming subfolders\n",
    "subfolders = ['Avulsion fracture','Comminuted fracture','Fracture Dislocation',\n",
    "                'Greenstick fracture','Hairline Fracture','Impacted fracture',\n",
    "                'Longitudinal fracture','Oblique fracture','Pathological fracture',\n",
    "                'Spiral Fracture']\n",
    "\n",
    "print('\\n* * * * * Number of files in each folder * * * * *\\n')\n",
    "\n",
    "# Counting the total of pictures inside each subfolder and directory\n",
    "for name, dir  in directories.items():\n",
    "    total = 0\n",
    "    for sub in subfolders:\n",
    "        path = os.path.join(dir, sub)\n",
    "        num_files = len([f for f in os.listdir(path) if os.path.join(path, f)])\n",
    "        total += num_files\n",
    "        print(f'\\n{name}/{sub}: {num_files}')\n",
    "    print(f'\\n  Total: {total}')\n",
    "    print(\"-\" * 80)"
   ]
  },
  {
   "cell_type": "code",
   "execution_count": 35,
   "metadata": {},
   "outputs": [
    {
     "name": "stdout",
     "output_type": "stream",
     "text": [
      "\n",
      "Found 642 unique image dimensions: {(224, 122), (408, 608), (150, 322), (551, 526), (275, 591), (199, 452), (89, 589), (267, 614), (160, 640), (465, 351), (536, 640), (262, 526), (207, 312), (285, 640), (468, 640), (210, 317), (564, 595), (187, 370), (234, 311), (212, 274), (282, 360), (166, 167), (498, 640), (91, 640), (612, 235), (342, 640), (210, 582), (494, 359), (364, 640), (179, 640), (144, 264), (337, 579), (249, 466), (315, 640), (395, 520), (182, 385), (215, 580), (339, 597), (311, 526), (300, 624), (528, 640), (121, 640), (256, 608), (449, 585), (277, 640), (218, 563), (453, 237), (176, 603), (293, 593), (585, 640), (251, 624), (262, 624), (334, 640), (636, 596), (239, 640), (640, 566), (274, 616), (122, 640), (221, 610), (400, 612), (181, 317), (597, 470), (307, 640), (306, 586), (296, 640), (640, 184), (190, 640), (578, 636), (454, 439), (303, 517), (378, 529), (258, 640), (392, 640), (640, 296), (288, 110), (555, 612), (209, 640), (134, 555), (607, 640), (410, 620), (539, 640), (200, 429), (288, 640), (640, 426), (171, 640), (182, 640), (307, 244), (372, 639), (92, 176), (358, 475), (216, 629), (212, 250), (138, 310), (310, 416), (274, 570), (639, 601), (144, 640), (169, 297), (191, 154), (412, 558), (172, 558), (358, 596), (201, 640), (488, 544), (502, 451), (279, 559), (172, 585), (201, 469), (196, 552), (327, 446), (593, 593), (163, 640), (416, 640), (131, 162), (610, 542), (612, 624), (561, 640), (310, 640), (193, 640), (157, 565), (447, 493), (521, 442), (162, 253), (219, 378), (393, 540), (106, 608), (284, 633), (332, 444), (448, 637), (261, 640), (88, 340), (185, 510), (182, 612), (524, 214), (135, 271), (329, 640), (318, 640), (121, 611), (212, 640), (136, 254), (219, 270), (640, 272), (397, 640), (542, 640), (531, 640), (640, 281), (291, 640), (552, 168), (280, 640), (425, 640), (515, 515), (640, 537), (241, 639), (406, 617), (167, 619), (256, 300), (140, 345), (285, 592), (337, 630), (640, 640), (312, 326), (198, 542), (246, 628), (639, 312), (213, 469), (204, 640), (364, 592), (222, 499), (531, 635), (371, 506), (177, 375), (406, 594), (428, 640), (177, 640), (319, 315), (171, 566), (173, 270), (453, 315), (426, 307), (538, 121), (205, 586), (302, 640), (119, 555), (635, 319), (234, 640), (217, 569), (125, 77), (139, 640), (515, 640), (640, 235), (365, 305), (173, 620), (289, 584), (252, 284), (147, 329), (477, 640), (156, 176), (158, 640), (182, 579), (126, 162), (526, 627), (534, 640), (294, 640), (634, 587), (278, 305), (219, 228), (640, 639), (233, 410), (494, 265), (278, 561), (113, 601), (608, 534), (640, 239), (507, 640), (245, 640), (543, 581), (177, 594), (552, 144), (446, 639), (639, 396), (304, 564), (564, 640), (556, 636), (313, 640), (324, 640), (603, 302), (293, 405), (308, 305), (635, 300), (455, 580), (557, 609), (579, 368), (526, 640), (275, 640), (286, 640), (470, 470), (640, 216), (164, 534), (345, 317), (330, 603), (149, 500), (343, 640), (208, 595), (255, 289), (248, 640), (613, 244), (272, 616), (640, 508), (316, 524), (201, 583), (321, 639), (136, 337), (232, 561), (225, 284), (556, 640), (305, 640), (461, 640), (199, 640), (210, 640), (283, 621), (151, 563), (319, 565), (586, 640), (312, 526), (335, 640), (518, 640), (267, 640), (150, 640), (270, 556), (119, 634), (268, 586), (264, 634), (186, 544), (189, 549), (421, 554), (229, 640), (292, 589), (241, 614), (607, 573), (317, 591), (234, 584), (365, 640), (151, 311), (266, 298), (286, 603), (442, 640), (169, 594), (208, 284), (191, 640), (286, 621), (275, 630), (617, 232), (147, 206), (262, 520), (316, 640), (272, 314), (239, 527), (172, 635), (637, 564), (161, 217), (363, 599), (153, 640), (436, 583), (257, 608), (289, 640), (136, 318), (636, 357), (288, 303), (246, 553), (357, 640), (408, 624), (346, 640), (491, 640), (639, 237), (633, 324), (640, 201), (582, 605), (299, 573), (640, 210), (308, 640), (319, 640), (297, 640), (328, 627), (146, 605), (639, 376), (532, 640), (259, 640), (281, 640), (275, 346), (74, 176), (639, 232), (200, 599), (338, 640), (195, 493), (549, 576), (472, 640), (315, 638), (232, 640), (243, 640), (533, 241), (221, 640), (514, 475), (606, 320), (96, 227), (300, 640), (278, 612), (194, 640), (128, 295), (259, 626), (230, 590), (499, 449), (290, 604), (262, 640), (568, 585), (220, 634), (199, 611), (557, 557), (640, 573), (201, 639), (162, 302), (258, 526), (232, 626), (117, 160), (640, 591), (161, 593), (570, 612), (213, 640), (224, 640), (520, 620), (240, 486), (220, 517), (349, 640), (213, 478), (202, 639), (443, 275), (210, 323), (270, 639), (640, 550), (456, 640), (292, 416), (150, 323), (258, 512), (640, 577), (509, 103), (338, 639), (286, 601), (256, 322), (273, 631), (341, 546), (608, 234), (173, 553), (135, 270), (635, 593), (205, 640), (277, 619), (634, 219), (492, 553), (104, 328), (150, 444), (352, 640), (330, 640), (199, 318), (198, 591), (361, 636), (192, 535), (639, 190), (635, 476), (554, 640), (292, 640), (303, 640), (178, 627), (237, 304), (331, 320), (160, 438), (120, 640), (437, 496), (399, 640), (472, 472), (141, 363), (313, 326), (210, 322), (467, 640), (265, 267), (293, 576), (216, 640), (283, 312), (252, 315), (158, 635), (476, 554), (284, 640), (295, 640), (242, 634), (572, 271), (189, 640), (178, 640), (633, 537), (610, 243), (175, 324), (297, 597), (243, 211), (575, 294), (343, 573), (269, 358), (285, 613), (497, 640), (246, 640), (284, 505), (140, 640), (453, 453), (155, 131), (640, 270), (334, 600), (232, 314), (179, 586), (364, 622), (412, 519), (208, 640), (177, 634), (315, 595), (276, 524), (357, 610), (164, 206), (232, 597), (74, 160), (94, 227), (273, 607), (253, 638), (101, 95), (170, 640), (590, 152), (270, 309), (401, 640), (557, 640), (254, 639), (306, 640), (289, 569), (639, 310), (208, 343), (106, 322), (283, 293), (519, 640), (246, 491), (81, 176), (76, 308), (240, 587), (483, 583), (213, 579), (576, 640), (315, 608), (339, 538), (336, 640), (325, 640), (640, 148), (219, 640), (639, 278), (320, 561), (122, 298), (213, 453), (176, 553), (276, 640), (144, 582), (432, 640), (181, 640), (561, 632), (355, 640), (489, 640), (284, 598), (511, 640), (610, 619), (143, 640), (351, 526), (380, 571), (297, 564), (317, 640), (462, 640), (451, 640), (231, 609), (443, 636), (200, 640), (222, 640), (356, 640), (627, 564), (239, 558), (279, 640), (435, 640), (162, 640), (640, 264), (173, 640), (591, 637), (268, 621), (201, 559), (299, 636), (307, 311), (165, 636), (184, 506), (243, 555), (589, 582), (224, 560), (174, 452), (285, 301), (241, 640), (230, 640), (614, 257), (640, 120), (277, 306), (265, 579), (124, 640), (202, 559), (258, 558), (77, 128), (119, 143), (132, 589), (281, 303), (203, 640), (247, 576), (590, 640), (291, 591), (339, 640), (320, 398), (58, 160), (272, 358), (248, 629), (208, 593), (214, 407), (146, 627), (640, 506), (396, 640), (75, 176), (522, 398), (378, 622), (507, 507), (327, 558), (345, 454), (599, 599), (127, 640), (640, 609), (178, 444), (96, 640), (174, 312), (478, 574), (287, 616), (80, 128), (569, 594), (381, 632), (426, 640), (320, 640), (331, 640), (257, 602), (214, 640), (186, 569), (595, 597), (127, 590), (249, 625), (571, 258), (272, 209), (533, 640), (640, 110), (618, 199), (282, 640), (293, 640), (141, 274), (307, 157), (254, 578), (640, 613), (350, 640), (250, 562), (244, 640), (499, 601), (187, 533), (640, 222), (257, 588), (355, 611), (621, 483), (312, 640), (193, 185), (446, 640), (457, 640), (636, 355), (206, 640), (139, 312), (288, 310), (274, 631), (525, 640), (64, 156), (640, 590), (144, 274), (274, 640), (263, 640), (197, 438), (157, 640), (301, 523), (294, 636), (200, 449), (279, 602), (583, 339), (487, 640), (639, 347), (245, 209), (167, 308), (174, 167), (305, 605), (120, 303)}\n"
     ]
    }
   ],
   "source": [
    "unique_dimensions = set()\n",
    "\n",
    "for name, dir in directories.items():\n",
    "    for sub in subfolders:\n",
    "        folder_path = os.path.join(dir, sub)\n",
    "        \n",
    "        for file in os.listdir(folder_path):\n",
    "            image_path = os.path.join(folder_path, file)\n",
    "            with Image.open(image_path) as img:\n",
    "                unique_dimensions.add(img.size)\n",
    "                \n",
    "if len(unique_dimensions) == 1:\n",
    "    print(f\"\\nAll images have the same dimensions: {unique_dimensions.pop()}\")\n",
    "else:\n",
    "    print(f\"\\nFound {len(unique_dimensions)} unique image dimensions: {unique_dimensions}\")"
   ]
  },
  {
   "cell_type": "code",
   "execution_count": 36,
   "metadata": {},
   "outputs": [
    {
     "name": "stdout",
     "output_type": "stream",
     "text": [
      "\n",
      "Dimension (205, 586): 1 images\n",
      "\n",
      "Dimension (172, 585): 1 images\n",
      "\n",
      "Dimension (320, 640): 3 images\n",
      "\n",
      "Dimension (245, 640): 1 images\n",
      "\n",
      "Dimension (177, 640): 2 images\n",
      "\n",
      "Dimension (219, 640): 3 images\n",
      "\n",
      "Dimension (243, 640): 2 images\n",
      "\n",
      "Dimension (468, 640): 1 images\n",
      "\n",
      "Dimension (378, 622): 1 images\n",
      "\n",
      "Dimension (640, 640): 380 images\n",
      "\n",
      "Dimension (585, 640): 1 images\n",
      "\n",
      "Dimension (593, 593): 1 images\n",
      "\n",
      "Dimension (636, 596): 2 images\n",
      "\n",
      "Dimension (635, 593): 1 images\n",
      "\n",
      "Dimension (244, 640): 1 images\n",
      "\n",
      "Dimension (213, 453): 1 images\n",
      "\n",
      "Dimension (549, 576): 1 images\n",
      "\n",
      "Dimension (283, 312): 1 images\n",
      "\n",
      "Dimension (282, 360): 1 images\n",
      "\n",
      "Dimension (612, 624): 1 images\n",
      "\n",
      "Dimension (455, 580): 1 images\n",
      "\n",
      "Dimension (395, 520): 1 images\n",
      "\n",
      "Dimension (520, 620): 1 images\n",
      "\n",
      "Dimension (608, 534): 1 images\n",
      "\n",
      "Dimension (610, 619): 1 images\n",
      "\n",
      "Dimension (542, 640): 2 images\n",
      "\n",
      "Dimension (274, 570): 1 images\n",
      "\n",
      "Dimension (208, 595): 1 images\n",
      "\n",
      "Dimension (533, 640): 1 images\n",
      "\n",
      "Dimension (313, 640): 1 images\n",
      "\n",
      "Dimension (307, 640): 2 images\n",
      "\n",
      "Dimension (289, 640): 3 images\n",
      "\n",
      "Dimension (339, 538): 1 images\n",
      "\n",
      "Dimension (525, 640): 2 images\n",
      "\n",
      "Dimension (277, 619): 1 images\n",
      "\n",
      "Dimension (268, 621): 1 images\n",
      "\n",
      "Dimension (357, 640): 1 images\n",
      "\n",
      "Dimension (300, 640): 2 images\n",
      "\n",
      "Dimension (467, 640): 1 images\n",
      "\n",
      "Dimension (640, 573): 2 images\n",
      "\n",
      "Dimension (499, 601): 1 images\n",
      "\n",
      "Dimension (472, 640): 1 images\n",
      "\n",
      "Dimension (515, 515): 3 images\n",
      "\n",
      "Dimension (425, 640): 1 images\n",
      "\n",
      "Dimension (232, 561): 1 images\n",
      "\n",
      "Dimension (392, 640): 1 images\n",
      "\n",
      "Dimension (304, 564): 1 images\n",
      "\n",
      "Dimension (272, 358): 1 images\n",
      "\n",
      "Dimension (275, 346): 1 images\n",
      "\n",
      "Dimension (453, 453): 1 images\n",
      "\n",
      "Dimension (307, 311): 1 images\n",
      "\n",
      "Dimension (331, 320): 1 images\n",
      "\n",
      "Dimension (498, 640): 1 images\n",
      "\n",
      "Dimension (276, 640): 1 images\n",
      "\n",
      "Dimension (248, 640): 3 images\n",
      "\n",
      "Dimension (299, 636): 2 images\n",
      "\n",
      "Dimension (345, 454): 1 images\n",
      "\n",
      "Dimension (157, 565): 1 images\n",
      "\n",
      "Dimension (408, 624): 1 images\n",
      "\n",
      "Dimension (371, 506): 1 images\n",
      "\n",
      "Dimension (406, 594): 1 images\n",
      "\n",
      "Dimension (454, 439): 1 images\n",
      "\n",
      "Dimension (590, 640): 1 images\n",
      "\n",
      "Dimension (240, 486): 1 images\n",
      "\n",
      "Dimension (286, 621): 1 images\n",
      "\n",
      "Dimension (249, 625): 1 images\n",
      "\n",
      "Dimension (262, 640): 2 images\n",
      "\n",
      "Dimension (241, 640): 2 images\n",
      "\n",
      "Dimension (232, 640): 2 images\n",
      "\n",
      "Dimension (579, 368): 1 images\n",
      "\n",
      "Dimension (270, 309): 1 images\n",
      "\n",
      "Dimension (288, 310): 2 images\n",
      "\n",
      "Dimension (177, 375): 1 images\n",
      "\n",
      "Dimension (251, 624): 1 images\n",
      "\n",
      "Dimension (199, 611): 1 images\n",
      "\n",
      "Dimension (437, 496): 1 images\n",
      "\n",
      "Dimension (320, 561): 1 images\n",
      "\n",
      "Dimension (640, 639): 3 images\n",
      "\n",
      "Dimension (597, 470): 1 images\n",
      "\n",
      "Dimension (275, 640): 3 images\n",
      "\n",
      "Dimension (272, 209): 1 images\n",
      "\n",
      "Dimension (287, 616): 1 images\n",
      "\n",
      "Dimension (477, 640): 1 images\n",
      "\n",
      "Dimension (243, 211): 1 images\n",
      "\n",
      "Dimension (245, 209): 1 images\n",
      "\n",
      "Dimension (443, 275): 1 images\n",
      "\n",
      "Dimension (494, 265): 1 images\n",
      "\n",
      "Dimension (275, 591): 1 images\n",
      "\n",
      "Dimension (294, 640): 2 images\n",
      "\n",
      "Dimension (213, 478): 1 images\n",
      "\n",
      "Dimension (200, 429): 1 images\n",
      "\n",
      "Dimension (162, 302): 1 images\n",
      "\n",
      "Dimension (174, 312): 1 images\n",
      "\n",
      "Dimension (76, 308): 1 images\n",
      "\n",
      "Dimension (355, 640): 2 images\n",
      "\n",
      "Dimension (199, 640): 2 images\n",
      "\n",
      "Dimension (259, 626): 1 images\n",
      "\n",
      "Dimension (640, 296): 1 images\n",
      "\n",
      "Dimension (248, 629): 1 images\n",
      "\n",
      "Dimension (224, 560): 1 images\n",
      "\n",
      "Dimension (476, 554): 1 images\n",
      "\n",
      "Dimension (293, 576): 1 images\n",
      "\n",
      "Dimension (337, 579): 1 images\n",
      "\n",
      "Dimension (640, 508): 1 images\n",
      "\n",
      "Dimension (564, 640): 1 images\n",
      "\n",
      "Dimension (216, 629): 1 images\n",
      "\n",
      "Dimension (163, 640): 4 images\n",
      "\n",
      "Dimension (317, 591): 1 images\n",
      "\n",
      "Dimension (306, 586): 1 images\n",
      "\n",
      "Dimension (177, 594): 1 images\n",
      "\n",
      "Dimension (218, 563): 1 images\n",
      "\n",
      "Dimension (277, 640): 3 images\n",
      "\n",
      "Dimension (132, 589): 1 images\n",
      "\n",
      "Dimension (215, 580): 1 images\n",
      "\n",
      "Dimension (291, 640): 4 images\n",
      "\n",
      "Dimension (289, 584): 1 images\n",
      "\n",
      "Dimension (201, 583): 1 images\n",
      "\n",
      "Dimension (274, 631): 1 images\n",
      "\n",
      "Dimension (257, 608): 1 images\n",
      "\n",
      "Dimension (442, 640): 1 images\n",
      "\n",
      "Dimension (206, 640): 3 images\n",
      "\n",
      "Dimension (316, 640): 3 images\n",
      "\n",
      "Dimension (352, 640): 1 images\n",
      "\n",
      "Dimension (285, 592): 1 images\n",
      "\n",
      "Dimension (507, 507): 1 images\n",
      "\n",
      "Dimension (201, 640): 1 images\n",
      "\n",
      "Dimension (311, 526): 1 images\n",
      "\n",
      "Dimension (262, 520): 1 images\n",
      "\n",
      "Dimension (472, 472): 1 images\n",
      "\n",
      "Dimension (307, 157): 1 images\n",
      "\n",
      "Dimension (167, 308): 1 images\n",
      "\n",
      "Dimension (268, 586): 1 images\n",
      "\n",
      "Dimension (213, 469): 1 images\n",
      "\n",
      "Dimension (515, 640): 1 images\n",
      "\n",
      "Dimension (639, 312): 1 images\n",
      "\n",
      "Dimension (557, 557): 1 images\n",
      "\n",
      "Dimension (575, 294): 1 images\n",
      "\n",
      "Dimension (639, 376): 1 images\n",
      "\n",
      "Dimension (286, 640): 3 images\n",
      "\n",
      "Dimension (635, 300): 1 images\n",
      "\n",
      "Dimension (640, 110): 1 images\n",
      "\n",
      "Dimension (122, 640): 2 images\n",
      "\n",
      "Dimension (637, 564): 1 images\n",
      "\n",
      "Dimension (595, 597): 1 images\n",
      "\n",
      "Dimension (522, 398): 1 images\n",
      "\n",
      "Dimension (343, 573): 1 images\n",
      "\n",
      "Dimension (299, 573): 1 images\n",
      "\n",
      "Dimension (334, 640): 2 images\n",
      "\n",
      "Dimension (284, 640): 1 images\n",
      "\n",
      "Dimension (494, 359): 1 images\n",
      "\n",
      "Dimension (135, 270): 1 images\n",
      "\n",
      "Dimension (135, 271): 1 images\n",
      "\n",
      "Dimension (307, 244): 1 images\n",
      "\n",
      "Dimension (349, 640): 1 images\n",
      "\n",
      "Dimension (276, 524): 1 images\n",
      "\n",
      "Dimension (288, 640): 2 images\n",
      "\n",
      "Dimension (428, 640): 1 images\n",
      "\n",
      "Dimension (321, 639): 1 images\n",
      "\n",
      "Dimension (144, 274): 1 images\n",
      "\n",
      "Dimension (144, 264): 1 images\n",
      "\n",
      "Dimension (217, 569): 1 images\n",
      "\n",
      "Dimension (162, 253): 1 images\n",
      "\n",
      "Dimension (173, 270): 1 images\n",
      "\n",
      "Dimension (627, 564): 1 images\n",
      "\n",
      "Dimension (634, 587): 1 images\n",
      "\n",
      "Dimension (406, 617): 1 images\n",
      "\n",
      "Dimension (270, 639): 1 images\n",
      "\n",
      "Dimension (614, 257): 1 images\n",
      "\n",
      "Dimension (208, 640): 1 images\n",
      "\n",
      "Dimension (315, 608): 1 images\n",
      "\n",
      "Dimension (261, 640): 1 images\n",
      "\n",
      "Dimension (242, 634): 1 images\n",
      "\n",
      "Dimension (292, 640): 2 images\n",
      "\n",
      "Dimension (591, 637): 1 images\n",
      "\n",
      "Dimension (230, 590): 1 images\n",
      "\n",
      "Dimension (208, 593): 1 images\n",
      "\n",
      "Dimension (364, 592): 1 images\n",
      "\n",
      "Dimension (233, 410): 1 images\n",
      "\n",
      "Dimension (327, 446): 1 images\n",
      "\n",
      "Dimension (285, 301): 1 images\n",
      "\n",
      "Dimension (297, 597): 1 images\n",
      "\n",
      "Dimension (296, 640): 3 images\n",
      "\n",
      "Dimension (282, 640): 3 images\n",
      "\n",
      "Dimension (278, 561): 1 images\n",
      "\n",
      "Dimension (557, 640): 1 images\n",
      "\n",
      "Dimension (378, 529): 1 images\n",
      "\n",
      "Dimension (249, 466): 1 images\n",
      "\n",
      "Dimension (416, 640): 1 images\n",
      "\n",
      "Dimension (254, 578): 1 images\n",
      "\n",
      "Dimension (531, 635): 1 images\n",
      "\n",
      "Dimension (603, 302): 1 images\n",
      "\n",
      "Dimension (334, 600): 1 images\n",
      "\n",
      "Dimension (639, 396): 1 images\n",
      "\n",
      "Dimension (274, 640): 1 images\n",
      "\n",
      "Dimension (338, 640): 2 images\n",
      "\n",
      "Dimension (283, 293): 1 images\n",
      "\n",
      "Dimension (252, 284): 1 images\n",
      "\n",
      "Dimension (181, 317): 1 images\n",
      "\n",
      "Dimension (179, 640): 1 images\n",
      "\n",
      "Dimension (172, 635): 1 images\n",
      "\n",
      "Dimension (258, 526): 1 images\n",
      "\n",
      "Dimension (189, 549): 1 images\n",
      "\n",
      "Dimension (220, 517): 1 images\n",
      "\n",
      "Dimension (172, 558): 1 images\n",
      "\n",
      "Dimension (606, 320): 1 images\n",
      "\n",
      "Dimension (640, 264): 1 images\n",
      "\n",
      "Dimension (635, 476): 1 images\n",
      "\n",
      "Dimension (139, 640): 2 images\n",
      "\n",
      "Dimension (143, 640): 1 images\n",
      "\n",
      "Dimension (571, 258): 1 images\n",
      "\n",
      "Dimension (281, 303): 1 images\n",
      "\n",
      "Dimension (255, 289): 1 images\n",
      "\n",
      "Dimension (256, 300): 1 images\n",
      "\n",
      "Dimension (327, 558): 1 images\n",
      "\n",
      "Dimension (447, 493): 1 images\n",
      "\n",
      "Dimension (621, 483): 1 images\n",
      "\n",
      "Dimension (640, 426): 1 images\n",
      "\n",
      "Dimension (203, 640): 1 images\n",
      "\n",
      "Dimension (214, 640): 3 images\n",
      "\n",
      "Dimension (140, 640): 1 images\n",
      "\n",
      "Dimension (640, 184): 1 images\n",
      "\n",
      "Dimension (640, 210): 1 images\n",
      "\n",
      "Dimension (526, 640): 1 images\n",
      "\n",
      "Dimension (578, 636): 1 images\n",
      "\n",
      "Dimension (277, 306): 1 images\n",
      "\n",
      "Dimension (478, 574): 1 images\n",
      "\n",
      "Dimension (266, 298): 2 images\n",
      "\n",
      "Dimension (288, 303): 1 images\n",
      "\n",
      "Dimension (488, 544): 1 images\n",
      "\n",
      "Dimension (572, 271): 1 images\n",
      "\n",
      "Dimension (610, 542): 1 images\n",
      "\n",
      "Dimension (426, 307): 1 images\n",
      "\n",
      "Dimension (258, 558): 1 images\n",
      "\n",
      "Dimension (214, 407): 1 images\n",
      "\n",
      "Dimension (186, 569): 3 images\n",
      "\n",
      "Dimension (171, 566): 1 images\n",
      "\n",
      "Dimension (343, 640): 1 images\n",
      "\n",
      "Dimension (181, 640): 1 images\n",
      "\n",
      "Dimension (170, 640): 3 images\n",
      "\n",
      "Dimension (564, 595): 1 images\n",
      "\n",
      "Dimension (526, 627): 1 images\n",
      "\n",
      "Dimension (532, 640): 2 images\n",
      "\n",
      "Dimension (329, 640): 3 images\n",
      "\n",
      "Dimension (205, 640): 1 images\n",
      "\n",
      "Dimension (456, 640): 1 images\n",
      "\n",
      "Dimension (128, 295): 1 images\n",
      "\n",
      "Dimension (147, 329): 2 images\n",
      "\n",
      "Dimension (169, 297): 1 images\n",
      "\n",
      "Dimension (224, 122): 1 images\n",
      "\n",
      "Dimension (96, 640): 1 images\n",
      "\n",
      "Dimension (640, 120): 1 images\n",
      "\n",
      "Dimension (162, 640): 2 images\n",
      "\n",
      "Dimension (230, 640): 1 images\n",
      "\n",
      "Dimension (264, 634): 1 images\n",
      "\n",
      "Dimension (106, 608): 1 images\n",
      "\n",
      "Dimension (538, 121): 1 images\n",
      "\n",
      "Dimension (174, 452): 1 images\n",
      "\n",
      "Dimension (372, 639): 1 images\n",
      "\n",
      "Dimension (318, 640): 1 images\n",
      "\n",
      "Dimension (241, 639): 1 images\n",
      "\n",
      "Dimension (470, 470): 1 images\n",
      "\n",
      "Dimension (136, 318): 2 images\n",
      "\n",
      "Dimension (150, 322): 1 images\n",
      "\n",
      "Dimension (139, 312): 1 images\n",
      "\n",
      "Dimension (151, 311): 2 images\n",
      "\n",
      "Dimension (150, 323): 2 images\n",
      "\n",
      "Dimension (173, 640): 1 images\n",
      "\n",
      "Dimension (640, 235): 1 images\n",
      "\n",
      "Dimension (640, 201): 1 images\n",
      "\n",
      "Dimension (279, 602): 1 images\n",
      "\n",
      "Dimension (182, 612): 1 images\n",
      "\n",
      "Dimension (509, 103): 1 images\n",
      "\n",
      "Dimension (640, 222): 1 images\n",
      "\n",
      "Dimension (120, 640): 1 images\n",
      "\n",
      "Dimension (491, 640): 1 images\n",
      "\n",
      "Dimension (310, 640): 2 images\n",
      "\n",
      "Dimension (121, 640): 1 images\n",
      "\n",
      "Dimension (169, 594): 1 images\n",
      "\n",
      "Dimension (315, 640): 1 images\n",
      "\n",
      "Dimension (189, 640): 1 images\n",
      "\n",
      "Dimension (640, 613): 1 images\n",
      "\n",
      "Dimension (250, 562): 1 images\n",
      "\n",
      "Dimension (305, 605): 1 images\n",
      "\n",
      "Dimension (412, 558): 1 images\n",
      "\n",
      "Dimension (141, 363): 1 images\n",
      "\n",
      "Dimension (263, 640): 2 images\n",
      "\n",
      "Dimension (355, 611): 1 images\n",
      "\n",
      "Dimension (502, 451): 1 images\n",
      "\n",
      "Dimension (221, 610): 1 images\n",
      "\n",
      "Dimension (239, 640): 1 images\n",
      "\n",
      "Dimension (239, 558): 1 images\n",
      "\n",
      "Dimension (194, 640): 2 images\n",
      "\n",
      "Dimension (446, 640): 1 images\n",
      "\n",
      "Dimension (363, 599): 1 images\n",
      "\n",
      "Dimension (639, 237): 1 images\n",
      "\n",
      "Dimension (639, 347): 1 images\n",
      "\n",
      "Dimension (457, 640): 1 images\n",
      "\n",
      "Dimension (465, 351): 1 images\n",
      "\n",
      "Dimension (239, 527): 1 images\n",
      "\n",
      "Dimension (121, 611): 1 images\n",
      "\n",
      "Dimension (150, 640): 4 images\n",
      "\n",
      "Dimension (91, 640): 1 images\n",
      "\n",
      "Dimension (487, 640): 2 images\n",
      "\n",
      "Dimension (193, 640): 3 images\n",
      "\n",
      "Dimension (497, 640): 1 images\n",
      "\n",
      "Dimension (185, 510): 1 images\n",
      "\n",
      "Dimension (312, 640): 3 images\n",
      "\n",
      "Dimension (640, 239): 1 images\n",
      "\n",
      "Dimension (534, 640): 1 images\n",
      "\n",
      "Dimension (552, 168): 1 images\n",
      "\n",
      "Dimension (640, 148): 1 images\n",
      "\n",
      "Dimension (330, 603): 1 images\n",
      "\n",
      "Dimension (253, 638): 1 images\n",
      "\n",
      "Dimension (267, 614): 1 images\n",
      "\n",
      "Dimension (640, 609): 1 images\n",
      "\n",
      "Dimension (164, 534): 1 images\n",
      "\n",
      "Dimension (634, 219): 1 images\n",
      "\n",
      "Dimension (257, 588): 1 images\n",
      "\n",
      "Dimension (195, 493): 1 images\n",
      "\n",
      "Dimension (568, 585): 1 images\n",
      "\n",
      "Dimension (256, 608): 1 images\n",
      "\n",
      "Dimension (232, 626): 1 images\n",
      "\n",
      "Dimension (290, 604): 1 images\n",
      "\n",
      "Dimension (300, 624): 1 images\n",
      "\n",
      "Dimension (586, 640): 1 images\n",
      "\n",
      "Dimension (213, 640): 3 images\n",
      "\n",
      "Dimension (190, 640): 2 images\n",
      "\n",
      "Dimension (337, 630): 1 images\n",
      "\n",
      "Dimension (127, 640): 1 images\n",
      "\n",
      "Dimension (210, 640): 1 images\n",
      "\n",
      "Dimension (200, 640): 1 images\n",
      "\n",
      "Dimension (272, 616): 1 images\n",
      "\n",
      "Dimension (295, 640): 1 images\n",
      "\n",
      "Dimension (224, 640): 1 images\n",
      "\n",
      "Dimension (234, 640): 1 images\n",
      "\n",
      "Dimension (639, 190): 1 images\n",
      "\n",
      "Dimension (273, 631): 1 images\n",
      "\n",
      "Dimension (308, 640): 1 images\n",
      "\n",
      "Dimension (146, 627): 1 images\n",
      "\n",
      "Dimension (77, 128): 1 images\n",
      "\n",
      "Dimension (119, 143): 2 images\n",
      "\n",
      "Dimension (131, 162): 1 images\n",
      "\n",
      "Dimension (126, 162): 2 images\n",
      "\n",
      "Dimension (80, 128): 1 images\n",
      "\n",
      "Dimension (125, 77): 1 images\n",
      "\n",
      "Dimension (92, 176): 1 images\n",
      "\n",
      "Dimension (156, 176): 1 images\n",
      "\n",
      "Dimension (174, 167): 1 images\n",
      "\n",
      "Dimension (64, 156): 2 images\n",
      "\n",
      "Dimension (166, 167): 1 images\n",
      "\n",
      "Dimension (81, 176): 1 images\n",
      "\n",
      "Dimension (75, 176): 1 images\n",
      "\n",
      "Dimension (74, 160): 1 images\n",
      "\n",
      "Dimension (74, 176): 1 images\n",
      "\n",
      "Dimension (58, 160): 1 images\n",
      "\n",
      "Dimension (117, 160): 1 images\n",
      "\n",
      "Dimension (155, 131): 1 images\n",
      "\n",
      "Dimension (528, 640): 2 images\n",
      "\n",
      "Dimension (556, 636): 1 images\n",
      "\n",
      "Dimension (499, 449): 1 images\n",
      "\n",
      "Dimension (173, 620): 1 images\n",
      "\n",
      "Dimension (590, 152): 1 images\n",
      "\n",
      "Dimension (275, 630): 1 images\n",
      "\n",
      "Dimension (533, 241): 1 images\n",
      "\n",
      "Dimension (243, 555): 1 images\n",
      "\n",
      "Dimension (569, 594): 1 images\n",
      "\n",
      "Dimension (158, 635): 1 images\n",
      "\n",
      "Dimension (556, 640): 1 images\n",
      "\n",
      "Dimension (599, 599): 1 images\n",
      "\n",
      "Dimension (262, 624): 1 images\n",
      "\n",
      "Dimension (462, 640): 1 images\n",
      "\n",
      "Dimension (640, 272): 1 images\n",
      "\n",
      "Dimension (303, 640): 1 images\n",
      "\n",
      "Dimension (555, 612): 1 images\n",
      "\n",
      "Dimension (247, 576): 1 images\n",
      "\n",
      "Dimension (524, 214): 1 images\n",
      "\n",
      "Dimension (229, 640): 1 images\n",
      "\n",
      "Dimension (305, 640): 2 images\n",
      "\n",
      "Dimension (561, 640): 1 images\n",
      "\n",
      "Dimension (346, 640): 1 images\n",
      "\n",
      "Dimension (315, 595): 1 images\n",
      "\n",
      "Dimension (336, 640): 1 images\n",
      "\n",
      "Dimension (161, 593): 1 images\n",
      "\n",
      "Dimension (640, 550): 1 images\n",
      "\n",
      "Dimension (199, 452): 1 images\n",
      "\n",
      "Dimension (273, 607): 1 images\n",
      "\n",
      "Dimension (279, 640): 3 images\n",
      "\n",
      "Dimension (358, 475): 1 images\n",
      "\n",
      "Dimension (328, 627): 1 images\n",
      "\n",
      "Dimension (272, 314): 1 images\n",
      "\n",
      "Dimension (252, 315): 1 images\n",
      "\n",
      "Dimension (232, 314): 1 images\n",
      "\n",
      "Dimension (207, 312): 1 images\n",
      "\n",
      "Dimension (613, 244): 1 images\n",
      "\n",
      "Dimension (612, 235): 1 images\n",
      "\n",
      "Dimension (607, 640): 1 images\n",
      "\n",
      "Dimension (421, 554): 1 images\n",
      "\n",
      "Dimension (310, 416): 1 images\n",
      "\n",
      "Dimension (292, 416): 1 images\n",
      "\n",
      "Dimension (259, 640): 1 images\n",
      "\n",
      "Dimension (274, 616): 1 images\n",
      "\n",
      "Dimension (212, 274): 1 images\n",
      "\n",
      "Dimension (208, 284): 1 images\n",
      "\n",
      "Dimension (301, 523): 1 images\n",
      "\n",
      "Dimension (292, 589): 1 images\n",
      "\n",
      "Dimension (635, 319): 1 images\n",
      "\n",
      "Dimension (636, 357): 1 images\n",
      "\n",
      "Dimension (200, 449): 1 images\n",
      "\n",
      "Dimension (197, 438): 1 images\n",
      "\n",
      "Dimension (191, 154): 1 images\n",
      "\n",
      "Dimension (219, 270): 1 images\n",
      "\n",
      "Dimension (279, 559): 1 images\n",
      "\n",
      "Dimension (552, 144): 1 images\n",
      "\n",
      "Dimension (153, 640): 2 images\n",
      "\n",
      "Dimension (178, 640): 1 images\n",
      "\n",
      "Dimension (461, 640): 1 images\n",
      "\n",
      "Dimension (531, 640): 2 images\n",
      "\n",
      "Dimension (339, 597): 1 images\n",
      "\n",
      "Dimension (178, 444): 1 images\n",
      "\n",
      "Dimension (209, 640): 1 images\n",
      "\n",
      "Dimension (489, 640): 1 images\n",
      "\n",
      "Dimension (342, 640): 1 images\n",
      "\n",
      "Dimension (331, 640): 2 images\n",
      "\n",
      "Dimension (453, 237): 1 images\n",
      "\n",
      "Dimension (325, 640): 1 images\n",
      "\n",
      "Dimension (302, 640): 1 images\n",
      "\n",
      "Dimension (283, 621): 1 images\n",
      "\n",
      "Dimension (241, 614): 1 images\n",
      "\n",
      "Dimension (449, 585): 1 images\n",
      "\n",
      "Dimension (570, 612): 1 images\n",
      "\n",
      "Dimension (297, 564): 1 images\n",
      "\n",
      "Dimension (270, 556): 1 images\n",
      "\n",
      "Dimension (136, 337): 1 images\n",
      "\n",
      "Dimension (316, 524): 1 images\n",
      "\n",
      "Dimension (94, 227): 1 images\n",
      "\n",
      "Dimension (237, 304): 1 images\n",
      "\n",
      "Dimension (514, 475): 1 images\n",
      "\n",
      "Dimension (140, 345): 1 images\n",
      "\n",
      "Dimension (151, 563): 1 images\n",
      "\n",
      "Dimension (284, 598): 1 images\n",
      "\n",
      "Dimension (173, 553): 1 images\n",
      "\n",
      "Dimension (136, 254): 1 images\n",
      "\n",
      "Dimension (399, 640): 1 images\n",
      "\n",
      "Dimension (198, 591): 1 images\n",
      "\n",
      "Dimension (176, 553): 1 images\n",
      "\n",
      "Dimension (412, 519): 1 images\n",
      "\n",
      "Dimension (285, 613): 1 images\n",
      "\n",
      "Dimension (187, 533): 1 images\n",
      "\n",
      "Dimension (106, 322): 1 images\n",
      "\n",
      "Dimension (113, 601): 1 images\n",
      "\n",
      "Dimension (210, 582): 1 images\n",
      "\n",
      "Dimension (144, 582): 1 images\n",
      "\n",
      "Dimension (178, 627): 1 images\n",
      "\n",
      "Dimension (364, 622): 1 images\n",
      "\n",
      "Dimension (88, 340): 1 images\n",
      "\n",
      "Dimension (157, 640): 2 images\n",
      "\n",
      "Dimension (557, 609): 1 images\n",
      "\n",
      "Dimension (96, 227): 1 images\n",
      "\n",
      "Dimension (610, 243): 1 images\n",
      "\n",
      "Dimension (120, 303): 1 images\n",
      "\n",
      "Dimension (582, 605): 1 images\n",
      "\n",
      "Dimension (186, 544): 1 images\n",
      "\n",
      "Dimension (210, 317): 1 images\n",
      "\n",
      "Dimension (149, 500): 1 images\n",
      "\n",
      "Dimension (453, 315): 1 images\n",
      "\n",
      "Dimension (511, 640): 1 images\n",
      "\n",
      "Dimension (269, 358): 1 images\n",
      "\n",
      "Dimension (393, 540): 1 images\n",
      "\n",
      "Dimension (134, 555): 1 images\n",
      "\n",
      "Dimension (101, 95): 1 images\n",
      "\n",
      "Dimension (335, 640): 1 images\n",
      "\n",
      "Dimension (231, 609): 1 images\n",
      "\n",
      "Dimension (246, 640): 1 images\n",
      "\n",
      "Dimension (222, 640): 2 images\n",
      "\n",
      "Dimension (216, 640): 1 images\n",
      "\n",
      "Dimension (401, 640): 1 images\n",
      "\n",
      "Dimension (160, 640): 1 images\n",
      "\n",
      "Dimension (219, 228): 1 images\n",
      "\n",
      "Dimension (284, 633): 1 images\n",
      "\n",
      "Dimension (278, 612): 1 images\n",
      "\n",
      "Dimension (187, 370): 1 images\n",
      "\n",
      "Dimension (364, 640): 1 images\n",
      "\n",
      "Dimension (150, 444): 2 images\n",
      "\n",
      "Dimension (257, 602): 1 images\n",
      "\n",
      "Dimension (240, 587): 1 images\n",
      "\n",
      "Dimension (551, 526): 1 images\n",
      "\n",
      "Dimension (201, 469): 1 images\n",
      "\n",
      "Dimension (232, 597): 1 images\n",
      "\n",
      "Dimension (519, 640): 2 images\n",
      "\n",
      "Dimension (640, 590): 4 images\n",
      "\n",
      "Dimension (201, 559): 1 images\n",
      "\n",
      "Dimension (119, 555): 1 images\n",
      "\n",
      "Dimension (332, 444): 1 images\n",
      "\n",
      "Dimension (200, 599): 1 images\n",
      "\n",
      "Dimension (561, 632): 1 images\n",
      "\n",
      "Dimension (640, 281): 1 images\n",
      "\n",
      "Dimension (640, 577): 1 images\n",
      "\n",
      "Dimension (202, 559): 1 images\n",
      "\n",
      "Dimension (182, 579): 1 images\n",
      "\n",
      "Dimension (175, 324): 1 images\n",
      "\n",
      "Dimension (225, 284): 1 images\n",
      "\n",
      "Dimension (312, 326): 1 images\n",
      "\n",
      "Dimension (313, 326): 1 images\n",
      "\n",
      "Dimension (210, 322): 1 images\n",
      "\n",
      "Dimension (210, 323): 1 images\n",
      "\n",
      "Dimension (576, 640): 1 images\n",
      "\n",
      "Dimension (640, 537): 1 images\n",
      "\n",
      "Dimension (536, 640): 1 images\n",
      "\n",
      "Dimension (119, 634): 1 images\n",
      "\n",
      "Dimension (161, 217): 1 images\n",
      "\n",
      "Dimension (432, 640): 1 images\n",
      "\n",
      "Dimension (507, 640): 1 images\n",
      "\n",
      "Dimension (291, 591): 1 images\n",
      "\n",
      "Dimension (330, 640): 1 images\n",
      "\n",
      "Dimension (258, 640): 1 images\n",
      "\n",
      "Dimension (410, 620): 1 images\n",
      "\n",
      "Dimension (306, 640): 1 images\n",
      "\n",
      "Dimension (146, 605): 1 images\n",
      "\n",
      "Dimension (319, 640): 2 images\n",
      "\n",
      "Dimension (338, 639): 1 images\n",
      "\n",
      "Dimension (633, 537): 1 images\n",
      "\n",
      "Dimension (202, 639): 1 images\n",
      "\n",
      "Dimension (176, 603): 1 images\n",
      "\n",
      "Dimension (303, 517): 1 images\n",
      "\n",
      "Dimension (171, 640): 1 images\n",
      "\n",
      "Dimension (443, 636): 1 images\n",
      "\n",
      "Dimension (633, 324): 1 images\n",
      "\n",
      "Dimension (640, 270): 1 images\n",
      "\n",
      "Dimension (281, 640): 1 images\n",
      "\n",
      "Dimension (381, 632): 1 images\n",
      "\n",
      "Dimension (435, 640): 1 images\n",
      "\n",
      "Dimension (451, 640): 1 images\n",
      "\n",
      "Dimension (198, 542): 1 images\n",
      "\n",
      "Dimension (400, 612): 1 images\n",
      "\n",
      "Dimension (204, 640): 2 images\n",
      "\n",
      "Dimension (165, 636): 1 images\n",
      "\n",
      "Dimension (212, 250): 1 images\n",
      "\n",
      "Dimension (199, 318): 2 images\n",
      "\n",
      "Dimension (220, 634): 1 images\n",
      "\n",
      "Dimension (357, 610): 1 images\n",
      "\n",
      "Dimension (192, 535): 1 images\n",
      "\n",
      "Dimension (397, 640): 1 images\n",
      "\n",
      "Dimension (234, 311): 1 images\n",
      "\n",
      "Dimension (356, 640): 1 images\n",
      "\n",
      "Dimension (396, 640): 1 images\n",
      "\n",
      "Dimension (294, 636): 1 images\n",
      "\n",
      "Dimension (324, 640): 2 images\n",
      "\n",
      "Dimension (589, 582): 1 images\n",
      "\n",
      "Dimension (293, 405): 1 images\n",
      "\n",
      "Dimension (320, 398): 1 images\n",
      "\n",
      "Dimension (246, 628): 1 images\n",
      "\n",
      "Dimension (246, 491): 1 images\n",
      "\n",
      "Dimension (640, 591): 1 images\n",
      "\n",
      "Dimension (293, 593): 1 images\n",
      "\n",
      "Dimension (297, 640): 2 images\n",
      "\n",
      "Dimension (201, 639): 1 images\n",
      "\n",
      "Dimension (104, 328): 1 images\n",
      "\n",
      "Dimension (179, 586): 1 images\n",
      "\n",
      "Dimension (315, 638): 2 images\n",
      "\n",
      "Dimension (265, 579): 1 images\n",
      "\n",
      "Dimension (293, 640): 2 images\n",
      "\n",
      "Dimension (361, 636): 1 images\n",
      "\n",
      "Dimension (640, 506): 1 images\n",
      "\n",
      "Dimension (351, 526): 1 images\n",
      "\n",
      "Dimension (286, 603): 1 images\n",
      "\n",
      "Dimension (219, 378): 1 images\n",
      "\n",
      "Dimension (436, 583): 1 images\n",
      "\n",
      "Dimension (543, 581): 1 images\n",
      "\n",
      "Dimension (196, 552): 1 images\n",
      "\n",
      "Dimension (640, 566): 1 images\n",
      "\n",
      "Dimension (380, 571): 1 images\n",
      "\n",
      "Dimension (182, 385): 1 images\n",
      "\n",
      "Dimension (288, 110): 1 images\n",
      "\n",
      "Dimension (636, 355): 1 images\n",
      "\n",
      "Dimension (254, 639): 2 images\n",
      "\n",
      "Dimension (448, 637): 1 images\n",
      "\n",
      "Dimension (246, 553): 1 images\n",
      "\n",
      "Dimension (319, 565): 1 images\n",
      "\n",
      "Dimension (289, 569): 1 images\n",
      "\n",
      "Dimension (141, 274): 1 images\n",
      "\n",
      "Dimension (144, 640): 1 images\n",
      "\n",
      "Dimension (177, 634): 1 images\n",
      "\n",
      "Dimension (408, 608): 1 images\n",
      "\n",
      "Dimension (607, 573): 1 images\n",
      "\n",
      "Dimension (339, 640): 1 images\n",
      "\n",
      "Dimension (639, 278): 1 images\n",
      "\n",
      "Dimension (483, 583): 1 images\n",
      "\n",
      "Dimension (446, 639): 1 images\n",
      "\n",
      "Dimension (167, 619): 1 images\n",
      "\n",
      "Dimension (160, 438): 1 images\n",
      "\n",
      "Dimension (583, 339): 1 images\n",
      "\n",
      "Dimension (350, 640): 1 images\n",
      "\n",
      "Dimension (341, 546): 1 images\n",
      "\n",
      "Dimension (191, 640): 1 images\n",
      "\n",
      "Dimension (212, 640): 1 images\n",
      "\n",
      "Dimension (426, 640): 1 images\n",
      "\n",
      "Dimension (213, 579): 1 images\n",
      "\n",
      "Dimension (317, 640): 1 images\n",
      "\n",
      "Dimension (617, 232): 1 images\n",
      "\n",
      "Dimension (640, 216): 1 images\n",
      "\n",
      "Dimension (286, 601): 1 images\n",
      "\n",
      "Dimension (608, 234): 1 images\n",
      "\n",
      "Dimension (492, 553): 1 images\n",
      "\n",
      "Dimension (122, 298): 1 images\n",
      "\n",
      "Dimension (639, 310): 1 images\n",
      "\n",
      "Dimension (639, 232): 1 images\n",
      "\n",
      "Dimension (618, 199): 1 images\n",
      "\n",
      "Dimension (234, 584): 1 images\n",
      "\n",
      "Dimension (265, 267): 1 images\n",
      "\n",
      "Dimension (639, 601): 1 images\n",
      "\n",
      "Dimension (539, 640): 1 images\n",
      "\n",
      "Dimension (518, 640): 1 images\n",
      "\n",
      "Dimension (554, 640): 1 images\n",
      "\n",
      "Dimension (285, 640): 1 images\n",
      "\n",
      "Dimension (222, 499): 1 images\n",
      "\n",
      "Dimension (184, 506): 1 images\n",
      "\n",
      "Dimension (521, 442): 1 images\n",
      "\n",
      "Dimension (312, 526): 1 images\n",
      "\n",
      "Dimension (267, 640): 1 images\n",
      "\n",
      "Dimension (284, 505): 1 images\n",
      "\n",
      "Dimension (365, 640): 1 images\n",
      "\n",
      "Dimension (280, 640): 1 images\n",
      "\n",
      "Dimension (138, 310): 1 images\n",
      "\n",
      "Dimension (124, 640): 1 images\n",
      "\n",
      "Dimension (164, 206): 1 images\n",
      "\n",
      "Dimension (147, 206): 1 images\n",
      "\n",
      "Dimension (193, 185): 1 images\n",
      "\n",
      "Dimension (221, 640): 1 images\n",
      "\n",
      "Dimension (208, 343): 1 images\n",
      "\n",
      "Dimension (256, 322): 1 images\n",
      "\n",
      "Dimension (345, 317): 1 images\n",
      "\n",
      "Dimension (365, 305): 1 images\n",
      "\n",
      "Dimension (278, 305): 1 images\n",
      "\n",
      "Dimension (89, 589): 1 images\n",
      "\n",
      "Dimension (127, 590): 1 images\n",
      "\n",
      "Dimension (262, 526): 1 images\n",
      "\n",
      "Dimension (258, 512): 1 images\n",
      "\n",
      "Dimension (358, 596): 1 images\n",
      "\n",
      "Dimension (182, 640): 1 images\n",
      "\n",
      "Dimension (158, 640): 1 images\n",
      "\n",
      "Dimension (319, 315): 1 images\n",
      "\n",
      "Dimension (308, 305): 1 images\n"
     ]
    }
   ],
   "source": [
    "# Checking if all the images in the dataset have the same dimensions\n",
    "dims_counts = defaultdict(int)\n",
    "\n",
    "for name,dir in directories.items():\n",
    "    for sub in subfolders:\n",
    "        folder_path = os.path.join(dir, sub)\n",
    "        \n",
    "        for file in os.listdir(folder_path):\n",
    "            image_path = os.path.join(folder_path, file)\n",
    "            with Image.open(image_path) as img:\n",
    "                dims_counts[img.size] += 1\n",
    "                \n",
    "for dimension, count in dims_counts.items():\n",
    "    print(f\"\\nDimension {dimension}: {count} images\")"
   ]
  },
  {
   "cell_type": "code",
   "execution_count": 37,
   "metadata": {},
   "outputs": [
    {
     "name": "stdout",
     "output_type": "stream",
     "text": [
      " - Not all images are of data type uint8\n",
      "\n",
      " - All images have pixel values ranging from 0 to 255\n"
     ]
    }
   ],
   "source": [
    "# Checking images dtype\n",
    "all_uint8 = True\n",
    "all_in_range = True\n",
    "\n",
    "for name, dir in directories.items():\n",
    "    for sub in subfolders:\n",
    "        folder_path = os.path.join(dir, sub)\n",
    "        \n",
    "        for file in os.listdir(folder_path):\n",
    "            image_path = os.path.join(folder_path, file)\n",
    "            with Image.open(image_path) as img:\n",
    "                img_array = np.array(img)\n",
    "                \n",
    "            if img_array.dtype == 'uint8':\n",
    "                all_uint8 = False\n",
    "            \n",
    "            if img_array.min() < 0 or img_array.max() > 255:\n",
    "                all_in_range = False\n",
    "                \n",
    "if all_uint8:\n",
    "    print(\" - All images are of data type uint8\\n\")\n",
    "else:\n",
    "    print(\" - Not all images are of data type uint8\\n\")\n",
    "    \n",
    "if all_in_range:\n",
    "    print(\" - All images have pixel values ranging from 0 to 255\")\n",
    "else:\n",
    "    print(\" - Not all images have the same pixel values from 0 to 255\")"
   ]
  },
  {
   "cell_type": "code",
   "execution_count": 38,
   "metadata": {},
   "outputs": [],
   "source": [
    "import random\n",
    "\n",
    "train_dir = 'train'\n",
    "\n",
    "# Loading the directory for each class in the training dataset\n",
    "train_list =[]\n",
    "for sub in subfolders:\n",
    "    train_list.append(train_dir+'/'+sub)\n",
    "\n",
    "files_dict = {}\n",
    "# Selecting 9 random pictures from each directory\n",
    "for path in train_list:\n",
    "    files_dict[path] = random.sample(os.listdir(path), 9)"
   ]
  },
  {
   "cell_type": "code",
   "execution_count": 39,
   "metadata": {},
   "outputs": [],
   "source": [
    "\n",
    "# Plotting healthy plants\n",
    "# for path in files_dict:\n",
    "#     images = [os.path.join(path, f) for f in files_dict[path]]\n",
    "#     plot_images_list(images, path, \"Training Dataset\")"
   ]
  },
  {
   "cell_type": "code",
   "execution_count": 40,
   "metadata": {},
   "outputs": [
    {
     "name": "stdout",
     "output_type": "stream",
     "text": [
      "Found 989 files belonging to 10 classes.\n"
     ]
    }
   ],
   "source": [
    "seed = 42\n",
    "# Creating a Dataset for the Training data\n",
    "train = tf.keras.utils.image_dataset_from_directory(\n",
    "    train_dir,  # Directory where the Training images are located\n",
    "    labels = 'inferred', # Classes will be inferred according to the structure of the directory\n",
    "    label_mode = 'categorical',\n",
    "    class_names = subfolders,\n",
    "    batch_size = 16,    # Number of processed samples before updating the model's weights\n",
    "    image_size = (256, 256), # Defining a fixed dimension for all images\n",
    "    shuffle = True,  # Shuffling data\n",
    "    seed = seed,  # Random seed for shuffling and transformations\n",
    "    validation_split = 0, # We don't need to create a validation set from the training set\n",
    "    crop_to_aspect_ratio = True # Resize images without aspect ratio distortion\n",
    ")"
   ]
  },
  {
   "cell_type": "code",
   "execution_count": 41,
   "metadata": {},
   "outputs": [
    {
     "name": "stdout",
     "output_type": "stream",
     "text": [
      "Found 140 files belonging to 10 classes.\n"
     ]
    }
   ],
   "source": [
    "test_dir = 'test'\n",
    "# Creating a dataset for the Test data\n",
    "test = tf.keras.utils.image_dataset_from_directory(\n",
    "    test_dir,  \n",
    "    labels = 'inferred', \n",
    "    label_mode = 'categorical',\n",
    "    class_names = subfolders,\n",
    "    batch_size = 16,    \n",
    "    image_size = (256, 256), \n",
    "    shuffle = True,  \n",
    "    seed = seed,  \n",
    "    validation_split = 0, \n",
    "    crop_to_aspect_ratio = True \n",
    ")"
   ]
  },
  {
   "cell_type": "code",
   "execution_count": 42,
   "metadata": {},
   "outputs": [
    {
     "name": "stdout",
     "output_type": "stream",
     "text": [
      "\n",
      "Training Dataset: <_PrefetchDataset element_spec=(TensorSpec(shape=(None, 256, 256, 3), dtype=tf.float32, name=None), TensorSpec(shape=(None, 10), dtype=tf.float32, name=None))>\n",
      "\n",
      "Testing Dataset: <_PrefetchDataset element_spec=(TensorSpec(shape=(None, 256, 256, 3), dtype=tf.float32, name=None), TensorSpec(shape=(None, 10), dtype=tf.float32, name=None))>\n"
     ]
    }
   ],
   "source": [
    "print('\\nTraining Dataset:', train)\n",
    "print('\\nTesting Dataset:', test)"
   ]
  },
  {
   "cell_type": "code",
   "execution_count": 43,
   "metadata": {},
   "outputs": [
    {
     "data": {
      "text/plain": [
       "9"
      ]
     },
     "execution_count": 43,
     "metadata": {},
     "output_type": "execute_result"
    }
   ],
   "source": [
    "len(test)"
   ]
  },
  {
   "cell_type": "code",
   "execution_count": 44,
   "metadata": {},
   "outputs": [
    {
     "name": "stdout",
     "output_type": "stream",
     "text": [
      "\n",
      "Minimum pixel value in the Validation dataset 0.0\n",
      "\n",
      "Maximum pixel value in the Validation dataset 255.0\n"
     ]
    }
   ],
   "source": [
    "# Checking minimum and maximum pixel values in the Validation dataset\n",
    "min_value = float('inf')\n",
    "max_value = -float('inf')\n",
    "\n",
    "for img, label in train:\n",
    "    batch_min = tf.reduce_min(img)\n",
    "    batch_max = tf.reduce_max(img)\n",
    "    \n",
    "    min_value = min(min_value, batch_min.numpy())\n",
    "    max_value = max(max_value, batch_max.numpy())\n",
    "    \n",
    "print('\\nMinimum pixel value in the Validation dataset', min_value)\n",
    "print('\\nMaximum pixel value in the Validation dataset', max_value)"
   ]
  },
  {
   "cell_type": "code",
   "execution_count": 45,
   "metadata": {},
   "outputs": [],
   "source": [
    "scaler = Rescaling(1./255) # Defining scaler values between 0 to 1"
   ]
  },
  {
   "cell_type": "code",
   "execution_count": 46,
   "metadata": {},
   "outputs": [],
   "source": [
    "# Rescaling datasets\n",
    "train = train.map(lambda x, y: (scaler(x), y)) \n",
    "test = test.map(lambda x, y: (scaler(x), y))"
   ]
  },
  {
   "cell_type": "code",
   "execution_count": 47,
   "metadata": {},
   "outputs": [
    {
     "name": "stdout",
     "output_type": "stream",
     "text": [
      "\n",
      "Minimum pixel value in the Validation dataset 0.0\n",
      "\n",
      "Maximum pixel value in the Validation dataset 1.0\n"
     ]
    }
   ],
   "source": [
    "# Checking minimum and maximum pixel values in the Validation dataset\n",
    "min_value = float('inf')\n",
    "max_value = -float('inf')\n",
    "\n",
    "for img, label in train:\n",
    "    batch_min = tf.reduce_min(img)\n",
    "    batch_max = tf.reduce_max(img)\n",
    "    \n",
    "    min_value = min(min_value, batch_min.numpy())\n",
    "    max_value = max(max_value, batch_max.numpy())\n",
    "    \n",
    "print('\\nMinimum pixel value in the Validation dataset', min_value)\n",
    "print('\\nMaximum pixel value in the Validation dataset', max_value)"
   ]
  },
  {
   "cell_type": "code",
   "execution_count": 48,
   "metadata": {},
   "outputs": [],
   "source": [
    "# Creating data augmentation pipeline\n",
    "augmentation = tf.keras.Sequential(\n",
    "    [\n",
    "        tf.keras.layers.RandomRotation(\n",
    "        factor = (-.25, .3),\n",
    "        fill_mode = 'reflect',\n",
    "        interpolation = 'bilinear',\n",
    "        seed = seed),\n",
    "        \n",
    "        \n",
    "        tf.keras.layers.RandomBrightness(\n",
    "        factor = (-.45, .45),\n",
    "        value_range = (0.0, 1.0),\n",
    "        seed = seed),\n",
    "        \n",
    "        tf.keras.layers.RandomContrast(\n",
    "        factor = (.5),\n",
    "        seed = seed)\n",
    "    ]\n",
    ")"
   ]
  },
  {
   "cell_type": "code",
   "execution_count": 49,
   "metadata": {},
   "outputs": [
    {
     "name": "stdout",
     "output_type": "stream",
     "text": [
      "You must install pydot (`pip install pydot`) and install graphviz (see instructions at https://graphviz.gitlab.io/download/) for plot_model to work.\n"
     ]
    }
   ],
   "source": [
    "augmentation.build((None, 256, 256, 3)) # Building model\n",
    "# Plotting model\n",
    "tf.keras.utils.plot_model(augmentation,\n",
    "                          show_shapes = True,\n",
    "                          show_layer_names = True,\n",
    "                          expand_nested = True\n",
    "                        )"
   ]
  },
  {
   "cell_type": "code",
   "execution_count": 50,
   "metadata": {},
   "outputs": [
    {
     "name": "stdout",
     "output_type": "stream",
     "text": [
      "Model: \"sequential_1\"\n",
      "_________________________________________________________________\n",
      " Layer (type)                Output Shape              Param #   \n",
      "=================================================================\n",
      " random_rotation_1 (RandomR  (None, 256, 256, 3)       0         \n",
      " otation)                                                        \n",
      "                                                                 \n",
      " random_brightness_1 (Rando  (None, 256, 256, 3)       0         \n",
      " mBrightness)                                                    \n",
      "                                                                 \n",
      " random_contrast_1 (RandomC  (None, 256, 256, 3)       0         \n",
      " ontrast)                                                        \n",
      "                                                                 \n",
      "=================================================================\n",
      "Total params: 0 (0.00 Byte)\n",
      "Trainable params: 0 (0.00 Byte)\n",
      "Non-trainable params: 0 (0.00 Byte)\n",
      "_________________________________________________________________\n"
     ]
    }
   ],
   "source": [
    "augmentation.summary()"
   ]
  },
  {
   "cell_type": "code",
   "execution_count": 51,
   "metadata": {},
   "outputs": [],
   "source": [
    "# Initiating model on GPU\n",
    "# with strategy.scope():\n",
    "model = Sequential()\n",
    "\n",
    "model.add(augmentation) # Adding data augmentation pipeline to the model\n",
    "\n",
    "# Feature Learning Layers\n",
    "model.add(Conv2D(32,                  # Number of filters/Kernels\n",
    "                    (3,3),               # Size of kernels (3x3 matrix)\n",
    "                    strides = 1,         # Step size for sliding the kernel across the input (1 pixel at a time).\n",
    "                    padding = 'same',    # 'Same' ensures that the output feature map has the same dimensions as the input by padding zeros around the input. \n",
    "                input_shape = (256,256,3) # Input image shape\n",
    "                ))\n",
    "model.add(Activation('relu'))# Activation function\n",
    "model.add(BatchNormalization())\n",
    "model.add(MaxPooling2D(pool_size = (2,2), padding = 'same'))\n",
    "model.add(Dropout(0.2))\n",
    "\n",
    "model.add(Conv2D(64, (5,5), padding = 'same'))\n",
    "model.add(Activation('relu'))\n",
    "model.add(BatchNormalization())\n",
    "model.add(MaxPooling2D(pool_size = (2,2), padding = 'same'))\n",
    "model.add(Dropout(0.2))\n",
    "\n",
    "model.add(Conv2D(128, (3,3), padding = 'same'))\n",
    "model.add(Activation('relu'))\n",
    "model.add(BatchNormalization())\n",
    "model.add(MaxPooling2D(pool_size = (2,2), padding = 'same'))\n",
    "model.add(Dropout(0.3))\n",
    "\n",
    "model.add(Conv2D(256, (5,5), padding = 'same'))\n",
    "model.add(Activation('relu'))\n",
    "model.add(BatchNormalization())\n",
    "model.add(MaxPooling2D(pool_size = (2,2), padding = 'same'))\n",
    "model.add(Dropout(0.3))\n",
    "\n",
    "model.add(Conv2D(512, (3,3), padding = 'same'))\n",
    "model.add(Activation('relu'))\n",
    "model.add(BatchNormalization())\n",
    "model.add(MaxPooling2D(pool_size = (2,2), padding = 'same'))\n",
    "model.add(Dropout(0.3))\n",
    "\n",
    "# Flattening tensors\n",
    "model.add(Flatten())\n",
    "\n",
    "# Fully-Connected Layers\n",
    "model.add(Dense(2048))\n",
    "model.add(Activation('relu'))\n",
    "model.add(Dropout(0.5))\n",
    "\n",
    "# Output Layer\n",
    "model.add(Dense(len(subfolders), activation = 'softmax')) # Classification layer"
   ]
  },
  {
   "cell_type": "code",
   "execution_count": 52,
   "metadata": {},
   "outputs": [],
   "source": [
    "# Compiling model\n",
    "model.compile(optimizer = tf.keras.optimizers.RMSprop(0.0001), # 1e-4\n",
    "              loss = 'categorical_crossentropy', # Ideal for multiclass tasks\n",
    "              metrics = ['accuracy']) # Evaluation metric"
   ]
  },
  {
   "cell_type": "code",
   "execution_count": 53,
   "metadata": {},
   "outputs": [],
   "source": [
    "# Defining an Early Stopping and Model Checkpoints\n",
    "early_stopping = EarlyStopping(monitor = 'val_accuracy',\n",
    "                              patience = 5, mode = 'max',\n",
    "                              restore_best_weights = True)\n",
    "\n",
    "checkpoint = ModelCheckpoint('best_model.h5',\n",
    "                            monitor = 'val_accuracy',\n",
    "                            save_best_only = True)"
   ]
  },
  {
   "cell_type": "code",
   "execution_count": 55,
   "metadata": {},
   "outputs": [
    {
     "name": "stdout",
     "output_type": "stream",
     "text": [
      "Epoch 1/50\n"
     ]
    },
    {
     "name": "stdout",
     "output_type": "stream",
     "text": [
      "62/62 [==============================] - 58s 937ms/step - loss: 7.3804 - accuracy: 0.1294 - val_loss: 5.2828 - val_accuracy: 0.0857\n",
      "Epoch 2/50\n",
      "62/62 [==============================] - 61s 975ms/step - loss: 4.4272 - accuracy: 0.1223 - val_loss: 4.1854 - val_accuracy: 0.0857\n",
      "Epoch 3/50\n",
      "62/62 [==============================] - 58s 937ms/step - loss: 2.7844 - accuracy: 0.1284 - val_loss: 7.8501 - val_accuracy: 0.0857\n",
      "Epoch 4/50\n",
      "62/62 [==============================] - 58s 925ms/step - loss: 2.5571 - accuracy: 0.1274 - val_loss: 4.5783 - val_accuracy: 0.0929\n",
      "Epoch 5/50\n",
      "62/62 [==============================] - 57s 919ms/step - loss: 2.4491 - accuracy: 0.1335 - val_loss: 7.3080 - val_accuracy: 0.0857\n",
      "Epoch 6/50\n",
      "62/62 [==============================] - 57s 923ms/step - loss: 2.4211 - accuracy: 0.1294 - val_loss: 5.3404 - val_accuracy: 0.1071\n",
      "Epoch 7/50\n",
      "62/62 [==============================] - 57s 919ms/step - loss: 2.4026 - accuracy: 0.1234 - val_loss: 5.3053 - val_accuracy: 0.1214\n",
      "Epoch 8/50\n",
      "62/62 [==============================] - 57s 910ms/step - loss: 2.4327 - accuracy: 0.1294 - val_loss: 6.6271 - val_accuracy: 0.1214\n",
      "Epoch 9/50\n",
      "62/62 [==============================] - 57s 922ms/step - loss: 2.4028 - accuracy: 0.1325 - val_loss: 4.6208 - val_accuracy: 0.1357\n",
      "Epoch 10/50\n",
      "62/62 [==============================] - 57s 914ms/step - loss: 2.3762 - accuracy: 0.1567 - val_loss: 7.1310 - val_accuracy: 0.1357\n",
      "Epoch 11/50\n",
      "62/62 [==============================] - 57s 924ms/step - loss: 2.3832 - accuracy: 0.1355 - val_loss: 5.0790 - val_accuracy: 0.1429\n",
      "Epoch 12/50\n",
      "62/62 [==============================] - 56s 909ms/step - loss: 2.3552 - accuracy: 0.1385 - val_loss: 6.0545 - val_accuracy: 0.0929\n",
      "Epoch 13/50\n",
      "62/62 [==============================] - 57s 920ms/step - loss: 2.3684 - accuracy: 0.1375 - val_loss: 3.6241 - val_accuracy: 0.1214\n",
      "Epoch 14/50\n",
      "62/62 [==============================] - 57s 914ms/step - loss: 2.3824 - accuracy: 0.1223 - val_loss: 3.8179 - val_accuracy: 0.1071\n",
      "Epoch 15/50\n",
      "62/62 [==============================] - 57s 926ms/step - loss: 2.3811 - accuracy: 0.1618 - val_loss: 4.1812 - val_accuracy: 0.1429\n",
      "Epoch 16/50\n",
      "62/62 [==============================] - 57s 918ms/step - loss: 2.3472 - accuracy: 0.1365 - val_loss: 3.8424 - val_accuracy: 0.0786\n"
     ]
    }
   ],
   "source": [
    "# Training and Testing Model\n",
    "try:\n",
    "    history = model.fit(\n",
    "        train, epochs = 50,\n",
    "        validation_data = test,\n",
    "        callbacks = [early_stopping, checkpoint])\n",
    "except Exception as e:\n",
    "    print(\"An error occurred:\", e)"
   ]
  },
  {
   "cell_type": "code",
   "execution_count": 56,
   "metadata": {},
   "outputs": [
    {
     "name": "stdout",
     "output_type": "stream",
     "text": [
      "Model: \"sequential_2\"\n",
      "_________________________________________________________________\n",
      " Layer (type)                Output Shape              Param #   \n",
      "=================================================================\n",
      " sequential_1 (Sequential)   (None, 256, 256, 3)       0         \n",
      "                                                                 \n",
      " conv2d (Conv2D)             (None, 256, 256, 32)      896       \n",
      "                                                                 \n",
      " activation (Activation)     (None, 256, 256, 32)      0         \n",
      "                                                                 \n",
      " batch_normalization (Batch  (None, 256, 256, 32)      128       \n",
      " Normalization)                                                  \n",
      "                                                                 \n",
      " max_pooling2d (MaxPooling2  (None, 128, 128, 32)      0         \n",
      " D)                                                              \n",
      "                                                                 \n",
      " dropout (Dropout)           (None, 128, 128, 32)      0         \n",
      "                                                                 \n",
      " conv2d_1 (Conv2D)           (None, 128, 128, 64)      51264     \n",
      "                                                                 \n",
      " activation_1 (Activation)   (None, 128, 128, 64)      0         \n",
      "                                                                 \n",
      " batch_normalization_1 (Bat  (None, 128, 128, 64)      256       \n",
      " chNormalization)                                                \n",
      "                                                                 \n",
      " max_pooling2d_1 (MaxPoolin  (None, 64, 64, 64)        0         \n",
      " g2D)                                                            \n",
      "                                                                 \n",
      " dropout_1 (Dropout)         (None, 64, 64, 64)        0         \n",
      "                                                                 \n",
      " conv2d_2 (Conv2D)           (None, 64, 64, 128)       73856     \n",
      "                                                                 \n",
      " activation_2 (Activation)   (None, 64, 64, 128)       0         \n",
      "                                                                 \n",
      " batch_normalization_2 (Bat  (None, 64, 64, 128)       512       \n",
      " chNormalization)                                                \n",
      "                                                                 \n",
      " max_pooling2d_2 (MaxPoolin  (None, 32, 32, 128)       0         \n",
      " g2D)                                                            \n",
      "                                                                 \n",
      " dropout_2 (Dropout)         (None, 32, 32, 128)       0         \n",
      "                                                                 \n",
      " conv2d_3 (Conv2D)           (None, 32, 32, 256)       819456    \n",
      "                                                                 \n",
      " activation_3 (Activation)   (None, 32, 32, 256)       0         \n",
      "                                                                 \n",
      " batch_normalization_3 (Bat  (None, 32, 32, 256)       1024      \n",
      " chNormalization)                                                \n",
      "                                                                 \n",
      " max_pooling2d_3 (MaxPoolin  (None, 16, 16, 256)       0         \n",
      " g2D)                                                            \n",
      "                                                                 \n",
      " dropout_3 (Dropout)         (None, 16, 16, 256)       0         \n",
      "                                                                 \n",
      " conv2d_4 (Conv2D)           (None, 16, 16, 512)       1180160   \n",
      "                                                                 \n",
      " activation_4 (Activation)   (None, 16, 16, 512)       0         \n",
      "                                                                 \n",
      " batch_normalization_4 (Bat  (None, 16, 16, 512)       2048      \n",
      " chNormalization)                                                \n",
      "                                                                 \n",
      " max_pooling2d_4 (MaxPoolin  (None, 8, 8, 512)         0         \n",
      " g2D)                                                            \n",
      "                                                                 \n",
      " dropout_4 (Dropout)         (None, 8, 8, 512)         0         \n",
      "                                                                 \n",
      " flatten (Flatten)           (None, 32768)             0         \n",
      "                                                                 \n",
      " dense (Dense)               (None, 2048)              67110912  \n",
      "                                                                 \n",
      " activation_5 (Activation)   (None, 2048)              0         \n",
      "                                                                 \n",
      " dropout_5 (Dropout)         (None, 2048)              0         \n",
      "                                                                 \n",
      " dense_1 (Dense)             (None, 10)                20490     \n",
      "                                                                 \n",
      "=================================================================\n",
      "Total params: 69261002 (264.21 MB)\n",
      "Trainable params: 69259018 (264.20 MB)\n",
      "Non-trainable params: 1984 (7.75 KB)\n",
      "_________________________________________________________________\n"
     ]
    }
   ],
   "source": [
    "model.summary()"
   ]
  },
  {
   "cell_type": "code",
   "execution_count": 57,
   "metadata": {},
   "outputs": [
    {
     "data": {
      "application/vnd.plotly.v1+json": {
       "config": {
        "plotlyServerURL": "https://plot.ly"
       },
       "data": [
        {
         "line": {
          "color": "rgba(0, 67, 162, .75)",
          "width": 4.75
         },
         "mode": "lines",
         "name": "Training",
         "showlegend": false,
         "type": "scatter",
         "x": [
          0,
          1,
          2,
          3,
          4,
          5,
          6,
          7,
          8,
          9,
          10,
          11,
          12,
          13,
          14,
          15
         ],
         "xaxis": "x",
         "y": [
          7.38038444519043,
          4.427229404449463,
          2.7844488620758057,
          2.557117223739624,
          2.4490792751312256,
          2.421128273010254,
          2.4025919437408447,
          2.4326820373535156,
          2.4028046131134033,
          2.376187562942505,
          2.3832099437713623,
          2.3551933765411377,
          2.368378162384033,
          2.3823659420013428,
          2.3810715675354004,
          2.3471508026123047
         ],
         "yaxis": "y"
        },
        {
         "line": {
          "color": "rgba(255, 132, 0, .75)",
          "width": 4.75
         },
         "mode": "lines",
         "name": "Test",
         "showlegend": false,
         "type": "scatter",
         "x": [
          0,
          1,
          2,
          3,
          4,
          5,
          6,
          7,
          8,
          9,
          10,
          11,
          12,
          13,
          14,
          15
         ],
         "xaxis": "x",
         "y": [
          5.282752990722656,
          4.185436248779297,
          7.850116729736328,
          4.578291416168213,
          7.308013916015625,
          5.340353965759277,
          5.3052873611450195,
          6.627070903778076,
          4.620832443237305,
          7.1309895515441895,
          5.079010009765625,
          6.054481029510498,
          3.6240744590759277,
          3.817864179611206,
          4.181187629699707,
          3.8424246311187744
         ],
         "yaxis": "y"
        },
        {
         "line": {
          "color": "rgba(0, 67, 162, .75)",
          "width": 4.75
         },
         "mode": "lines",
         "name": "Training",
         "showlegend": true,
         "type": "scatter",
         "x": [
          0,
          1,
          2,
          3,
          4,
          5,
          6,
          7,
          8,
          9,
          10,
          11,
          12,
          13,
          14,
          15
         ],
         "xaxis": "x2",
         "y": [
          0.12942366302013397,
          0.12234580516815186,
          0.12841254472732544,
          0.1274014115333557,
          0.1334681510925293,
          0.12942366302013397,
          0.12335692346096039,
          0.12942366302013397,
          0.13245703279972076,
          0.1567239612340927,
          0.13549038767814636,
          0.13852375745773315,
          0.13751263916492462,
          0.12234580516815186,
          0.16177958250045776,
          0.1365015208721161
         ],
         "yaxis": "y2"
        },
        {
         "line": {
          "color": "rgba(255, 132, 0, .75)",
          "width": 4.75
         },
         "mode": "lines",
         "name": "Test",
         "showlegend": true,
         "type": "scatter",
         "x": [
          0,
          1,
          2,
          3,
          4,
          5,
          6,
          7,
          8,
          9,
          10,
          11,
          12,
          13,
          14,
          15
         ],
         "xaxis": "x2",
         "y": [
          0.08571428805589676,
          0.08571428805589676,
          0.08571428805589676,
          0.09285714477300644,
          0.08571428805589676,
          0.1071428582072258,
          0.12142857164144516,
          0.12142857164144516,
          0.13571429252624512,
          0.13571429252624512,
          0.1428571492433548,
          0.09285714477300644,
          0.12142857164144516,
          0.1071428582072258,
          0.1428571492433548,
          0.07857143133878708
         ],
         "yaxis": "y2"
        }
       ],
       "layout": {
        "annotations": [
         {
          "font": {
           "size": 16
          },
          "showarrow": false,
          "text": "<b>Loss Over Epochs</b>",
          "x": 0.2,
          "xanchor": "center",
          "xref": "paper",
          "y": 1,
          "yanchor": "bottom",
          "yref": "paper"
         },
         {
          "font": {
           "size": 16
          },
          "showarrow": false,
          "text": "<b>Accuracy Over Epochs</b>",
          "x": 0.8,
          "xanchor": "center",
          "xref": "paper",
          "y": 1,
          "yanchor": "bottom",
          "yref": "paper"
         }
        ],
        "height": 500,
        "margin": {
         "t": 100
        },
        "paper_bgcolor": "#EEF6FF",
        "plot_bgcolor": "#EEF6FF",
        "showlegend": true,
        "template": {
         "data": {
          "bar": [
           {
            "error_x": {
             "color": "#2a3f5f"
            },
            "error_y": {
             "color": "#2a3f5f"
            },
            "marker": {
             "line": {
              "color": "#E5ECF6",
              "width": 0.5
             },
             "pattern": {
              "fillmode": "overlay",
              "size": 10,
              "solidity": 0.2
             }
            },
            "type": "bar"
           }
          ],
          "barpolar": [
           {
            "marker": {
             "line": {
              "color": "#E5ECF6",
              "width": 0.5
             },
             "pattern": {
              "fillmode": "overlay",
              "size": 10,
              "solidity": 0.2
             }
            },
            "type": "barpolar"
           }
          ],
          "carpet": [
           {
            "aaxis": {
             "endlinecolor": "#2a3f5f",
             "gridcolor": "white",
             "linecolor": "white",
             "minorgridcolor": "white",
             "startlinecolor": "#2a3f5f"
            },
            "baxis": {
             "endlinecolor": "#2a3f5f",
             "gridcolor": "white",
             "linecolor": "white",
             "minorgridcolor": "white",
             "startlinecolor": "#2a3f5f"
            },
            "type": "carpet"
           }
          ],
          "choropleth": [
           {
            "colorbar": {
             "outlinewidth": 0,
             "ticks": ""
            },
            "type": "choropleth"
           }
          ],
          "contour": [
           {
            "colorbar": {
             "outlinewidth": 0,
             "ticks": ""
            },
            "colorscale": [
             [
              0,
              "#0d0887"
             ],
             [
              0.1111111111111111,
              "#46039f"
             ],
             [
              0.2222222222222222,
              "#7201a8"
             ],
             [
              0.3333333333333333,
              "#9c179e"
             ],
             [
              0.4444444444444444,
              "#bd3786"
             ],
             [
              0.5555555555555556,
              "#d8576b"
             ],
             [
              0.6666666666666666,
              "#ed7953"
             ],
             [
              0.7777777777777778,
              "#fb9f3a"
             ],
             [
              0.8888888888888888,
              "#fdca26"
             ],
             [
              1,
              "#f0f921"
             ]
            ],
            "type": "contour"
           }
          ],
          "contourcarpet": [
           {
            "colorbar": {
             "outlinewidth": 0,
             "ticks": ""
            },
            "type": "contourcarpet"
           }
          ],
          "heatmap": [
           {
            "colorbar": {
             "outlinewidth": 0,
             "ticks": ""
            },
            "colorscale": [
             [
              0,
              "#0d0887"
             ],
             [
              0.1111111111111111,
              "#46039f"
             ],
             [
              0.2222222222222222,
              "#7201a8"
             ],
             [
              0.3333333333333333,
              "#9c179e"
             ],
             [
              0.4444444444444444,
              "#bd3786"
             ],
             [
              0.5555555555555556,
              "#d8576b"
             ],
             [
              0.6666666666666666,
              "#ed7953"
             ],
             [
              0.7777777777777778,
              "#fb9f3a"
             ],
             [
              0.8888888888888888,
              "#fdca26"
             ],
             [
              1,
              "#f0f921"
             ]
            ],
            "type": "heatmap"
           }
          ],
          "heatmapgl": [
           {
            "colorbar": {
             "outlinewidth": 0,
             "ticks": ""
            },
            "colorscale": [
             [
              0,
              "#0d0887"
             ],
             [
              0.1111111111111111,
              "#46039f"
             ],
             [
              0.2222222222222222,
              "#7201a8"
             ],
             [
              0.3333333333333333,
              "#9c179e"
             ],
             [
              0.4444444444444444,
              "#bd3786"
             ],
             [
              0.5555555555555556,
              "#d8576b"
             ],
             [
              0.6666666666666666,
              "#ed7953"
             ],
             [
              0.7777777777777778,
              "#fb9f3a"
             ],
             [
              0.8888888888888888,
              "#fdca26"
             ],
             [
              1,
              "#f0f921"
             ]
            ],
            "type": "heatmapgl"
           }
          ],
          "histogram": [
           {
            "marker": {
             "pattern": {
              "fillmode": "overlay",
              "size": 10,
              "solidity": 0.2
             }
            },
            "type": "histogram"
           }
          ],
          "histogram2d": [
           {
            "colorbar": {
             "outlinewidth": 0,
             "ticks": ""
            },
            "colorscale": [
             [
              0,
              "#0d0887"
             ],
             [
              0.1111111111111111,
              "#46039f"
             ],
             [
              0.2222222222222222,
              "#7201a8"
             ],
             [
              0.3333333333333333,
              "#9c179e"
             ],
             [
              0.4444444444444444,
              "#bd3786"
             ],
             [
              0.5555555555555556,
              "#d8576b"
             ],
             [
              0.6666666666666666,
              "#ed7953"
             ],
             [
              0.7777777777777778,
              "#fb9f3a"
             ],
             [
              0.8888888888888888,
              "#fdca26"
             ],
             [
              1,
              "#f0f921"
             ]
            ],
            "type": "histogram2d"
           }
          ],
          "histogram2dcontour": [
           {
            "colorbar": {
             "outlinewidth": 0,
             "ticks": ""
            },
            "colorscale": [
             [
              0,
              "#0d0887"
             ],
             [
              0.1111111111111111,
              "#46039f"
             ],
             [
              0.2222222222222222,
              "#7201a8"
             ],
             [
              0.3333333333333333,
              "#9c179e"
             ],
             [
              0.4444444444444444,
              "#bd3786"
             ],
             [
              0.5555555555555556,
              "#d8576b"
             ],
             [
              0.6666666666666666,
              "#ed7953"
             ],
             [
              0.7777777777777778,
              "#fb9f3a"
             ],
             [
              0.8888888888888888,
              "#fdca26"
             ],
             [
              1,
              "#f0f921"
             ]
            ],
            "type": "histogram2dcontour"
           }
          ],
          "mesh3d": [
           {
            "colorbar": {
             "outlinewidth": 0,
             "ticks": ""
            },
            "type": "mesh3d"
           }
          ],
          "parcoords": [
           {
            "line": {
             "colorbar": {
              "outlinewidth": 0,
              "ticks": ""
             }
            },
            "type": "parcoords"
           }
          ],
          "pie": [
           {
            "automargin": true,
            "type": "pie"
           }
          ],
          "scatter": [
           {
            "fillpattern": {
             "fillmode": "overlay",
             "size": 10,
             "solidity": 0.2
            },
            "type": "scatter"
           }
          ],
          "scatter3d": [
           {
            "line": {
             "colorbar": {
              "outlinewidth": 0,
              "ticks": ""
             }
            },
            "marker": {
             "colorbar": {
              "outlinewidth": 0,
              "ticks": ""
             }
            },
            "type": "scatter3d"
           }
          ],
          "scattercarpet": [
           {
            "marker": {
             "colorbar": {
              "outlinewidth": 0,
              "ticks": ""
             }
            },
            "type": "scattercarpet"
           }
          ],
          "scattergeo": [
           {
            "marker": {
             "colorbar": {
              "outlinewidth": 0,
              "ticks": ""
             }
            },
            "type": "scattergeo"
           }
          ],
          "scattergl": [
           {
            "marker": {
             "colorbar": {
              "outlinewidth": 0,
              "ticks": ""
             }
            },
            "type": "scattergl"
           }
          ],
          "scattermapbox": [
           {
            "marker": {
             "colorbar": {
              "outlinewidth": 0,
              "ticks": ""
             }
            },
            "type": "scattermapbox"
           }
          ],
          "scatterpolar": [
           {
            "marker": {
             "colorbar": {
              "outlinewidth": 0,
              "ticks": ""
             }
            },
            "type": "scatterpolar"
           }
          ],
          "scatterpolargl": [
           {
            "marker": {
             "colorbar": {
              "outlinewidth": 0,
              "ticks": ""
             }
            },
            "type": "scatterpolargl"
           }
          ],
          "scatterternary": [
           {
            "marker": {
             "colorbar": {
              "outlinewidth": 0,
              "ticks": ""
             }
            },
            "type": "scatterternary"
           }
          ],
          "surface": [
           {
            "colorbar": {
             "outlinewidth": 0,
             "ticks": ""
            },
            "colorscale": [
             [
              0,
              "#0d0887"
             ],
             [
              0.1111111111111111,
              "#46039f"
             ],
             [
              0.2222222222222222,
              "#7201a8"
             ],
             [
              0.3333333333333333,
              "#9c179e"
             ],
             [
              0.4444444444444444,
              "#bd3786"
             ],
             [
              0.5555555555555556,
              "#d8576b"
             ],
             [
              0.6666666666666666,
              "#ed7953"
             ],
             [
              0.7777777777777778,
              "#fb9f3a"
             ],
             [
              0.8888888888888888,
              "#fdca26"
             ],
             [
              1,
              "#f0f921"
             ]
            ],
            "type": "surface"
           }
          ],
          "table": [
           {
            "cells": {
             "fill": {
              "color": "#EBF0F8"
             },
             "line": {
              "color": "white"
             }
            },
            "header": {
             "fill": {
              "color": "#C8D4E3"
             },
             "line": {
              "color": "white"
             }
            },
            "type": "table"
           }
          ]
         },
         "layout": {
          "annotationdefaults": {
           "arrowcolor": "#2a3f5f",
           "arrowhead": 0,
           "arrowwidth": 1
          },
          "autotypenumbers": "strict",
          "coloraxis": {
           "colorbar": {
            "outlinewidth": 0,
            "ticks": ""
           }
          },
          "colorscale": {
           "diverging": [
            [
             0,
             "#8e0152"
            ],
            [
             0.1,
             "#c51b7d"
            ],
            [
             0.2,
             "#de77ae"
            ],
            [
             0.3,
             "#f1b6da"
            ],
            [
             0.4,
             "#fde0ef"
            ],
            [
             0.5,
             "#f7f7f7"
            ],
            [
             0.6,
             "#e6f5d0"
            ],
            [
             0.7,
             "#b8e186"
            ],
            [
             0.8,
             "#7fbc41"
            ],
            [
             0.9,
             "#4d9221"
            ],
            [
             1,
             "#276419"
            ]
           ],
           "sequential": [
            [
             0,
             "#0d0887"
            ],
            [
             0.1111111111111111,
             "#46039f"
            ],
            [
             0.2222222222222222,
             "#7201a8"
            ],
            [
             0.3333333333333333,
             "#9c179e"
            ],
            [
             0.4444444444444444,
             "#bd3786"
            ],
            [
             0.5555555555555556,
             "#d8576b"
            ],
            [
             0.6666666666666666,
             "#ed7953"
            ],
            [
             0.7777777777777778,
             "#fb9f3a"
            ],
            [
             0.8888888888888888,
             "#fdca26"
            ],
            [
             1,
             "#f0f921"
            ]
           ],
           "sequentialminus": [
            [
             0,
             "#0d0887"
            ],
            [
             0.1111111111111111,
             "#46039f"
            ],
            [
             0.2222222222222222,
             "#7201a8"
            ],
            [
             0.3333333333333333,
             "#9c179e"
            ],
            [
             0.4444444444444444,
             "#bd3786"
            ],
            [
             0.5555555555555556,
             "#d8576b"
            ],
            [
             0.6666666666666666,
             "#ed7953"
            ],
            [
             0.7777777777777778,
             "#fb9f3a"
            ],
            [
             0.8888888888888888,
             "#fdca26"
            ],
            [
             1,
             "#f0f921"
            ]
           ]
          },
          "colorway": [
           "#636efa",
           "#EF553B",
           "#00cc96",
           "#ab63fa",
           "#FFA15A",
           "#19d3f3",
           "#FF6692",
           "#B6E880",
           "#FF97FF",
           "#FECB52"
          ],
          "font": {
           "color": "#2a3f5f"
          },
          "geo": {
           "bgcolor": "white",
           "lakecolor": "white",
           "landcolor": "#E5ECF6",
           "showlakes": true,
           "showland": true,
           "subunitcolor": "white"
          },
          "hoverlabel": {
           "align": "left"
          },
          "hovermode": "closest",
          "mapbox": {
           "style": "light"
          },
          "paper_bgcolor": "white",
          "plot_bgcolor": "#E5ECF6",
          "polar": {
           "angularaxis": {
            "gridcolor": "white",
            "linecolor": "white",
            "ticks": ""
           },
           "bgcolor": "#E5ECF6",
           "radialaxis": {
            "gridcolor": "white",
            "linecolor": "white",
            "ticks": ""
           }
          },
          "scene": {
           "xaxis": {
            "backgroundcolor": "#E5ECF6",
            "gridcolor": "white",
            "gridwidth": 2,
            "linecolor": "white",
            "showbackground": true,
            "ticks": "",
            "zerolinecolor": "white"
           },
           "yaxis": {
            "backgroundcolor": "#E5ECF6",
            "gridcolor": "white",
            "gridwidth": 2,
            "linecolor": "white",
            "showbackground": true,
            "ticks": "",
            "zerolinecolor": "white"
           },
           "zaxis": {
            "backgroundcolor": "#E5ECF6",
            "gridcolor": "white",
            "gridwidth": 2,
            "linecolor": "white",
            "showbackground": true,
            "ticks": "",
            "zerolinecolor": "white"
           }
          },
          "shapedefaults": {
           "line": {
            "color": "#2a3f5f"
           }
          },
          "ternary": {
           "aaxis": {
            "gridcolor": "white",
            "linecolor": "white",
            "ticks": ""
           },
           "baxis": {
            "gridcolor": "white",
            "linecolor": "white",
            "ticks": ""
           },
           "bgcolor": "#E5ECF6",
           "caxis": {
            "gridcolor": "white",
            "linecolor": "white",
            "ticks": ""
           }
          },
          "title": {
           "x": 0.05
          },
          "xaxis": {
           "automargin": true,
           "gridcolor": "white",
           "linecolor": "white",
           "ticks": "",
           "title": {
            "standoff": 15
           },
           "zerolinecolor": "white",
           "zerolinewidth": 2
          },
          "yaxis": {
           "automargin": true,
           "gridcolor": "white",
           "linecolor": "white",
           "ticks": "",
           "title": {
            "standoff": 15
           },
           "zerolinecolor": "white",
           "zerolinewidth": 2
          }
         }
        },
        "title": {
         "text": "<b>Loss and Accuracy Over Epochs</b>",
         "x": 0.025,
         "xanchor": "left"
        },
        "width": 1000,
        "xaxis": {
         "anchor": "y",
         "domain": [
          0,
          0.4
         ],
         "title": {
          "text": "Epoch"
         }
        },
        "xaxis2": {
         "anchor": "y2",
         "domain": [
          0.6000000000000001,
          1
         ],
         "title": {
          "text": "Epoch"
         }
        },
        "yaxis": {
         "anchor": "x",
         "domain": [
          0,
          1
         ],
         "title": {
          "text": "Loss"
         }
        },
        "yaxis2": {
         "anchor": "x2",
         "domain": [
          0,
          1
         ],
         "title": {
          "text": "Accuracy"
         }
        }
       }
      },
      "text/html": [
       "<div>                            <div id=\"17b543b8-28fa-4492-a879-2cfaca76d64a\" class=\"plotly-graph-div\" style=\"height:500px; width:1000px;\"></div>            <script type=\"text/javascript\">                require([\"plotly\"], function(Plotly) {                    window.PLOTLYENV=window.PLOTLYENV || {};                                    if (document.getElementById(\"17b543b8-28fa-4492-a879-2cfaca76d64a\")) {                    Plotly.newPlot(                        \"17b543b8-28fa-4492-a879-2cfaca76d64a\",                        [{\"line\":{\"color\":\"rgba(0, 67, 162, .75)\",\"width\":4.75},\"mode\":\"lines\",\"name\":\"Training\",\"showlegend\":false,\"x\":[0,1,2,3,4,5,6,7,8,9,10,11,12,13,14,15],\"y\":[7.38038444519043,4.427229404449463,2.7844488620758057,2.557117223739624,2.4490792751312256,2.421128273010254,2.4025919437408447,2.4326820373535156,2.4028046131134033,2.376187562942505,2.3832099437713623,2.3551933765411377,2.368378162384033,2.3823659420013428,2.3810715675354004,2.3471508026123047],\"type\":\"scatter\",\"xaxis\":\"x\",\"yaxis\":\"y\"},{\"line\":{\"color\":\"rgba(255, 132, 0, .75)\",\"width\":4.75},\"mode\":\"lines\",\"name\":\"Test\",\"showlegend\":false,\"x\":[0,1,2,3,4,5,6,7,8,9,10,11,12,13,14,15],\"y\":[5.282752990722656,4.185436248779297,7.850116729736328,4.578291416168213,7.308013916015625,5.340353965759277,5.3052873611450195,6.627070903778076,4.620832443237305,7.1309895515441895,5.079010009765625,6.054481029510498,3.6240744590759277,3.817864179611206,4.181187629699707,3.8424246311187744],\"type\":\"scatter\",\"xaxis\":\"x\",\"yaxis\":\"y\"},{\"line\":{\"color\":\"rgba(0, 67, 162, .75)\",\"width\":4.75},\"mode\":\"lines\",\"name\":\"Training\",\"showlegend\":true,\"x\":[0,1,2,3,4,5,6,7,8,9,10,11,12,13,14,15],\"y\":[0.12942366302013397,0.12234580516815186,0.12841254472732544,0.1274014115333557,0.1334681510925293,0.12942366302013397,0.12335692346096039,0.12942366302013397,0.13245703279972076,0.1567239612340927,0.13549038767814636,0.13852375745773315,0.13751263916492462,0.12234580516815186,0.16177958250045776,0.1365015208721161],\"type\":\"scatter\",\"xaxis\":\"x2\",\"yaxis\":\"y2\"},{\"line\":{\"color\":\"rgba(255, 132, 0, .75)\",\"width\":4.75},\"mode\":\"lines\",\"name\":\"Test\",\"showlegend\":true,\"x\":[0,1,2,3,4,5,6,7,8,9,10,11,12,13,14,15],\"y\":[0.08571428805589676,0.08571428805589676,0.08571428805589676,0.09285714477300644,0.08571428805589676,0.1071428582072258,0.12142857164144516,0.12142857164144516,0.13571429252624512,0.13571429252624512,0.1428571492433548,0.09285714477300644,0.12142857164144516,0.1071428582072258,0.1428571492433548,0.07857143133878708],\"type\":\"scatter\",\"xaxis\":\"x2\",\"yaxis\":\"y2\"}],                        {\"template\":{\"data\":{\"histogram2dcontour\":[{\"type\":\"histogram2dcontour\",\"colorbar\":{\"outlinewidth\":0,\"ticks\":\"\"},\"colorscale\":[[0.0,\"#0d0887\"],[0.1111111111111111,\"#46039f\"],[0.2222222222222222,\"#7201a8\"],[0.3333333333333333,\"#9c179e\"],[0.4444444444444444,\"#bd3786\"],[0.5555555555555556,\"#d8576b\"],[0.6666666666666666,\"#ed7953\"],[0.7777777777777778,\"#fb9f3a\"],[0.8888888888888888,\"#fdca26\"],[1.0,\"#f0f921\"]]}],\"choropleth\":[{\"type\":\"choropleth\",\"colorbar\":{\"outlinewidth\":0,\"ticks\":\"\"}}],\"histogram2d\":[{\"type\":\"histogram2d\",\"colorbar\":{\"outlinewidth\":0,\"ticks\":\"\"},\"colorscale\":[[0.0,\"#0d0887\"],[0.1111111111111111,\"#46039f\"],[0.2222222222222222,\"#7201a8\"],[0.3333333333333333,\"#9c179e\"],[0.4444444444444444,\"#bd3786\"],[0.5555555555555556,\"#d8576b\"],[0.6666666666666666,\"#ed7953\"],[0.7777777777777778,\"#fb9f3a\"],[0.8888888888888888,\"#fdca26\"],[1.0,\"#f0f921\"]]}],\"heatmap\":[{\"type\":\"heatmap\",\"colorbar\":{\"outlinewidth\":0,\"ticks\":\"\"},\"colorscale\":[[0.0,\"#0d0887\"],[0.1111111111111111,\"#46039f\"],[0.2222222222222222,\"#7201a8\"],[0.3333333333333333,\"#9c179e\"],[0.4444444444444444,\"#bd3786\"],[0.5555555555555556,\"#d8576b\"],[0.6666666666666666,\"#ed7953\"],[0.7777777777777778,\"#fb9f3a\"],[0.8888888888888888,\"#fdca26\"],[1.0,\"#f0f921\"]]}],\"heatmapgl\":[{\"type\":\"heatmapgl\",\"colorbar\":{\"outlinewidth\":0,\"ticks\":\"\"},\"colorscale\":[[0.0,\"#0d0887\"],[0.1111111111111111,\"#46039f\"],[0.2222222222222222,\"#7201a8\"],[0.3333333333333333,\"#9c179e\"],[0.4444444444444444,\"#bd3786\"],[0.5555555555555556,\"#d8576b\"],[0.6666666666666666,\"#ed7953\"],[0.7777777777777778,\"#fb9f3a\"],[0.8888888888888888,\"#fdca26\"],[1.0,\"#f0f921\"]]}],\"contourcarpet\":[{\"type\":\"contourcarpet\",\"colorbar\":{\"outlinewidth\":0,\"ticks\":\"\"}}],\"contour\":[{\"type\":\"contour\",\"colorbar\":{\"outlinewidth\":0,\"ticks\":\"\"},\"colorscale\":[[0.0,\"#0d0887\"],[0.1111111111111111,\"#46039f\"],[0.2222222222222222,\"#7201a8\"],[0.3333333333333333,\"#9c179e\"],[0.4444444444444444,\"#bd3786\"],[0.5555555555555556,\"#d8576b\"],[0.6666666666666666,\"#ed7953\"],[0.7777777777777778,\"#fb9f3a\"],[0.8888888888888888,\"#fdca26\"],[1.0,\"#f0f921\"]]}],\"surface\":[{\"type\":\"surface\",\"colorbar\":{\"outlinewidth\":0,\"ticks\":\"\"},\"colorscale\":[[0.0,\"#0d0887\"],[0.1111111111111111,\"#46039f\"],[0.2222222222222222,\"#7201a8\"],[0.3333333333333333,\"#9c179e\"],[0.4444444444444444,\"#bd3786\"],[0.5555555555555556,\"#d8576b\"],[0.6666666666666666,\"#ed7953\"],[0.7777777777777778,\"#fb9f3a\"],[0.8888888888888888,\"#fdca26\"],[1.0,\"#f0f921\"]]}],\"mesh3d\":[{\"type\":\"mesh3d\",\"colorbar\":{\"outlinewidth\":0,\"ticks\":\"\"}}],\"scatter\":[{\"fillpattern\":{\"fillmode\":\"overlay\",\"size\":10,\"solidity\":0.2},\"type\":\"scatter\"}],\"parcoords\":[{\"type\":\"parcoords\",\"line\":{\"colorbar\":{\"outlinewidth\":0,\"ticks\":\"\"}}}],\"scatterpolargl\":[{\"type\":\"scatterpolargl\",\"marker\":{\"colorbar\":{\"outlinewidth\":0,\"ticks\":\"\"}}}],\"bar\":[{\"error_x\":{\"color\":\"#2a3f5f\"},\"error_y\":{\"color\":\"#2a3f5f\"},\"marker\":{\"line\":{\"color\":\"#E5ECF6\",\"width\":0.5},\"pattern\":{\"fillmode\":\"overlay\",\"size\":10,\"solidity\":0.2}},\"type\":\"bar\"}],\"scattergeo\":[{\"type\":\"scattergeo\",\"marker\":{\"colorbar\":{\"outlinewidth\":0,\"ticks\":\"\"}}}],\"scatterpolar\":[{\"type\":\"scatterpolar\",\"marker\":{\"colorbar\":{\"outlinewidth\":0,\"ticks\":\"\"}}}],\"histogram\":[{\"marker\":{\"pattern\":{\"fillmode\":\"overlay\",\"size\":10,\"solidity\":0.2}},\"type\":\"histogram\"}],\"scattergl\":[{\"type\":\"scattergl\",\"marker\":{\"colorbar\":{\"outlinewidth\":0,\"ticks\":\"\"}}}],\"scatter3d\":[{\"type\":\"scatter3d\",\"line\":{\"colorbar\":{\"outlinewidth\":0,\"ticks\":\"\"}},\"marker\":{\"colorbar\":{\"outlinewidth\":0,\"ticks\":\"\"}}}],\"scattermapbox\":[{\"type\":\"scattermapbox\",\"marker\":{\"colorbar\":{\"outlinewidth\":0,\"ticks\":\"\"}}}],\"scatterternary\":[{\"type\":\"scatterternary\",\"marker\":{\"colorbar\":{\"outlinewidth\":0,\"ticks\":\"\"}}}],\"scattercarpet\":[{\"type\":\"scattercarpet\",\"marker\":{\"colorbar\":{\"outlinewidth\":0,\"ticks\":\"\"}}}],\"carpet\":[{\"aaxis\":{\"endlinecolor\":\"#2a3f5f\",\"gridcolor\":\"white\",\"linecolor\":\"white\",\"minorgridcolor\":\"white\",\"startlinecolor\":\"#2a3f5f\"},\"baxis\":{\"endlinecolor\":\"#2a3f5f\",\"gridcolor\":\"white\",\"linecolor\":\"white\",\"minorgridcolor\":\"white\",\"startlinecolor\":\"#2a3f5f\"},\"type\":\"carpet\"}],\"table\":[{\"cells\":{\"fill\":{\"color\":\"#EBF0F8\"},\"line\":{\"color\":\"white\"}},\"header\":{\"fill\":{\"color\":\"#C8D4E3\"},\"line\":{\"color\":\"white\"}},\"type\":\"table\"}],\"barpolar\":[{\"marker\":{\"line\":{\"color\":\"#E5ECF6\",\"width\":0.5},\"pattern\":{\"fillmode\":\"overlay\",\"size\":10,\"solidity\":0.2}},\"type\":\"barpolar\"}],\"pie\":[{\"automargin\":true,\"type\":\"pie\"}]},\"layout\":{\"autotypenumbers\":\"strict\",\"colorway\":[\"#636efa\",\"#EF553B\",\"#00cc96\",\"#ab63fa\",\"#FFA15A\",\"#19d3f3\",\"#FF6692\",\"#B6E880\",\"#FF97FF\",\"#FECB52\"],\"font\":{\"color\":\"#2a3f5f\"},\"hovermode\":\"closest\",\"hoverlabel\":{\"align\":\"left\"},\"paper_bgcolor\":\"white\",\"plot_bgcolor\":\"#E5ECF6\",\"polar\":{\"bgcolor\":\"#E5ECF6\",\"angularaxis\":{\"gridcolor\":\"white\",\"linecolor\":\"white\",\"ticks\":\"\"},\"radialaxis\":{\"gridcolor\":\"white\",\"linecolor\":\"white\",\"ticks\":\"\"}},\"ternary\":{\"bgcolor\":\"#E5ECF6\",\"aaxis\":{\"gridcolor\":\"white\",\"linecolor\":\"white\",\"ticks\":\"\"},\"baxis\":{\"gridcolor\":\"white\",\"linecolor\":\"white\",\"ticks\":\"\"},\"caxis\":{\"gridcolor\":\"white\",\"linecolor\":\"white\",\"ticks\":\"\"}},\"coloraxis\":{\"colorbar\":{\"outlinewidth\":0,\"ticks\":\"\"}},\"colorscale\":{\"sequential\":[[0.0,\"#0d0887\"],[0.1111111111111111,\"#46039f\"],[0.2222222222222222,\"#7201a8\"],[0.3333333333333333,\"#9c179e\"],[0.4444444444444444,\"#bd3786\"],[0.5555555555555556,\"#d8576b\"],[0.6666666666666666,\"#ed7953\"],[0.7777777777777778,\"#fb9f3a\"],[0.8888888888888888,\"#fdca26\"],[1.0,\"#f0f921\"]],\"sequentialminus\":[[0.0,\"#0d0887\"],[0.1111111111111111,\"#46039f\"],[0.2222222222222222,\"#7201a8\"],[0.3333333333333333,\"#9c179e\"],[0.4444444444444444,\"#bd3786\"],[0.5555555555555556,\"#d8576b\"],[0.6666666666666666,\"#ed7953\"],[0.7777777777777778,\"#fb9f3a\"],[0.8888888888888888,\"#fdca26\"],[1.0,\"#f0f921\"]],\"diverging\":[[0,\"#8e0152\"],[0.1,\"#c51b7d\"],[0.2,\"#de77ae\"],[0.3,\"#f1b6da\"],[0.4,\"#fde0ef\"],[0.5,\"#f7f7f7\"],[0.6,\"#e6f5d0\"],[0.7,\"#b8e186\"],[0.8,\"#7fbc41\"],[0.9,\"#4d9221\"],[1,\"#276419\"]]},\"xaxis\":{\"gridcolor\":\"white\",\"linecolor\":\"white\",\"ticks\":\"\",\"title\":{\"standoff\":15},\"zerolinecolor\":\"white\",\"automargin\":true,\"zerolinewidth\":2},\"yaxis\":{\"gridcolor\":\"white\",\"linecolor\":\"white\",\"ticks\":\"\",\"title\":{\"standoff\":15},\"zerolinecolor\":\"white\",\"automargin\":true,\"zerolinewidth\":2},\"scene\":{\"xaxis\":{\"backgroundcolor\":\"#E5ECF6\",\"gridcolor\":\"white\",\"linecolor\":\"white\",\"showbackground\":true,\"ticks\":\"\",\"zerolinecolor\":\"white\",\"gridwidth\":2},\"yaxis\":{\"backgroundcolor\":\"#E5ECF6\",\"gridcolor\":\"white\",\"linecolor\":\"white\",\"showbackground\":true,\"ticks\":\"\",\"zerolinecolor\":\"white\",\"gridwidth\":2},\"zaxis\":{\"backgroundcolor\":\"#E5ECF6\",\"gridcolor\":\"white\",\"linecolor\":\"white\",\"showbackground\":true,\"ticks\":\"\",\"zerolinecolor\":\"white\",\"gridwidth\":2}},\"shapedefaults\":{\"line\":{\"color\":\"#2a3f5f\"}},\"annotationdefaults\":{\"arrowcolor\":\"#2a3f5f\",\"arrowhead\":0,\"arrowwidth\":1},\"geo\":{\"bgcolor\":\"white\",\"landcolor\":\"#E5ECF6\",\"subunitcolor\":\"white\",\"showland\":true,\"showlakes\":true,\"lakecolor\":\"white\"},\"title\":{\"x\":0.05},\"mapbox\":{\"style\":\"light\"}}},\"xaxis\":{\"anchor\":\"y\",\"domain\":[0.0,0.4],\"title\":{\"text\":\"Epoch\"}},\"yaxis\":{\"anchor\":\"x\",\"domain\":[0.0,1.0],\"title\":{\"text\":\"Loss\"}},\"xaxis2\":{\"anchor\":\"y2\",\"domain\":[0.6000000000000001,1.0],\"title\":{\"text\":\"Epoch\"}},\"yaxis2\":{\"anchor\":\"x2\",\"domain\":[0.0,1.0],\"title\":{\"text\":\"Accuracy\"}},\"annotations\":[{\"font\":{\"size\":16},\"showarrow\":false,\"text\":\"\\u003cb\\u003eLoss Over Epochs\\u003c\\u002fb\\u003e\",\"x\":0.2,\"xanchor\":\"center\",\"xref\":\"paper\",\"y\":1.0,\"yanchor\":\"bottom\",\"yref\":\"paper\"},{\"font\":{\"size\":16},\"showarrow\":false,\"text\":\"\\u003cb\\u003eAccuracy Over Epochs\\u003c\\u002fb\\u003e\",\"x\":0.8,\"xanchor\":\"center\",\"xref\":\"paper\",\"y\":1.0,\"yanchor\":\"bottom\",\"yref\":\"paper\"}],\"title\":{\"text\":\"\\u003cb\\u003eLoss and Accuracy Over Epochs\\u003c\\u002fb\\u003e\",\"x\":0.025,\"xanchor\":\"left\"},\"margin\":{\"t\":100},\"plot_bgcolor\":\"#EEF6FF\",\"paper_bgcolor\":\"#EEF6FF\",\"height\":500,\"width\":1000,\"showlegend\":true},                        {\"responsive\": true}                    ).then(function(){\n",
       "                            \n",
       "var gd = document.getElementById('17b543b8-28fa-4492-a879-2cfaca76d64a');\n",
       "var x = new MutationObserver(function (mutations, observer) {{\n",
       "        var display = window.getComputedStyle(gd).display;\n",
       "        if (!display || display === 'none') {{\n",
       "            console.log([gd, 'removed!']);\n",
       "            Plotly.purge(gd);\n",
       "            observer.disconnect();\n",
       "        }}\n",
       "}});\n",
       "\n",
       "// Listen for the removal of the full notebook cells\n",
       "var notebookContainer = gd.closest('#notebook-container');\n",
       "if (notebookContainer) {{\n",
       "    x.observe(notebookContainer, {childList: true});\n",
       "}}\n",
       "\n",
       "// Listen for the clearing of the current output cell\n",
       "var outputEl = gd.closest('.output');\n",
       "if (outputEl) {{\n",
       "    x.observe(outputEl, {childList: true});\n",
       "}}\n",
       "\n",
       "                        })                };                });            </script>        </div>"
      ]
     },
     "metadata": {},
     "output_type": "display_data"
    }
   ],
   "source": [
    "# Creating subplot\n",
    "fig = make_subplots(rows=1,\n",
    "                    cols=2,\n",
    "                    subplot_titles=['<b>Loss Over Epochs</b>', '<b>Accuracy Over Epochs</b>'],\n",
    "                    horizontal_spacing=0.2)\n",
    "\n",
    "# Loss over epochs\n",
    "train_loss = go.Scatter(x=list(range(len(history.history['loss']))),\n",
    "                        y=history.history['loss'],\n",
    "                        mode='lines',\n",
    "                        line=dict(color='rgba(0, 67, 162, .75)', width=4.75),\n",
    "                        name='Training',\n",
    "                        showlegend = False)\n",
    "\n",
    "val_loss = go.Scatter(x=list(range(len(history.history['val_loss']))),\n",
    "                      y=history.history['val_loss'],\n",
    "                      mode='lines',\n",
    "                      line=dict(color='rgba(255, 132, 0, .75)', width=4.75),\n",
    "                      name='Test',\n",
    "                      showlegend = False)\n",
    "\n",
    "\n",
    "fig.add_trace(train_loss, row=1, col=1)\n",
    "fig.add_trace(val_loss, row=1, col=1)\n",
    "\n",
    "# Accuray over epochs\n",
    "train_acc = go.Scatter(x=list(range(len(history.history['accuracy']))),\n",
    "                       y=history.history['accuracy'],\n",
    "                       mode='lines',\n",
    "                       line=dict(color='rgba(0, 67, 162, .75)', width=4.75),\n",
    "                       name='Training',\n",
    "                       showlegend = True)\n",
    "\n",
    "val_acc = go.Scatter(x=list(range(len(history.history['val_accuracy']))),\n",
    "                     y=history.history['val_accuracy'],\n",
    "                     mode='lines',\n",
    "                     line=dict(color='rgba(255, 132, 0, .75)', width=4.75),\n",
    "                     name='Test',\n",
    "                     showlegend = True)\n",
    "\n",
    "\n",
    "fig.add_trace(train_acc, row=1, col=2)\n",
    "fig.add_trace(val_acc, row=1, col=2)\n",
    "\n",
    "# Updating layout\n",
    "fig.update_layout(\n",
    "    title={'text': '<b>Loss and Accuracy Over Epochs</b>', 'x': 0.025, 'xanchor': 'left'},\n",
    "    margin=dict(t=100),\n",
    "    plot_bgcolor=bg_color,paper_bgcolor=paper_color,\n",
    "    height=500, width=1000,\n",
    "    showlegend= True\n",
    ")\n",
    "\n",
    "fig.update_yaxes(title_text = 'Loss', row = 1, col = 1)\n",
    "fig.update_yaxes(title_text = 'Accuracy', row = 1, col = 2)\n",
    "\n",
    "fig.update_xaxes(title_text = 'Epoch', row = 1, col = 1)\n",
    "fig.update_xaxes(title_text = 'Epoch', row = 1, col = 2)\n",
    "\n",
    "# Showing figure\n",
    "fig.show()"
   ]
  },
  {
   "cell_type": "code",
   "execution_count": 58,
   "metadata": {},
   "outputs": [
    {
     "name": "stdout",
     "output_type": "stream",
     "text": [
      "You must install pydot (`pip install pydot`) and install graphviz (see instructions at https://graphviz.gitlab.io/download/) for plot_model to work.\n"
     ]
    }
   ],
   "source": [
    "tf.keras.utils.plot_model(model)"
   ]
  },
  {
   "cell_type": "code",
   "execution_count": null,
   "metadata": {},
   "outputs": [],
   "source": [
    "# Loading best weights\n",
    "model.load_weights('best_model.h5')"
   ]
  },
  {
   "cell_type": "code",
   "execution_count": 59,
   "metadata": {},
   "outputs": [
    {
     "name": "stdout",
     "output_type": "stream",
     "text": [
      "9/9 [==============================] - 2s 154ms/step\n",
      "9/9 [==============================] - 1s 146ms/step - loss: 5.0790 - accuracy: 0.1429\n",
      "\n",
      "Validation Loss:  5.079010009765625\n",
      "\n",
      "Validation Accuracy:  14.0 %\n"
     ]
    }
   ],
   "source": [
    "preds = model.predict(test)  # Running model on the validation dataset\n",
    "val_loss, val_acc = model.evaluate(test) # Obtaining Loss and Accuracy on the val dataset\n",
    "\n",
    "print('\\nValidation Loss: ', val_loss)\n",
    "print('\\nValidation Accuracy: ', np.round(val_acc * 100), '%')"
   ]
  },
  {
   "cell_type": "code",
   "execution_count": 62,
   "metadata": {},
   "outputs": [
    {
     "name": "stdout",
     "output_type": "stream",
     "text": [
      "Picture of a Avulsion fracture: \n",
      "\n"
     ]
    },
    {
     "data": {
      "image/jpeg": "[encoded data removed]",
      "image/png": "[encoded data removed]",
      "text/plain": [
       "<PIL.Image.Image image mode=RGB size=70x105>"
      ]
     },
     "execution_count": 62,
     "metadata": {},
     "output_type": "execute_result"
    }
   ],
   "source": [
    "image_path = 'test/Avulsion fracture/1-s2-0-S0899707114002836-gr2_jpg.rf.bb8ed4dee892edbb760f6ce687d74ba5.jpg'\n",
    "original_image = Image.open(image_path)\n",
    "og_width, og_height = original_image.size\n",
    "\n",
    "# Resizing image for optimal performance\n",
    "new_width = int(og_width * .20) # 20% of the original size\n",
    "new_height = int(og_height * .20) # 20% of the original size\n",
    "\n",
    "resized_img = original_image.resize((new_width, new_height))\n",
    "print('Picture of a Avulsion fracture: \\n')\n",
    "resized_img"
   ]
  },
  {
   "cell_type": "code",
   "execution_count": 63,
   "metadata": {},
   "outputs": [
    {
     "name": "stdout",
     "output_type": "stream",
     "text": [
      "1/1 [==============================] - 0s 220ms/step\n",
      "\n",
      "Predicted Class: Fracture Dislocation\n",
      "\n",
      "Confidence Score: 0.9039558172225952\n"
     ]
    }
   ],
   "source": [
    "# Manually preprocessing image\n",
    "preprocessed_image = original_image.resize((256, 256))\n",
    "preprocessed_image = np.array(preprocessed_image) / 255.0\n",
    "\n",
    "preds = model.predict(np.expand_dims(preprocessed_image, axis = 0))\n",
    "labels = subfolders\n",
    "\n",
    "preds_class = np.argmax(preds)\n",
    "preds_label = labels[preds_class]\n",
    "\n",
    "print(f'\\nPredicted Class: {preds_label}')\n",
    "print(f'\\nConfidence Score: {preds[0][preds_class]}')"
   ]
  },
  {
   "cell_type": "code",
   "execution_count": 64,
   "metadata": {},
   "outputs": [],
   "source": [
    "model.save('bone_fracture_classifier_v1.h5')"
   ]
  },
  {
   "cell_type": "code",
   "execution_count": null,
   "metadata": {},
   "outputs": [],
   "source": []
  },
  {
   "cell_type": "code",
   "execution_count": null,
   "metadata": {},
   "outputs": [],
   "source": []
  },
  {
   "cell_type": "code",
   "execution_count": null,
   "metadata": {},
   "outputs": [],
   "source": []
  },
  {
   "cell_type": "code",
   "execution_count": null,
   "metadata": {},
   "outputs": [],
   "source": []
  },
  {
   "cell_type": "code",
   "execution_count": null,
   "metadata": {},
   "outputs": [],
   "source": []
  },
  {
   "cell_type": "code",
   "execution_count": null,
   "metadata": {},
   "outputs": [],
   "source": []
  },
  {
   "cell_type": "code",
   "execution_count": null,
   "metadata": {},
   "outputs": [],
   "source": []
  },
  {
   "cell_type": "code",
   "execution_count": null,
   "metadata": {},
   "outputs": [],
   "source": []
  },
  {
   "cell_type": "code",
   "execution_count": null,
   "metadata": {},
   "outputs": [],
   "source": []
  },
  {
   "cell_type": "code",
   "execution_count": null,
   "metadata": {},
   "outputs": [],
   "source": []
  },
  {
   "cell_type": "code",
   "execution_count": null,
   "metadata": {},
   "outputs": [],
   "source": []
  },
  {
   "cell_type": "code",
   "execution_count": null,
   "metadata": {},
   "outputs": [],
   "source": []
  },
  {
   "cell_type": "code",
   "execution_count": null,
   "metadata": {},
   "outputs": [],
   "source": []
  },
  {
   "cell_type": "code",
   "execution_count": null,
   "metadata": {},
   "outputs": [],
   "source": []
  },
  {
   "cell_type": "code",
   "execution_count": null,
   "metadata": {},
   "outputs": [],
   "source": []
  },
  {
   "cell_type": "code",
   "execution_count": null,
   "metadata": {},
   "outputs": [],
   "source": []
  },
  {
   "cell_type": "code",
   "execution_count": null,
   "metadata": {},
   "outputs": [],
   "source": []
  },
  {
   "cell_type": "code",
   "execution_count": null,
   "metadata": {},
   "outputs": [],
   "source": []
  },
  {
   "cell_type": "code",
   "execution_count": null,
   "metadata": {},
   "outputs": [],
   "source": []
  },
  {
   "cell_type": "code",
   "execution_count": null,
   "metadata": {},
   "outputs": [],
   "source": []
  },
  {
   "cell_type": "code",
   "execution_count": null,
   "metadata": {},
   "outputs": [],
   "source": []
  },
  {
   "cell_type": "code",
   "execution_count": null,
   "metadata": {},
   "outputs": [],
   "source": []
  },
  {
   "cell_type": "code",
   "execution_count": null,
   "metadata": {},
   "outputs": [],
   "source": []
  },
  {
   "cell_type": "code",
   "execution_count": null,
   "metadata": {},
   "outputs": [],
   "source": []
  },
  {
   "cell_type": "code",
   "execution_count": null,
   "metadata": {},
   "outputs": [],
   "source": []
  },
  {
   "cell_type": "code",
   "execution_count": null,
   "metadata": {},
   "outputs": [],
   "source": []
  },
  {
   "cell_type": "code",
   "execution_count": null,
   "metadata": {},
   "outputs": [],
   "source": []
  },
  {
   "cell_type": "code",
   "execution_count": null,
   "metadata": {},
   "outputs": [],
   "source": [
    "#%pip install pydot_ng"
   ]
  },
  {
   "cell_type": "code",
   "execution_count": null,
   "metadata": {},
   "outputs": [],
   "source": [
    "#%pip install pydot"
   ]
  },
  {
   "cell_type": "code",
   "execution_count": null,
   "metadata": {},
   "outputs": [],
   "source": [
    "%pip list"
   ]
  },
  {
   "cell_type": "code",
   "execution_count": null,
   "metadata": {},
   "outputs": [],
   "source": [
    "import tensorflow.compat"
   ]
  },
  {
   "cell_type": "code",
   "execution_count": null,
   "metadata": {},
   "outputs": [],
   "source": [
    "#%pip install jax==0.4.28\n",
    "%pip install jax==0.5.1\n",
    "# %pip install keras==2.14.0\n",
    "# %pip install tensorflow.compat==2.16.1\n"
   ]
  }
 ],
 "metadata": {
  "kernelspec": {
   "display_name": "Python 3",
   "language": "python",
   "name": "python3"
  },
  "language_info": {
   "codemirror_mode": {
    "name": "ipython",
    "version": 3
   },
   "file_extension": ".py",
   "mimetype": "text/x-python",
   "name": "python",
   "nbconvert_exporter": "python",
   "pygments_lexer": "ipython3",
   "version": "3.11.9"
  }
 },
 "nbformat": 4,
 "nbformat_minor": 2
}
