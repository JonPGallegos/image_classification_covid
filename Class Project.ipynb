{
 "cells": [
  {
   "cell_type": "markdown",
   "metadata": {},
   "source": [
    "# Models to use\n",
    "codewithdark/vit-chest-xray\n",
    "VIT - Transformer based\n",
    "https://arxiv.org/pdf/2010.11929\n",
    "While the Transformer architecture has become the de-facto standard for natural\n",
    "language processing tasks, its applications to computer vision remain limited. In\n",
    "vision, attention is either applied in conjunction with convolutional networks, or\n",
    "used to replace certain components of convolutional networks while keeping their\n",
    "overall structure in place. We show that this reliance on CNNs is not necessary\n",
    "and a pure transformer applied directly to sequences of image patches can perform\n",
    "very well on image classification tasks. When pre-trained on large amounts of\n",
    "data and transferred to multiple mid-sized or small image recognition benchmarks\n",
    "(ImageNet, CIFAR-100, VTAB, etc.), Vision Transformer (ViT) attains excellent\n",
    "results compared to state-of-the-art convolutional networks while requiring substantially fewer computational resources to train.\n",
    "\n",
    "DataMinds/cnn_brain_tumor_classification \n",
    "CNN\n",
    "Trained on brain tumor data that used MRIs. \n",
    "\n",
    "dyaminda/alexnet-pneumonia\n",
    "Alexnet - ImageNet Subclass?\n",
    "https://proceedings.neurips.cc/paper_files/paper/2012/file/c399862d3b9d6b76c8436e924a68c45b-Paper.pdf\n",
    "It contains eight learned layers —\n",
    "five convolutional and three fully-connected.\n",
    "\n",
    "ryefoxlime/PneumoniaDetection\n",
    "Resnet\n",
    "Finetuned Paper - https://pubmed.ncbi.nlm.nih.gov/32501424/\n",
    "Already trained on Covid-19, pneumonia and normal classes\n"
   ]
  },
  {
   "cell_type": "markdown",
   "metadata": {},
   "source": [
    "## Helpful Articles about CNNs and ImageNets\n",
    "https://towardsdatascience.com/the-w3h-of-alexnet-vggnet-resnet-and-inception-7baaaecccc96#:~:text=AlexNet%20was%20born%20out%20of,with%20an%20accuracy%20of%2073.8%25.\n",
    "\n"
   ]
  },
  {
   "cell_type": "code",
   "execution_count": 18,
   "metadata": {},
   "outputs": [],
   "source": [
    "from datasets import load_dataset\n",
    "\n",
    "dataset = load_dataset('imagefolder', data_dir='Bone Break Classification')"
   ]
  },
  {
   "cell_type": "code",
   "execution_count": 19,
   "metadata": {},
   "outputs": [
    {
     "data": {
      "text/plain": [
       "DatasetDict({\n",
       "    train: Dataset({\n",
       "        features: ['image', 'label'],\n",
       "        num_rows: 989\n",
       "    })\n",
       "    test: Dataset({\n",
       "        features: ['image', 'label'],\n",
       "        num_rows: 140\n",
       "    })\n",
       "})"
      ]
     },
     "execution_count": 19,
     "metadata": {},
     "output_type": "execute_result"
    }
   ],
   "source": [
    "dataset"
   ]
  },
  {
   "cell_type": "code",
   "execution_count": 20,
   "metadata": {},
   "outputs": [],
   "source": [
    "labels = dataset[\"train\"].features[\"label\"].names\n",
    "label2id, id2label = dict(), dict()\n",
    "for i, label in enumerate(labels):\n",
    "    label2id[label] = str(i)\n",
    "    id2label[str(i)] = label"
   ]
  },
  {
   "cell_type": "code",
   "execution_count": 71,
   "metadata": {},
   "outputs": [
    {
     "data": {
      "text/plain": [
       "['Avulsion fracture',\n",
       " 'Comminuted fracture',\n",
       " 'Fracture Dislocation',\n",
       " 'Greenstick fracture',\n",
       " 'Hairline Fracture',\n",
       " 'Impacted fracture',\n",
       " 'Longitudinal fracture',\n",
       " 'Oblique fracture',\n",
       " 'Pathological fracture',\n",
       " 'Spiral Fracture']"
      ]
     },
     "execution_count": 71,
     "metadata": {},
     "output_type": "execute_result"
    }
   ],
   "source": [
    "labels"
   ]
  },
  {
   "cell_type": "code",
   "execution_count": 21,
   "metadata": {},
   "outputs": [
    {
     "data": {
      "text/plain": [
       "{'0': 'Avulsion fracture',\n",
       " '1': 'Comminuted fracture',\n",
       " '2': 'Fracture Dislocation',\n",
       " '3': 'Greenstick fracture',\n",
       " '4': 'Hairline Fracture',\n",
       " '5': 'Impacted fracture',\n",
       " '6': 'Longitudinal fracture',\n",
       " '7': 'Oblique fracture',\n",
       " '8': 'Pathological fracture',\n",
       " '9': 'Spiral Fracture'}"
      ]
     },
     "execution_count": 21,
     "metadata": {},
     "output_type": "execute_result"
    }
   ],
   "source": [
    "id2label"
   ]
  },
  {
   "cell_type": "code",
   "execution_count": null,
   "metadata": {},
   "outputs": [],
   "source": []
  },
  {
   "cell_type": "code",
   "execution_count": 22,
   "metadata": {},
   "outputs": [
    {
     "name": "stderr",
     "output_type": "stream",
     "text": [
      "Fast image processor class <class 'transformers.models.vit.image_processing_vit_fast.ViTImageProcessorFast'> is available for this model. Using slow image processor class. To use the fast image processor class set `use_fast=True`.\n"
     ]
    }
   ],
   "source": [
    "from transformers import AutoImageProcessor\n",
    "\n",
    "checkpoint = \"google/vit-base-patch16-224-in21k\"\n",
    "image_processor = AutoImageProcessor.from_pretrained(checkpoint)"
   ]
  },
  {
   "cell_type": "code",
   "execution_count": 23,
   "metadata": {},
   "outputs": [],
   "source": [
    "from torchvision.transforms import RandomResizedCrop, Compose, Normalize, ToTensor\n",
    "\n",
    "normalize = Normalize(mean=image_processor.image_mean, std=image_processor.image_std)\n",
    "size = (\n",
    "    image_processor.size[\"shortest_edge\"]\n",
    "    if \"shortest_edge\" in image_processor.size\n",
    "    else (image_processor.size[\"height\"], image_processor.size[\"width\"])\n",
    ")\n",
    "_transforms = Compose([RandomResizedCrop(size), ToTensor(), normalize])"
   ]
  },
  {
   "cell_type": "code",
   "execution_count": 24,
   "metadata": {},
   "outputs": [],
   "source": [
    "def transforms(examples):\n",
    "    examples[\"pixel_values\"] = [_transforms(img.convert(\"RGB\")) for img in examples[\"image\"]]\n",
    "    del examples[\"image\"]\n",
    "    return examples"
   ]
  },
  {
   "cell_type": "code",
   "execution_count": 25,
   "metadata": {},
   "outputs": [],
   "source": [
    "images = dataset.with_transform(transforms)"
   ]
  },
  {
   "cell_type": "code",
   "execution_count": 26,
   "metadata": {},
   "outputs": [
    {
     "data": {
      "text/plain": [
       "DatasetDict({\n",
       "    train: Dataset({\n",
       "        features: ['image', 'label'],\n",
       "        num_rows: 989\n",
       "    })\n",
       "    test: Dataset({\n",
       "        features: ['image', 'label'],\n",
       "        num_rows: 140\n",
       "    })\n",
       "})"
      ]
     },
     "execution_count": 26,
     "metadata": {},
     "output_type": "execute_result"
    }
   ],
   "source": [
    "images"
   ]
  },
  {
   "cell_type": "code",
   "execution_count": 27,
   "metadata": {},
   "outputs": [],
   "source": [
    "from transformers import DefaultDataCollator\n",
    "\n",
    "data_collator = DefaultDataCollator()"
   ]
  },
  {
   "cell_type": "markdown",
   "metadata": {},
   "source": [
    "# Evaluate"
   ]
  },
  {
   "cell_type": "code",
   "execution_count": 28,
   "metadata": {},
   "outputs": [],
   "source": [
    "import evaluate\n",
    "\n",
    "accuracy = evaluate.load(\"accuracy\")"
   ]
  },
  {
   "cell_type": "code",
   "execution_count": 29,
   "metadata": {},
   "outputs": [],
   "source": [
    "import numpy as np\n",
    "\n",
    "\n",
    "def compute_metrics(eval_pred):\n",
    "    predictions, labels = eval_pred\n",
    "    predictions = np.argmax(predictions, axis=1)\n",
    "    return accuracy.compute(predictions=predictions, references=labels)"
   ]
  },
  {
   "cell_type": "code",
   "execution_count": 30,
   "metadata": {},
   "outputs": [
    {
     "name": "stderr",
     "output_type": "stream",
     "text": [
      "Some weights of ViTForImageClassification were not initialized from the model checkpoint at google/vit-base-patch16-224-in21k and are newly initialized: ['classifier.bias', 'classifier.weight']\n",
      "You should probably TRAIN this model on a down-stream task to be able to use it for predictions and inference.\n"
     ]
    }
   ],
   "source": [
    "from transformers import AutoModelForImageClassification, TrainingArguments, Trainer\n",
    "\n",
    "model = AutoModelForImageClassification.from_pretrained(\n",
    "    checkpoint,\n",
    "    num_labels=len(labels),\n",
    "    id2label=id2label,\n",
    "    label2id=label2id,\n",
    ")"
   ]
  },
  {
   "cell_type": "code",
   "execution_count": 42,
   "metadata": {},
   "outputs": [
    {
     "name": "stderr",
     "output_type": "stream",
     "text": [
      "c:\\Users\\jonpg\\AppData\\Local\\Programs\\Python\\Python310\\lib\\site-packages\\transformers\\training_args.py:1494: FutureWarning: `evaluation_strategy` is deprecated and will be removed in version 4.46 of 🤗 Transformers. Use `eval_strategy` instead\n",
      "  warnings.warn(\n"
     ]
    }
   ],
   "source": [
    "training_args = TrainingArguments(\n",
    "    output_dir=\"results/bone_fractures\",\n",
    "    remove_unused_columns=False,\n",
    "    evaluation_strategy=\"epoch\",\n",
    "    save_strategy=\"epoch\",\n",
    "    learning_rate=5e-5,\n",
    "    per_device_train_batch_size=1,\n",
    "    gradient_accumulation_steps=1,\n",
    "    per_device_eval_batch_size=1,\n",
    "    num_train_epochs=1,\n",
    "    warmup_ratio=0.1,\n",
    "    logging_steps=10,\n",
    "    load_best_model_at_end=True,\n",
    "    metric_for_best_model=\"accuracy\"\n",
    ")\n",
    "\n",
    "trainer = Trainer(\n",
    "    model=model,\n",
    "    args=training_args,\n",
    "    data_collator=data_collator,\n",
    "    train_dataset=images[\"train\"],\n",
    "    eval_dataset=images[\"test\"],\n",
    "    tokenizer=image_processor,\n",
    "    compute_metrics=compute_metrics,\n",
    ")\n",
    "\n"
   ]
  },
  {
   "cell_type": "code",
   "execution_count": 43,
   "metadata": {},
   "outputs": [
    {
     "name": "stderr",
     "output_type": "stream",
     "text": [
      " 97%|█████████▋| 960/989 [17:51<00:32,  1.11s/it]"
     ]
    },
    {
     "name": "stdout",
     "output_type": "stream",
     "text": [
      "{'loss': 2.2541, 'grad_norm': 7.432534694671631, 'learning_rate': 1.6292134831460675e-06, 'epoch': 0.97}\n"
     ]
    },
    {
     "name": "stderr",
     "output_type": "stream",
     "text": [
      " 98%|█████████▊| 970/989 [18:02<00:21,  1.12s/it]"
     ]
    },
    {
     "name": "stdout",
     "output_type": "stream",
     "text": [
      "{'loss': 2.2213, 'grad_norm': 7.677077770233154, 'learning_rate': 1.0674157303370787e-06, 'epoch': 0.98}\n"
     ]
    },
    {
     "name": "stderr",
     "output_type": "stream",
     "text": [
      " 99%|█████████▉| 980/989 [18:13<00:10,  1.12s/it]"
     ]
    },
    {
     "name": "stdout",
     "output_type": "stream",
     "text": [
      "{'loss': 2.008, 'grad_norm': 5.950665473937988, 'learning_rate': 5.056179775280899e-07, 'epoch': 0.99}\n"
     ]
    },
    {
     "name": "stderr",
     "output_type": "stream",
     "text": [
      "                                                 \n",
      "100%|██████████| 989/989 [18:59<00:00,  1.03s/it]"
     ]
    },
    {
     "name": "stdout",
     "output_type": "stream",
     "text": [
      "{'eval_loss': 2.206256866455078, 'eval_accuracy': 0.17857142857142858, 'eval_runtime': 35.8401, 'eval_samples_per_second': 3.906, 'eval_steps_per_second': 3.906, 'epoch': 1.0}\n"
     ]
    },
    {
     "name": "stderr",
     "output_type": "stream",
     "text": [
      "100%|██████████| 989/989 [19:01<00:00,  1.15s/it]"
     ]
    },
    {
     "name": "stdout",
     "output_type": "stream",
     "text": [
      "{'train_runtime': 1141.235, 'train_samples_per_second': 0.867, 'train_steps_per_second': 0.867, 'train_loss': 2.233424498169439, 'epoch': 1.0}\n"
     ]
    },
    {
     "name": "stderr",
     "output_type": "stream",
     "text": [
      "\n"
     ]
    },
    {
     "data": {
      "text/plain": [
       "TrainOutput(global_step=989, training_loss=2.233424498169439, metrics={'train_runtime': 1141.235, 'train_samples_per_second': 0.867, 'train_steps_per_second': 0.867, 'total_flos': 7.66450728991826e+16, 'train_loss': 2.233424498169439, 'epoch': 1.0})"
      ]
     },
     "execution_count": 43,
     "metadata": {},
     "output_type": "execute_result"
    }
   ],
   "source": [
    "trainer.train()"
   ]
  },
  {
   "cell_type": "code",
   "execution_count": 44,
   "metadata": {},
   "outputs": [],
   "source": [
    "trainer.save_model('vit_bone_fractures')"
   ]
  },
  {
   "cell_type": "code",
   "execution_count": null,
   "metadata": {},
   "outputs": [],
   "source": []
  },
  {
   "cell_type": "markdown",
   "metadata": {},
   "source": [
    "# Inference"
   ]
  },
  {
   "cell_type": "code",
   "execution_count": 66,
   "metadata": {},
   "outputs": [
    {
     "data": {
      "text/plain": [
       "{'image': <PIL.JpegImagePlugin.JpegImageFile image mode=RGB size=150x323>,\n",
       " 'label': 3}"
      ]
     },
     "execution_count": 66,
     "metadata": {},
     "output_type": "execute_result"
    }
   ],
   "source": [
    "index = 400\n",
    "test_image = dataset['train'][index]['image']\n",
    "dataset['train'][index]"
   ]
  },
  {
   "cell_type": "code",
   "execution_count": 67,
   "metadata": {},
   "outputs": [
    {
     "data": {
      "text/plain": [
       "3"
      ]
     },
     "execution_count": 67,
     "metadata": {},
     "output_type": "execute_result"
    }
   ],
   "source": [
    "dataset['train'][index]['label']"
   ]
  },
  {
   "cell_type": "code",
   "execution_count": 68,
   "metadata": {},
   "outputs": [
    {
     "data": {
      "text/plain": [
       "'Greenstick fracture'"
      ]
     },
     "execution_count": 68,
     "metadata": {},
     "output_type": "execute_result"
    }
   ],
   "source": [
    "id2label[str(dataset['train'][index]['label'])]"
   ]
  },
  {
   "cell_type": "code",
   "execution_count": 69,
   "metadata": {},
   "outputs": [
    {
     "data": {
      "image/jpeg": "[encoded data removed]",
      "image/png": "[encoded data removed]",
      "text/plain": [
       "<PIL.JpegImagePlugin.JpegImageFile image mode=RGB size=150x323>"
      ]
     },
     "execution_count": 69,
     "metadata": {},
     "output_type": "execute_result"
    }
   ],
   "source": [
    "test_image"
   ]
  },
  {
   "cell_type": "code",
   "execution_count": 70,
   "metadata": {},
   "outputs": [
    {
     "data": {
      "text/plain": [
       "[{'label': 'Greenstick fracture', 'score': 0.1772690862417221},\n",
       " {'label': 'Comminuted fracture', 'score': 0.14266914129257202},\n",
       " {'label': 'Fracture Dislocation', 'score': 0.13484209775924683},\n",
       " {'label': 'Hairline Fracture', 'score': 0.09957753121852875},\n",
       " {'label': 'Pathological fracture', 'score': 0.08898772299289703}]"
      ]
     },
     "execution_count": 70,
     "metadata": {},
     "output_type": "execute_result"
    }
   ],
   "source": [
    "from transformers import pipeline\n",
    "\n",
    "classifier = pipeline(\"image-classification\", model=\"vit_bone_fractures\")\n",
    "classifier(test_image)"
   ]
  },
  {
   "cell_type": "code",
   "execution_count": null,
   "metadata": {},
   "outputs": [],
   "source": [
    "from transformers import AutoImageProcessor\n",
    "import torch\n",
    "\n",
    "image_processor = AutoImageProcessor.from_pretrained(\"vit_bone_fractures\")\n",
    "inputs = image_processor(test_image, return_tensors=\"pt\")\n"
   ]
  },
  {
   "cell_type": "code",
   "execution_count": 76,
   "metadata": {},
   "outputs": [
    {
     "data": {
      "text/plain": [
       "3"
      ]
     },
     "execution_count": 76,
     "metadata": {},
     "output_type": "execute_result"
    }
   ],
   "source": [
    "with torch.no_grad():\n",
    "    logits = model(**inputs).logits\n",
    "int(dataset['train'][index]['label'])\n",
    "# assert int(logits.argmax()) == int(dataset['train'][index]['label'])"
   ]
  },
  {
   "cell_type": "code",
   "execution_count": 77,
   "metadata": {},
   "outputs": [
    {
     "data": {
      "text/plain": [
       "3"
      ]
     },
     "execution_count": 77,
     "metadata": {},
     "output_type": "execute_result"
    }
   ],
   "source": [
    "int(logits.argmax().numpy()) "
   ]
  },
  {
   "cell_type": "markdown",
   "metadata": {},
   "source": [
    "# Test accuracy"
   ]
  },
  {
   "cell_type": "code",
   "execution_count": 78,
   "metadata": {},
   "outputs": [
    {
     "name": "stdout",
     "output_type": "stream",
     "text": [
      "0.18571428571428572  Accuracy\n"
     ]
    }
   ],
   "source": [
    "test_set = dataset['test']\n",
    "correct = 0\n",
    "total = len(test_set)\n",
    "\n",
    "for i in range(len(test_set)):\n",
    "    image = test_set[i]['image']\n",
    "    label = test_set[i]['label']\n",
    "    inputs = image_processor(image, return_tensors=\"pt\")\n",
    "    with torch.no_grad():\n",
    "        logits = model(**inputs).logits \n",
    "    if int(logits.argmax()) == label:\n",
    "        correct += 1\n",
    "print(correct/total, ' Accuracy')"
   ]
  },
  {
   "cell_type": "code",
   "execution_count": 53,
   "metadata": {},
   "outputs": [
    {
     "data": {
      "text/plain": [
       "140"
      ]
     },
     "execution_count": 53,
     "metadata": {},
     "output_type": "execute_result"
    }
   ],
   "source": [
    "len(dataset['test'])"
   ]
  },
  {
   "cell_type": "code",
   "execution_count": 79,
   "metadata": {},
   "outputs": [
    {
     "data": {
      "text/plain": [
       "tensor([[-0.5400,  0.5351,  0.3146,  0.3190, -0.1910, -0.4357, -0.0950, -0.1917,\n",
       "         -0.2280, -0.0555]])"
      ]
     },
     "execution_count": 79,
     "metadata": {},
     "output_type": "execute_result"
    }
   ],
   "source": [
    "from transformers import AutoModelForImageClassification\n",
    "\n",
    "model = AutoModelForImageClassification.from_pretrained(\"vit_bone_fractures\")\n",
    "with torch.no_grad():\n",
    "    logits = model(inputs['pixel_values']).logits\n",
    "logits"
   ]
  },
  {
   "cell_type": "code",
   "execution_count": null,
   "metadata": {},
   "outputs": [],
   "source": []
  },
  {
   "cell_type": "code",
   "execution_count": null,
   "metadata": {},
   "outputs": [],
   "source": []
  },
  {
   "cell_type": "code",
   "execution_count": null,
   "metadata": {},
   "outputs": [],
   "source": []
  },
  {
   "cell_type": "code",
   "execution_count": 13,
   "metadata": {},
   "outputs": [
    {
     "name": "stdout",
     "output_type": "stream",
     "text": [
      "Renamed: image1 -> image1.jpg\n",
      "Renamed: image10 -> image2.jpg\n",
      "Renamed: image11 -> image3.jpg\n",
      "Renamed: image12 -> image4.jpg\n",
      "Renamed: image13 -> image5.jpg\n",
      "Renamed: image14 -> image6.jpg\n",
      "Renamed: image15 -> image7.jpg\n",
      "Renamed: image16 -> image8.jpg\n",
      "Renamed: image17 -> image9.jpg\n",
      "Renamed: image18 -> image10.jpg\n",
      "Renamed: image19 -> image11.jpg\n",
      "Renamed: image2 -> image12.jpg\n",
      "Renamed: image20 -> image13.jpg\n",
      "Renamed: image21 -> image14.jpg\n",
      "Renamed: image22 -> image15.jpg\n",
      "Renamed: image23 -> image16.jpg\n",
      "Renamed: image24 -> image17.jpg\n",
      "Renamed: image25 -> image18.jpg\n",
      "Renamed: image26 -> image19.jpg\n",
      "Renamed: image27 -> image20.jpg\n",
      "Renamed: image28 -> image21.jpg\n",
      "Renamed: image29 -> image22.jpg\n",
      "Renamed: image3 -> image23.jpg\n",
      "Renamed: image30 -> image24.jpg\n",
      "Renamed: image31 -> image25.jpg\n",
      "Renamed: image32 -> image26.jpg\n",
      "Renamed: image33 -> image27.jpg\n",
      "Renamed: image34 -> image28.jpg\n",
      "Renamed: image35 -> image29.jpg\n",
      "Renamed: image36 -> image30.jpg\n",
      "Renamed: image37 -> image31.jpg\n",
      "Renamed: image38 -> image32.jpg\n",
      "Renamed: image39 -> image33.jpg\n",
      "Renamed: image4 -> image34.jpg\n",
      "Renamed: image40 -> image35.jpg\n",
      "Renamed: image41 -> image36.jpg\n",
      "Renamed: image42 -> image37.jpg\n",
      "Renamed: image43 -> image38.jpg\n",
      "Renamed: image44 -> image39.jpg\n",
      "Renamed: image45 -> image40.jpg\n",
      "Renamed: image46 -> image41.jpg\n",
      "Renamed: image47 -> image42.jpg\n",
      "Renamed: image48 -> image43.jpg\n",
      "Renamed: image49 -> image44.jpg\n",
      "Renamed: image5 -> image45.jpg\n",
      "Renamed: image50 -> image46.jpg\n",
      "Renamed: image51 -> image47.jpg\n",
      "Renamed: image52 -> image48.jpg\n",
      "Renamed: image53 -> image49.jpg\n",
      "Renamed: image54 -> image50.jpg\n",
      "Renamed: image55 -> image51.jpg\n",
      "Renamed: image56 -> image52.jpg\n",
      "Renamed: image57 -> image53.jpg\n",
      "Renamed: image58 -> image54.jpg\n",
      "Renamed: image59 -> image55.jpg\n",
      "Renamed: image6 -> image56.jpg\n",
      "Renamed: image60 -> image57.jpg\n",
      "Renamed: image61 -> image58.jpg\n",
      "Renamed: image62 -> image59.jpg\n",
      "Renamed: image63 -> image60.jpg\n",
      "Renamed: image64 -> image61.jpg\n",
      "Renamed: image65 -> image62.jpg\n",
      "Renamed: image66 -> image63.jpg\n",
      "Renamed: image67 -> image64.jpg\n",
      "Renamed: image68 -> image65.jpg\n",
      "Renamed: image69.jpg.jpg -> image66.jpg\n",
      "Renamed: image7 -> image67.jpg\n",
      "Renamed: image8 -> image68.jpg\n",
      "Renamed: image9 -> image69.jpg\n",
      "Renaming complete.\n"
     ]
    }
   ],
   "source": [
    "import os\n",
    "\n",
    "# Set your directory path\n",
    "directory = r\"C:/Users/jonpg/OneDrive/Documents/School/CS 770/image_classification_covid/Bone Break Classification/Oblique fracture/Train/\"\n",
    "count = 1\n",
    "# Iterate through all files in the directory\n",
    "for filename in os.listdir(directory):\n",
    "    old_path = os.path.join(directory, filename)\n",
    "    \n",
    "    # Ensure it's a file\n",
    "    if os.path.isfile(old_path):\n",
    "        # Create a new filename by replacing spaces and special characters\n",
    "        new_filename = 'image' + str(count) + '.jpg' # filename.replace(\" \", \"_\").replace(\"-\", \"_\").replace(\",\", \"\").replace(\"'\", \"\")\n",
    "        \n",
    "        # # Shorten the name if too long\n",
    "        # if len(new_filename) > 50:\n",
    "        #     new_filename = new_filename[-50:]  # Truncate to 200 chars\n",
    "        \n",
    "        new_path = os.path.join(directory, new_filename)\n",
    "        \n",
    "        # Rename the file\n",
    "        os.rename(old_path, new_path)\n",
    "        print(f\"Renamed: {filename} -> {new_filename}\")\n",
    "        count += 1\n",
    "\n",
    "print(\"Renaming complete.\")\n"
   ]
  },
  {
   "cell_type": "code",
   "execution_count": null,
   "metadata": {},
   "outputs": [],
   "source": []
  }
 ],
 "metadata": {
  "kernelspec": {
   "display_name": "Python 3",
   "language": "python",
   "name": "python3"
  },
  "language_info": {
   "codemirror_mode": {
    "name": "ipython",
    "version": 3
   },
   "file_extension": ".py",
   "mimetype": "text/x-python",
   "name": "python",
   "nbconvert_exporter": "python",
   "pygments_lexer": "ipython3",
   "version": "3.10.11"
  }
 },
 "nbformat": 4,
 "nbformat_minor": 2
}
