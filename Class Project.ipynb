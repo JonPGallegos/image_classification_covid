{
 "cells": [
  {
   "cell_type": "markdown",
   "metadata": {},
   "source": [
    "# Models to use\n",
    "codewithdark/vit-chest-xray\n",
    "VIT - Transformer based\n",
    "https://arxiv.org/pdf/2010.11929\n",
    "While the Transformer architecture has become the de-facto standard for natural\n",
    "language processing tasks, its applications to computer vision remain limited. In\n",
    "vision, attention is either applied in conjunction with convolutional networks, or\n",
    "used to replace certain components of convolutional networks while keeping their\n",
    "overall structure in place. We show that this reliance on CNNs is not necessary\n",
    "and a pure transformer applied directly to sequences of image patches can perform\n",
    "very well on image classification tasks. When pre-trained on large amounts of\n",
    "data and transferred to multiple mid-sized or small image recognition benchmarks\n",
    "(ImageNet, CIFAR-100, VTAB, etc.), Vision Transformer (ViT) attains excellent\n",
    "results compared to state-of-the-art convolutional networks while requiring substantially fewer computational resources to train.\n",
    "\n",
    "DataMinds/cnn_brain_tumor_classification \n",
    "CNN\n",
    "Trained on brain tumor data that used MRIs. \n",
    "\n",
    "dyaminda/alexnet-pneumonia\n",
    "Alexnet - ImageNet Subclass?\n",
    "https://proceedings.neurips.cc/paper_files/paper/2012/file/c399862d3b9d6b76c8436e924a68c45b-Paper.pdf\n",
    "It contains eight learned layers —\n",
    "five convolutional and three fully-connected.\n",
    "\n",
    "ryefoxlime/PneumoniaDetection\n",
    "Resnet\n",
    "Finetuned Paper - https://pubmed.ncbi.nlm.nih.gov/32501424/\n",
    "Already trained on Covid-19, pneumonia and normal classes\n"
   ]
  },
  {
   "cell_type": "markdown",
   "metadata": {},
   "source": [
    "## Helpful Articles about CNNs and ImageNets\n",
    "https://towardsdatascience.com/the-w3h-of-alexnet-vggnet-resnet-and-inception-7baaaecccc96#:~:text=AlexNet%20was%20born%20out%20of,with%20an%20accuracy%20of%2073.8%25.\n",
    "\n"
   ]
  },
  {
   "cell_type": "code",
   "execution_count": null,
   "metadata": {},
   "outputs": [],
   "source": []
  }
 ],
 "metadata": {
  "language_info": {
   "name": "python"
  }
 },
 "nbformat": 4,
 "nbformat_minor": 2
}
